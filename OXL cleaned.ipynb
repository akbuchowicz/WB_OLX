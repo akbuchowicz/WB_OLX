{
 "cells": [
  {
   "cell_type": "markdown",
   "id": "2d1b2df2-62e6-4c95-beb9-d4be25d1de32",
   "metadata": {},
   "source": [
    "# Library import and data loading"
   ]
  },
  {
   "cell_type": "code",
   "execution_count": 221,
   "id": "deaa23ff-52fb-4ae6-a092-8e953458092f",
   "metadata": {},
   "outputs": [],
   "source": [
    "import numpy as np\n",
    "import pandas as pd\n",
    "import matplotlib\n",
    "import matplotlib.pyplot as plt\n",
    "import seaborn as sns\n",
    "from datetime import datetime\n",
    "from sklearn.model_selection import train_test_split\n",
    "import random\n",
    "import scipy.sparse as sp\n",
    "from scipy import stats\n",
    "from libreco.data import random_split, DatasetPure, split_by_ratio_chrono\n",
    "from libreco.algorithms import LightGCN\n",
    "from libreco.evaluation import evaluate"
   ]
  },
  {
   "cell_type": "code",
   "execution_count": 222,
   "id": "67fc10cc-2078-4eda-b150-ba0e03291162",
   "metadata": {},
   "outputs": [],
   "source": [
    "df = pd.read_csv(#\"C:\\\\Users\\\\marci\\\\OneDrive\\\\Pulpit\\\\archive\\\\interactions.csv\",\n",
    "                 \"C:\\\\Users\\\\fpazi\\\\Desktop\\\\projekty\\\\olx\\\\interactions.csv\",\n",
    "                 sep=',')"
   ]
  },
  {
   "cell_type": "markdown",
   "id": "8dbef574",
   "metadata": {},
   "source": [
    "# EDA"
   ]
  },
  {
   "cell_type": "markdown",
   "id": "a53b251b-372c-43f6-9223-e6eebf7bc745",
   "metadata": {},
   "source": [
    "## Basic statistics"
   ]
  },
  {
   "cell_type": "code",
   "execution_count": 223,
   "id": "2d69398d-287a-4ad7-b0b6-49e0d6bc6114",
   "metadata": {},
   "outputs": [
    {
     "data": {
      "text/plain": [
       "event\n",
       "click                    58817263\n",
       "contact_phone_click_1     1721338\n",
       "bookmark                  1644602\n",
       "chat_click                1399051\n",
       "contact_chat               948470\n",
       "contact_partner_click      459305\n",
       "contact_phone_click_2      444497\n",
       "contact_phone_click_3       67675\n",
       "Name: count, dtype: int64"
      ]
     },
     "execution_count": 223,
     "metadata": {},
     "output_type": "execute_result"
    }
   ],
   "source": [
    "df['event'].value_counts()"
   ]
  },
  {
   "cell_type": "code",
   "execution_count": 224,
   "id": "579ed43d-48f0-4047-b16a-f6e4c712d89e",
   "metadata": {},
   "outputs": [
    {
     "name": "stdout",
     "output_type": "stream",
     "text": [
      "<class 'pandas.core.frame.DataFrame'>\n",
      "RangeIndex: 65502201 entries, 0 to 65502200\n",
      "Data columns (total 4 columns):\n",
      " #   Column     Dtype \n",
      "---  ------     ----- \n",
      " 0   user       int64 \n",
      " 1   item       int64 \n",
      " 2   event      object\n",
      " 3   timestamp  int64 \n",
      "dtypes: int64(3), object(1)\n",
      "memory usage: 2.0+ GB\n"
     ]
    }
   ],
   "source": [
    "df.info()"
   ]
  },
  {
   "cell_type": "code",
   "execution_count": 225,
   "id": "53e74fc1-c6f8-463a-b82a-df59d701f5c6",
   "metadata": {},
   "outputs": [
    {
     "name": "stdout",
     "output_type": "stream",
     "text": [
      "Number of users:  3295942\n",
      "Number of items:  185395\n"
     ]
    }
   ],
   "source": [
    "n_users = df['user'].nunique()\n",
    "n_items = df['item'].nunique()\n",
    "\n",
    "print('Number of users: ', n_users)\n",
    "print('Number of items: ', n_items)"
   ]
  },
  {
   "cell_type": "code",
   "execution_count": 226,
   "id": "65f078bf-7768-43ef-83d3-b2d74625c254",
   "metadata": {},
   "outputs": [
    {
     "name": "stdout",
     "output_type": "stream",
     "text": [
      "Average number of events per user:  19.87  with a standard deviation of  47.762363188402105\n",
      "Average number of events per item:  353.31  with a standard deviation of  624.7732106025969\n"
     ]
    }
   ],
   "source": [
    "n_events_per_user = df.groupby('user').size()\n",
    "n_events_per_item = df.groupby('item').size()\n",
    "\n",
    "print('Average number of events per user: ', round(np.mean(n_events_per_user), 2), ' with a standard deviation of ', np.std(n_events_per_user))\n",
    "print('Average number of events per item: ', round(np.mean(n_events_per_item), 2), ' with a standard deviation of ', np.std(n_events_per_item))"
   ]
  },
  {
   "cell_type": "code",
   "execution_count": 227,
   "id": "8056ad6c-56b0-4ea9-9310-123e19fd1293",
   "metadata": {},
   "outputs": [
    {
     "name": "stdout",
     "output_type": "stream",
     "text": [
      "Median number of events per user:  6.0\n",
      "Median number of events per item:  137.0\n"
     ]
    }
   ],
   "source": [
    "print('Median number of events per user: ', round(np.median(n_events_per_user), 2))\n",
    "print('Median number of events per item: ', round(np.median(n_events_per_item), 2))"
   ]
  },
  {
   "cell_type": "markdown",
   "id": "bbdc488c-dbf4-44ab-a73a-627701c732d7",
   "metadata": {},
   "source": [
    "## Number of interactions per user"
   ]
  },
  {
   "cell_type": "code",
   "execution_count": 228,
   "id": "1cdeeb15-09cc-48d3-9c11-a5cfa8b785fd",
   "metadata": {},
   "outputs": [
    {
     "data": {
      "text/plain": [
       "count    3.295942e+06\n",
       "mean     1.987359e+01\n",
       "std      4.776237e+01\n",
       "min      1.000000e+00\n",
       "25%      2.000000e+00\n",
       "50%      6.000000e+00\n",
       "75%      1.800000e+01\n",
       "max      1.310000e+03\n",
       "dtype: float64"
      ]
     },
     "execution_count": 228,
     "metadata": {},
     "output_type": "execute_result"
    }
   ],
   "source": [
    "n_events_per_user.describe()"
   ]
  },
  {
   "cell_type": "code",
   "execution_count": 229,
   "id": "3b276307-028c-4dc7-8961-ea00d154759a",
   "metadata": {},
   "outputs": [
    {
     "data": {
      "text/plain": [
       "Text(0.5, 1.0, 'ECDF of interactions per user.')"
      ]
     },
     "execution_count": 229,
     "metadata": {},
     "output_type": "execute_result"
    },
    {
     "data": {
      "image/png": "[encoded data removed]",
      "text/plain": [
       "<Figure size 640x480 with 1 Axes>"
      ]
     },
     "metadata": {},
     "output_type": "display_data"
    }
   ],
   "source": [
    "sns.ecdfplot(n_events_per_user).set_title(\"ECDF of interactions per user.\")"
   ]
  },
  {
   "cell_type": "code",
   "execution_count": 230,
   "id": "37e3d224-9ec5-4309-bebe-95f6d171a20b",
   "metadata": {},
   "outputs": [
    {
     "data": {
      "text/plain": [
       "Text(0.5, 1.0, 'Histogram of log(interactions) per item.')"
      ]
     },
     "execution_count": 230,
     "metadata": {},
     "output_type": "execute_result"
    },
    {
     "data": {
      "image/png": "[encoded data removed]",
      "text/plain": [
       "<Figure size 640x480 with 1 Axes>"
      ]
     },
     "metadata": {},
     "output_type": "display_data"
    }
   ],
   "source": [
    "h1 = sns.histplot(n_events_per_user, bins=30)\n",
    "h1.set_yscale(\"log\")\n",
    "h1.set_title(\"Histogram of log(interactions) per item.\")"
   ]
  },
  {
   "cell_type": "markdown",
   "id": "8bfdd881-fd0e-4334-8da1-cac6f55ecbe2",
   "metadata": {},
   "source": [
    "Logarithmic scale :D events vs users/items"
   ]
  },
  {
   "cell_type": "code",
   "execution_count": 231,
   "id": "f5351918-3a4e-431a-9a51-bbd50bbca980",
   "metadata": {},
   "outputs": [
    {
     "data": {
      "text/plain": [
       "Text(0.5, 1.0, 'Boxplot of interactions per user.')"
      ]
     },
     "execution_count": 231,
     "metadata": {},
     "output_type": "execute_result"
    },
    {
     "data": {
      "image/png": "[encoded data removed]",
      "text/plain": [
       "<Figure size 640x480 with 1 Axes>"
      ]
     },
     "metadata": {},
     "output_type": "display_data"
    }
   ],
   "source": [
    "sns.boxplot(n_events_per_user).set_title(\"Boxplot of interactions per user.\")"
   ]
  },
  {
   "cell_type": "code",
   "execution_count": 232,
   "id": "6f8f1cb7-7b35-4d70-935c-74fd376921b4",
   "metadata": {},
   "outputs": [
    {
     "data": {
      "text/plain": [
       "Text(0.5, 1.0, 'Boxplot of log(interactions) per user.')"
      ]
     },
     "execution_count": 232,
     "metadata": {},
     "output_type": "execute_result"
    },
    {
     "data": {
      "image/png": "[encoded data removed]",
      "text/plain": [
       "<Figure size 640x480 with 1 Axes>"
      ]
     },
     "metadata": {},
     "output_type": "display_data"
    }
   ],
   "source": [
    "h = sns.boxplot(n_events_per_user)\n",
    "h.set_yscale('log')\n",
    "h.set_title(\"Boxplot of log(interactions) per user.\")"
   ]
  },
  {
   "cell_type": "markdown",
   "id": "b0a64da1-9c13-405c-8e5d-435c6bc8a0a8",
   "metadata": {},
   "source": [
    "## Number of interactions per item"
   ]
  },
  {
   "cell_type": "code",
   "execution_count": 233,
   "id": "f655eb71-702c-4e2e-aa4d-7b75468e8f9c",
   "metadata": {},
   "outputs": [
    {
     "data": {
      "text/plain": [
       "count    185395.000000\n",
       "mean        353.311583\n",
       "std         624.774896\n",
       "min           1.000000\n",
       "25%           3.000000\n",
       "50%         137.000000\n",
       "75%         428.000000\n",
       "max       15480.000000\n",
       "dtype: float64"
      ]
     },
     "execution_count": 233,
     "metadata": {},
     "output_type": "execute_result"
    }
   ],
   "source": [
    "n_events_per_item.describe()"
   ]
  },
  {
   "cell_type": "code",
   "execution_count": 234,
   "id": "8247cd42-ba42-4f1d-9731-24988d11bc35",
   "metadata": {},
   "outputs": [
    {
     "data": {
      "text/plain": [
       "Text(0.5, 1.0, 'ECDF of interactions per plot.')"
      ]
     },
     "execution_count": 234,
     "metadata": {},
     "output_type": "execute_result"
    },
    {
     "data": {
      "image/png": "[encoded data removed]",
      "text/plain": [
       "<Figure size 640x480 with 1 Axes>"
      ]
     },
     "metadata": {},
     "output_type": "display_data"
    }
   ],
   "source": [
    "sns.ecdfplot(n_events_per_item, color='orange').set_title('ECDF of interactions per item.')"
   ]
  },
  {
   "cell_type": "code",
   "execution_count": 235,
   "id": "70c34cc9-e7df-4e89-bb01-4b08df0e903d",
   "metadata": {},
   "outputs": [
    {
     "data": {
      "text/plain": [
       "<Axes: title={'center': 'Histogram of log(interactions) per item.'}, ylabel='Count'>"
      ]
     },
     "execution_count": 235,
     "metadata": {},
     "output_type": "execute_result"
    },
    {
     "data": {
      "image/png": "[encoded data removed]",
      "text/plain": [
       "<Figure size 640x480 with 1 Axes>"
      ]
     },
     "metadata": {},
     "output_type": "display_data"
    }
   ],
   "source": [
    "h2 = sns.histplot(n_events_per_item, bins=30, color='orange')\n",
    "h2.set_yscale(\"log\")\n",
    "h2.set_title(\"Histogram of log(interactions) per item.\")\n",
    "h2"
   ]
  },
  {
   "cell_type": "code",
   "execution_count": 236,
   "id": "cbb1fde3-50df-4351-82e0-1fd80e210839",
   "metadata": {},
   "outputs": [
    {
     "data": {
      "text/plain": [
       "Text(0.5, 1.0, 'Boxplot of interactions per item.')"
      ]
     },
     "execution_count": 236,
     "metadata": {},
     "output_type": "execute_result"
    },
    {
     "data": {
      "image/png": "[encoded data removed]",
      "text/plain": [
       "<Figure size 640x480 with 1 Axes>"
      ]
     },
     "metadata": {},
     "output_type": "display_data"
    }
   ],
   "source": [
    "sns.boxplot(n_events_per_item, color='orange').set_title(\"Boxplot of interactions per item.\")"
   ]
  },
  {
   "cell_type": "code",
   "execution_count": 237,
   "id": "74b3ade9-b40b-4429-b84e-4c374bbaf455",
   "metadata": {},
   "outputs": [
    {
     "data": {
      "text/plain": [
       "<Axes: title={'center': 'Boxplot of log(interactions) per item.'}>"
      ]
     },
     "execution_count": 237,
     "metadata": {},
     "output_type": "execute_result"
    },
    {
     "data": {
      "image/png": "[encoded data removed]",
      "text/plain": [
       "<Figure size 640x480 with 1 Axes>"
      ]
     },
     "metadata": {},
     "output_type": "display_data"
    }
   ],
   "source": [
    "h4 = sns.boxplot(n_events_per_item, color='orange')\n",
    "h4.set_yscale('log')\n",
    "h4.set_title('Boxplot of log(interactions) per item.')\n",
    "h4"
   ]
  },
  {
   "cell_type": "markdown",
   "id": "618b056d-e2b5-4c5f-bbb9-ed44a570666f",
   "metadata": {},
   "source": [
    "# Data pre-processing"
   ]
  },
  {
   "cell_type": "markdown",
   "id": "7bf99742-2a15-409c-9f08-c8e41fb0e646",
   "metadata": {},
   "source": [
    "Split the values from the `event` column so that we can tailor our data frame to the task."
   ]
  },
  {
   "cell_type": "code",
   "execution_count": 238,
   "id": "1ffd56f4-eb0b-4404-a8f2-378c688644e7",
   "metadata": {},
   "outputs": [],
   "source": [
    "rating = {\n",
    "    'click': 1,\n",
    "    'bookmark': 2,\n",
    "    'chat_click': 3,\n",
    "    'contact_phone_click_1': 3,\n",
    "    'contact_partner_click': 3,\n",
    "    'contact_phone_click_2': 3,\n",
    "    'contact_phone_click_3': 3,\n",
    "    'contact_chat': 3\n",
    "}\n",
    "df['event'] = df['event'].map(rating)\n",
    "df = df.rename(columns={'event': 'label'})\n",
    "df = df.rename(columns={'timestamp': 'time'})"
   ]
  },
  {
   "cell_type": "code",
   "execution_count": 239,
   "id": "40dc3a73-c06e-4bab-b071-1599ed6436b6",
   "metadata": {},
   "outputs": [
    {
     "data": {
      "text/plain": [
       "count    3.295942e+06\n",
       "mean     1.987359e+01\n",
       "std      4.776237e+01\n",
       "min      1.000000e+00\n",
       "25%      2.000000e+00\n",
       "50%      6.000000e+00\n",
       "75%      1.800000e+01\n",
       "max      1.310000e+03\n",
       "Name: count, dtype: float64"
      ]
     },
     "execution_count": 239,
     "metadata": {},
     "output_type": "execute_result"
    }
   ],
   "source": [
    "user_interaction_counts = df['user'].value_counts()\n",
    "user_interaction_counts.describe()"
   ]
  },
  {
   "cell_type": "markdown",
   "id": "93819256",
   "metadata": {},
   "source": [
    "We get rid of users with less than 100 interactions. In this way, we hope to weed out users who are not regulars. <br>We get rid of outliers using the 8 sigma method."
   ]
  },
  {
   "cell_type": "code",
   "execution_count": 240,
   "id": "1e5c3fc0",
   "metadata": {},
   "outputs": [],
   "source": [
    "reg_users = user_interaction_counts[user_interaction_counts >= 100]\n",
    "users_to_keep = reg_users[reg_users <= reg_users.mean() + 8*reg_users.std()].index\n",
    "df = df[df['user'].isin(users_to_keep)]"
   ]
  },
  {
   "cell_type": "code",
   "execution_count": 241,
   "id": "ddfc7d54-04c3-4bac-a129-a350e28f8442",
   "metadata": {},
   "outputs": [
    {
     "data": {
      "text/plain": [
       "count    123531.000000\n",
       "mean        202.475403\n",
       "std         134.874360\n",
       "min         100.000000\n",
       "25%         121.000000\n",
       "50%         156.000000\n",
       "75%         229.000000\n",
       "max        1283.000000\n",
       "dtype: float64"
      ]
     },
     "execution_count": 241,
     "metadata": {},
     "output_type": "execute_result"
    }
   ],
   "source": [
    "n_events_per_user = df.groupby('user').size()\n",
    "n_events_per_user.describe()"
   ]
  },
  {
   "cell_type": "code",
   "execution_count": 242,
   "id": "d5c693cd",
   "metadata": {},
   "outputs": [
    {
     "data": {
      "image/png": "[encoded data removed]",
      "text/plain": [
       "<Figure size 1500x500 with 2 Axes>"
      ]
     },
     "metadata": {},
     "output_type": "display_data"
    }
   ],
   "source": [
    "figure, axis = plt.subplots(1, 2, figsize=(15,5))\n",
    "stats.probplot(user_interaction_counts, dist='norm', plot=axis[0])\n",
    "axis[0].set_title(\"Before transformation\")\n",
    "\n",
    "stats.probplot(n_events_per_user, dist='norm', plot=axis[1])\n",
    "axis[1].set_title(\"After transformation\")\n",
    "\n",
    "figure.suptitle(\"Normal QQPlots\")\n",
    "plt.show()"
   ]
  },
  {
   "cell_type": "code",
   "execution_count": 243,
   "id": "2a692588-fad7-42da-b8b4-7bd202d4a4e4",
   "metadata": {},
   "outputs": [
    {
     "data": {
      "text/plain": [
       "<Axes: title={'center': 'Histogram of log(interactions) per user.'}, ylabel='Count'>"
      ]
     },
     "execution_count": 243,
     "metadata": {},
     "output_type": "execute_result"
    },
    {
     "data": {
      "image/png": "[encoded data removed]",
      "text/plain": [
       "<Figure size 640x480 with 1 Axes>"
      ]
     },
     "metadata": {},
     "output_type": "display_data"
    }
   ],
   "source": [
    "h1 = sns.histplot(n_events_per_user, bins=30)\n",
    "h1.set_yscale(\"log\")\n",
    "h1.set_title('Histogram of log(interactions) per user.')\n",
    "h1"
   ]
  },
  {
   "cell_type": "code",
   "execution_count": 244,
   "id": "2e1d0d1c-afeb-4110-9978-4b8f69038492",
   "metadata": {},
   "outputs": [
    {
     "data": {
      "text/plain": [
       "Text(0.5, 1.0, 'Boxplot of interactions per user.')"
      ]
     },
     "execution_count": 244,
     "metadata": {},
     "output_type": "execute_result"
    },
    {
     "data": {
      "image/png": "[encoded data removed]",
      "text/plain": [
       "<Figure size 640x480 with 1 Axes>"
      ]
     },
     "metadata": {},
     "output_type": "display_data"
    }
   ],
   "source": [
    "sns.boxplot(n_events_per_user.values).set_title('Boxplot of interactions per user.')"
   ]
  },
  {
   "cell_type": "code",
   "execution_count": 245,
   "id": "94fc63ab-519f-4a53-bd63-4a42bbd2d4b7",
   "metadata": {},
   "outputs": [
    {
     "data": {
      "text/plain": [
       "<Axes: title={'center': 'Boxplot of log(number of interactions) per user.'}>"
      ]
     },
     "execution_count": 245,
     "metadata": {},
     "output_type": "execute_result"
    },
    {
     "data": {
      "image/png": "[encoded data removed]",
      "text/plain": [
       "<Figure size 640x480 with 1 Axes>"
      ]
     },
     "metadata": {},
     "output_type": "display_data"
    }
   ],
   "source": [
    "h = sns.boxplot(n_events_per_user.values)\n",
    "h.set_yscale('log')\n",
    "h.set_title('Boxplot of log(number of interactions) per user.')\n",
    "h"
   ]
  },
  {
   "cell_type": "markdown",
   "id": "576ca802",
   "metadata": {},
   "source": [
    "We get rid of items with fewer than 1,000 interactions. In doing so, we hope to retain items that enjoy at least moderate success. <br>We get rid of outliers using the 8 sigma method."
   ]
  },
  {
   "cell_type": "code",
   "execution_count": 246,
   "id": "8cdd28ab",
   "metadata": {},
   "outputs": [],
   "source": [
    "item_interaction_counts = df['item'].value_counts()"
   ]
  },
  {
   "cell_type": "code",
   "execution_count": 247,
   "id": "c6803792",
   "metadata": {},
   "outputs": [
    {
     "data": {
      "text/plain": [
       "count    145085.000000\n",
       "mean        172.395416\n",
       "std         298.115472\n",
       "min           1.000000\n",
       "25%          23.000000\n",
       "50%          74.000000\n",
       "75%         195.000000\n",
       "max        7276.000000\n",
       "Name: count, dtype: float64"
      ]
     },
     "execution_count": 247,
     "metadata": {},
     "output_type": "execute_result"
    }
   ],
   "source": [
    "item_interaction_counts.describe()"
   ]
  },
  {
   "cell_type": "code",
   "execution_count": 248,
   "id": "d1dc7977",
   "metadata": {},
   "outputs": [],
   "source": [
    "popular_item = item_interaction_counts[item_interaction_counts >= 1000]\n",
    "items_to_keep = popular_item[popular_item <= popular_item.mean() + 8*popular_item.std()].index\n",
    "df = df[df['item'].isin(items_to_keep)].reset_index(drop=True)"
   ]
  },
  {
   "cell_type": "code",
   "execution_count": 249,
   "id": "af82d82f",
   "metadata": {},
   "outputs": [
    {
     "data": {
      "text/plain": [
       "count    3290.000000\n",
       "mean     1577.923100\n",
       "std       693.458523\n",
       "min      1000.000000\n",
       "25%      1139.000000\n",
       "50%      1355.000000\n",
       "75%      1754.000000\n",
       "max      7080.000000\n",
       "dtype: float64"
      ]
     },
     "execution_count": 249,
     "metadata": {},
     "output_type": "execute_result"
    }
   ],
   "source": [
    "n_events_per_item = df.groupby('item').size()\n",
    "n_events_per_item.describe()"
   ]
  },
  {
   "cell_type": "code",
   "execution_count": 250,
   "id": "40f0b91a",
   "metadata": {},
   "outputs": [
    {
     "data": {
      "image/png": "[encoded data removed]",
      "text/plain": [
       "<Figure size 1500x500 with 2 Axes>"
      ]
     },
     "metadata": {},
     "output_type": "display_data"
    }
   ],
   "source": [
    "figure, axis = plt.subplots(1, 2, figsize=(15,5))\n",
    "stats.probplot(item_interaction_counts, dist='norm', plot=axis[0])\n",
    "axis[0].set_title(\"Before transformation\")\n",
    "\n",
    "stats.probplot(n_events_per_item, dist='norm', plot=axis[1])\n",
    "axis[1].set_title(\"After transformation\")\n",
    "\n",
    "figure.suptitle(\"Normal QQPlots\")\n",
    "plt.show()\n",
    "# nie za bardzo umiem kolor zmienić więc zostawie tak"
   ]
  },
  {
   "cell_type": "code",
   "execution_count": 251,
   "id": "d11a8c3a-6fbd-4352-8562-e2af7666748f",
   "metadata": {},
   "outputs": [
    {
     "data": {
      "text/plain": [
       "<Axes: title={'center': 'Histogram of log(interactions) per item.'}, ylabel='Count'>"
      ]
     },
     "execution_count": 251,
     "metadata": {},
     "output_type": "execute_result"
    },
    {
     "data": {
      "image/png": "[encoded data removed]",
      "text/plain": [
       "<Figure size 640x480 with 1 Axes>"
      ]
     },
     "metadata": {},
     "output_type": "display_data"
    }
   ],
   "source": [
    "h2 = sns.histplot(n_events_per_item, bins=30, color='orange')\n",
    "h2.set_yscale(\"log\")\n",
    "h2.set_title(\"Histogram of log(interactions) per item.\")\n",
    "h2"
   ]
  },
  {
   "cell_type": "code",
   "execution_count": 252,
   "id": "d7e9a42e-2675-4a75-9c8b-1094203eeef3",
   "metadata": {},
   "outputs": [
    {
     "data": {
      "text/plain": [
       "Text(0.5, 1.0, 'Boxplot of interactions per item.')"
      ]
     },
     "execution_count": 252,
     "metadata": {},
     "output_type": "execute_result"
    },
    {
     "data": {
      "image/png": "[encoded data removed]",
      "text/plain": [
       "<Figure size 640x480 with 1 Axes>"
      ]
     },
     "metadata": {},
     "output_type": "display_data"
    }
   ],
   "source": [
    "sns.boxplot(n_events_per_item.values, color='orange').set_title(\"Boxplot of interactions per item.\")"
   ]
  },
  {
   "cell_type": "code",
   "execution_count": 253,
   "id": "edc9707a-10f2-4932-adc6-de555438b508",
   "metadata": {},
   "outputs": [
    {
     "data": {
      "text/plain": [
       "<Axes: title={'center': 'Boxplot of log(number of interactions) per item.'}>"
      ]
     },
     "execution_count": 253,
     "metadata": {},
     "output_type": "execute_result"
    },
    {
     "data": {
      "image/png": "[encoded data removed]",
      "text/plain": [
       "<Figure size 640x480 with 1 Axes>"
      ]
     },
     "metadata": {},
     "output_type": "display_data"
    }
   ],
   "source": [
    "h4 = sns.boxplot(n_events_per_item.values, color='orange')\n",
    "h4.set_yscale('log')\n",
    "h4.set_title(\"Boxplot of log(number of interactions) per item.\")\n",
    "h4"
   ]
  },
  {
   "cell_type": "markdown",
   "id": "1e2cc6ca-ec5e-4cfe-98f7-202e9e27bd8a",
   "metadata": {},
   "source": [
    " First filtering of the data frame. We select the 20% of users with the highest number of interactions."
   ]
  },
  {
   "cell_type": "code",
   "execution_count": 254,
   "id": "dcba46ab-c3a3-4dd9-bd84-3141049c7bc4",
   "metadata": {},
   "outputs": [],
   "source": [
    "user_interaction_counts = df['user'].value_counts()\n",
    "\n",
    "top_20_threshold = user_interaction_counts.quantile(0.8)\n",
    "\n",
    "top_20_users = user_interaction_counts[user_interaction_counts >= top_20_threshold].index\n",
    "\n",
    "filtered_df = df[df['user'].isin(top_20_users)]"
   ]
  },
  {
   "cell_type": "code",
   "execution_count": 255,
   "id": "0f26266f-8396-43f2-912f-52bbe6ecd032",
   "metadata": {},
   "outputs": [
    {
     "data": {
      "text/plain": [
       "count    25027.000000\n",
       "mean       110.009030\n",
       "std         60.541146\n",
       "min         61.000000\n",
       "25%         72.000000\n",
       "50%         89.000000\n",
       "75%        124.000000\n",
       "max       1073.000000\n",
       "Name: count, dtype: float64"
      ]
     },
     "execution_count": 255,
     "metadata": {},
     "output_type": "execute_result"
    }
   ],
   "source": [
    "user_interaction_counts = filtered_df['user'].value_counts()\n",
    "\n",
    "user_interaction_counts.describe()"
   ]
  },
  {
   "cell_type": "markdown",
   "id": "0ef28301",
   "metadata": {},
   "source": [
    "We do the same for the items."
   ]
  },
  {
   "cell_type": "code",
   "execution_count": 256,
   "id": "f5cf43fe-563d-405f-a878-6837c85ea3db",
   "metadata": {},
   "outputs": [],
   "source": [
    "item_interaction_counts = df['item'].value_counts()\n",
    "\n",
    "top_20_threshold = item_interaction_counts.quantile(0.8)\n",
    "\n",
    "top_20_items = item_interaction_counts[item_interaction_counts >= top_20_threshold].index\n",
    "\n",
    "filtered_df = filtered_df[filtered_df['item'].isin(top_20_items)]"
   ]
  },
  {
   "cell_type": "code",
   "execution_count": 257,
   "id": "dc788ebe-35d1-425a-9b0e-b36071e8cd47",
   "metadata": {},
   "outputs": [
    {
     "data": {
      "text/plain": [
       "count     658.000000\n",
       "mean     1560.200608\n",
       "std       721.665109\n",
       "min       191.000000\n",
       "25%      1110.500000\n",
       "50%      1428.000000\n",
       "75%      1803.750000\n",
       "max      5243.000000\n",
       "Name: count, dtype: float64"
      ]
     },
     "execution_count": 257,
     "metadata": {},
     "output_type": "execute_result"
    }
   ],
   "source": [
    "item_interaction_counts = filtered_df['item'].value_counts()\n",
    "\n",
    "item_interaction_counts.describe()"
   ]
  },
  {
   "cell_type": "markdown",
   "id": "0bfcec25-62cf-49a8-96a5-d77036c88035",
   "metadata": {},
   "source": [
    "We compare the ratio of items/users in the input data frame and the filtered one. As we can see, the ratio is almost identical."
   ]
  },
  {
   "cell_type": "code",
   "execution_count": 258,
   "id": "d3a14eb6-4625-46b9-ba54-7fc6eb31c011",
   "metadata": {},
   "outputs": [
    {
     "name": "stdout",
     "output_type": "stream",
     "text": [
      "Number of users: 25013\n",
      "Number of items: 658\n",
      "Ratio of items to users after filtering: 2.630632071322912\n",
      "Ratio of items to users before filtering: 2.6687649053359075\n"
     ]
    }
   ],
   "source": [
    "count_users_before = df['user'].nunique()\n",
    "count_items_before = df['item'].nunique()\n",
    "count_users = filtered_df['user'].nunique()\n",
    "print(f\"Number of users: {count_users}\")\n",
    "count_items = filtered_df['item'].nunique()\n",
    "print(f\"Number of items: {count_items}\")\n",
    "print(f\"Ratio of items to users after filtering: {count_items/count_users * 100}\")\n",
    "print(f\"Ratio of items to users before filtering: {count_items_before/count_users_before * 100}\")"
   ]
  },
  {
   "cell_type": "markdown",
   "id": "d8cc2883-696a-4905-adc4-9f4eeafafb26",
   "metadata": {},
   "source": [
    "Another filtering of the data frame.<br>\n",
    "Now we randomly select $x\\% $ of unique objects and users so that the machines we are working on do not have memory problems."
   ]
  },
  {
   "cell_type": "code",
   "execution_count": 259,
   "id": "2f497bc9-b221-46f2-8ae0-3ba7b0449301",
   "metadata": {},
   "outputs": [],
   "source": [
    "sample_percent = 1\n",
    "\n",
    "sampled_users = filtered_df.drop_duplicates('user').sample(frac=sample_percent, random_state=2024)\n",
    "\n",
    "sampled_items = filtered_df.drop_duplicates('item').sample(frac=sample_percent, random_state=2024)\n",
    "\n",
    "filtered_df_users = filtered_df[filtered_df['user'].isin(sampled_users['user'])]\n",
    "\n",
    "filtered_df = filtered_df_users[filtered_df_users['item'].isin(sampled_items['item'])]"
   ]
  },
  {
   "cell_type": "markdown",
   "id": "c6879e08-1f3e-47e0-a7e2-9fb4206d159f",
   "metadata": {},
   "source": [
    "Again, let's check the item/user ratio."
   ]
  },
  {
   "cell_type": "code",
   "execution_count": 260,
   "id": "51820449-aa69-4bab-9f8e-99cf0a4d343b",
   "metadata": {},
   "outputs": [
    {
     "name": "stdout",
     "output_type": "stream",
     "text": [
      "Number of users: 25013\n",
      "Number of items: 658\n",
      "Ratio of items to users after filtering: 2.630632071322912\n",
      "Ratio of items to users before filtering: 2.6687649053359075\n"
     ]
    }
   ],
   "source": [
    "count_users = filtered_df['user'].nunique()\n",
    "print(f\"Number of users: {count_users}\")\n",
    "count_items = filtered_df['item'].nunique()\n",
    "print(f\"Number of items: {count_items}\")\n",
    "print(f\"Ratio of items to users after filtering: {count_items/count_users * 100}\")\n",
    "print(f\"Ratio of items to users before filtering: {count_items_before/count_users_before * 100}\")"
   ]
  },
  {
   "cell_type": "markdown",
   "id": "a511ca5c",
   "metadata": {},
   "source": [
    "# Creating the model"
   ]
  },
  {
   "cell_type": "markdown",
   "id": "ba43667b-bb92-4c2a-b3a2-08e67c5ac997",
   "metadata": {},
   "source": [
    "We implement code from the LibRecommender library that divides the data into a training and evaluation set."
   ]
  },
  {
   "cell_type": "code",
   "execution_count": 261,
   "id": "63784e71-5702-44de-8663-39ecfffce5bc",
   "metadata": {},
   "outputs": [
    {
     "name": "stdout",
     "output_type": "stream",
     "text": [
      "n_users: 24995, n_items: 658, data density: 4.3694 %\n"
     ]
    }
   ],
   "source": [
    "train_data, eval_data, test_data = random_split(filtered_df, multi_ratios=[0.7, 0.1, 0.2])\n",
    "train_data, data_info = DatasetPure.build_trainset(train_data)\n",
    "eval_data = DatasetPure.build_evalset(eval_data)\n",
    "test_data = DatasetPure.build_testset(test_data)\n",
    "print(data_info)"
   ]
  },
  {
   "cell_type": "code",
   "execution_count": 262,
   "id": "03fb946f-6c09-41b9-94d5-a60fe3b7b097",
   "metadata": {},
   "outputs": [],
   "source": [
    "lightgcn = LightGCN(\n",
    "    task=\"ranking\",\n",
    "    data_info=data_info,\n",
    "    loss_type=\"bpr\",\n",
    "    embed_size=32,\n",
    "    n_epochs=3,\n",
    "    lr=1e-3,\n",
    "    batch_size=2048,\n",
    "    num_neg=1,\n",
    "    device=\"cuda\"\n",
    ")"
   ]
  },
  {
   "cell_type": "code",
   "execution_count": 263,
   "id": "04ad33bd-44a1-43fe-88fb-a8b09ab40ef2",
   "metadata": {},
   "outputs": [
    {
     "name": "stdout",
     "output_type": "stream",
     "text": [
      "Training start time: \u001b[35m2024-03-06 22:31:15\u001b[0m\n"
     ]
    },
    {
     "name": "stderr",
     "output_type": "stream",
     "text": [
      "train: 100%|██████████| 351/351 [01:44<00:00,  3.35it/s]\n"
     ]
    },
    {
     "name": "stdout",
     "output_type": "stream",
     "text": [
      "Epoch 1 elapsed: 104.651s\n",
      "\t \u001b[32mtrain_loss: 0.4872\u001b[0m\n"
     ]
    },
    {
     "name": "stderr",
     "output_type": "stream",
     "text": [
      "eval_pointwise: 100%|██████████| 26/26 [00:00<00:00, 328.19it/s]\n",
      "c:\\Users\\fpazi\\anaconda3\\envs\\olx\\Lib\\site-packages\\sklearn\\metrics\\_classification.py:2910: FutureWarning: Setting the eps parameter is deprecated and will be removed in 1.5. Instead eps will always havea default value of `np.finfo(y_pred.dtype).eps`.\n",
      "  warnings.warn(\n",
      "eval_listwise: 100%|██████████| 1930/1930 [00:03<00:00, 550.17it/s]\n"
     ]
    },
    {
     "name": "stdout",
     "output_type": "stream",
     "text": [
      "\t eval log_loss: 0.5134\n",
      "\t eval precision@10: 0.0276\n",
      "\t eval recall@10: 0.0756\n",
      "\t eval ndcg@10: 0.1216\n",
      "\t eval map@10: 0.0866\n",
      "==============================\n"
     ]
    },
    {
     "name": "stderr",
     "output_type": "stream",
     "text": [
      "train: 100%|██████████| 351/351 [01:44<00:00,  3.35it/s]\n"
     ]
    },
    {
     "name": "stdout",
     "output_type": "stream",
     "text": [
      "Epoch 2 elapsed: 104.835s\n",
      "\t \u001b[32mtrain_loss: 0.245\u001b[0m\n"
     ]
    },
    {
     "name": "stderr",
     "output_type": "stream",
     "text": [
      "eval_pointwise: 100%|██████████| 26/26 [00:00<00:00, 396.41it/s]\n",
      "c:\\Users\\fpazi\\anaconda3\\envs\\olx\\Lib\\site-packages\\sklearn\\metrics\\_classification.py:2910: FutureWarning: Setting the eps parameter is deprecated and will be removed in 1.5. Instead eps will always havea default value of `np.finfo(y_pred.dtype).eps`.\n",
      "  warnings.warn(\n",
      "eval_listwise: 100%|██████████| 1930/1930 [00:01<00:00, 1092.30it/s]\n"
     ]
    },
    {
     "name": "stdout",
     "output_type": "stream",
     "text": [
      "\t eval log_loss: 0.5095\n",
      "\t eval precision@10: 0.0297\n",
      "\t eval recall@10: 0.0829\n",
      "\t eval ndcg@10: 0.1300\n",
      "\t eval map@10: 0.0923\n",
      "==============================\n"
     ]
    },
    {
     "name": "stderr",
     "output_type": "stream",
     "text": [
      "train: 100%|██████████| 351/351 [01:44<00:00,  3.36it/s]\n"
     ]
    },
    {
     "name": "stdout",
     "output_type": "stream",
     "text": [
      "Epoch 3 elapsed: 104.553s\n",
      "\t \u001b[32mtrain_loss: 0.2055\u001b[0m\n"
     ]
    },
    {
     "name": "stderr",
     "output_type": "stream",
     "text": [
      "eval_pointwise: 100%|██████████| 26/26 [00:00<00:00, 404.86it/s]\n",
      "c:\\Users\\fpazi\\anaconda3\\envs\\olx\\Lib\\site-packages\\sklearn\\metrics\\_classification.py:2910: FutureWarning: Setting the eps parameter is deprecated and will be removed in 1.5. Instead eps will always havea default value of `np.finfo(y_pred.dtype).eps`.\n",
      "  warnings.warn(\n",
      "eval_listwise: 100%|██████████| 1930/1930 [00:02<00:00, 742.17it/s]\n"
     ]
    },
    {
     "name": "stdout",
     "output_type": "stream",
     "text": [
      "\t eval log_loss: 0.5152\n",
      "\t eval precision@10: 0.0309\n",
      "\t eval recall@10: 0.0870\n",
      "\t eval ndcg@10: 0.1354\n",
      "\t eval map@10: 0.0962\n",
      "==============================\n",
      "CPU times: total: 3min 54s\n",
      "Wall time: 5min 29s\n"
     ]
    }
   ],
   "source": [
    "%%time\n",
    "# można też spróbować %%timeit jeśli kod się będzie w miarę krótko wykonywał (liczy średnii czas wykonywania komórki) \n",
    "lightgcn.fit(\n",
    "    train_data,\n",
    "    neg_sampling=True,\n",
    "    verbose=2,\n",
    "    eval_data=eval_data,\n",
    "    metrics=[\"loss\", \"precision\", \"recall\", \"ndcg\", \"map\"]\n",
    ")"
   ]
  },
  {
   "cell_type": "markdown",
   "id": "21dc48a6-30db-4baf-908e-2e6fdcb82bb6",
   "metadata": {},
   "source": [
    "Czemu eval log loss wzrasta??"
   ]
  },
  {
   "cell_type": "code",
   "execution_count": 264,
   "id": "886464e9-e94f-458e-8c72-c093a51889d1",
   "metadata": {},
   "outputs": [
    {
     "name": "stderr",
     "output_type": "stream",
     "text": [
      "eval_pointwise: 100%|██████████| 51/51 [00:00<00:00, 382.80it/s]\n",
      "c:\\Users\\fpazi\\anaconda3\\envs\\olx\\Lib\\site-packages\\sklearn\\metrics\\_classification.py:2910: FutureWarning: Setting the eps parameter is deprecated and will be removed in 1.5. Instead eps will always havea default value of `np.finfo(y_pred.dtype).eps`.\n",
      "  warnings.warn(\n",
      "eval_listwise: 100%|██████████| 2047/2047 [00:02<00:00, 829.34it/s] \n"
     ]
    },
    {
     "name": "stdout",
     "output_type": "stream",
     "text": [
      "CPU times: total: 2.44 s\n",
      "Wall time: 5.04 s\n"
     ]
    },
    {
     "data": {
      "text/plain": [
       "{'loss': 0.5085316571395424,\n",
       " 'roc_auc': 0.9144389753656805,\n",
       " 'precision': 0.055034814121096134,\n",
       " 'recall': 0.09209679036082377,\n",
       " 'ndcg': 0.21685532435683655,\n",
       " 'map': 0.1562613956422418}"
      ]
     },
     "execution_count": 264,
     "metadata": {},
     "output_type": "execute_result"
    }
   ],
   "source": [
    "%%time\n",
    "evaluate(\n",
    "    model=lightgcn,\n",
    "    data=test_data,\n",
    "    neg_sampling=True,\n",
    "    metrics=[\"loss\", \"precision\", \"recall\", \"ndcg\", \"map\", \"roc_auc\"]\n",
    ")"
   ]
  },
  {
   "cell_type": "code",
   "execution_count": 265,
   "id": "eaca7185-673a-4e8f-b6c3-9cf8d9118da9",
   "metadata": {},
   "outputs": [
    {
     "name": "stderr",
     "output_type": "stream",
     "text": [
      "eval_pointwise: 100%|██████████| 51/51 [00:00<00:00, 377.59it/s]\n",
      "c:\\Users\\fpazi\\anaconda3\\envs\\olx\\Lib\\site-packages\\sklearn\\metrics\\_classification.py:2910: FutureWarning: Setting the eps parameter is deprecated and will be removed in 1.5. Instead eps will always havea default value of `np.finfo(y_pred.dtype).eps`.\n",
      "  warnings.warn(\n",
      "eval_listwise: 100%|██████████| 2047/2047 [00:01<00:00, 1094.29it/s]\n"
     ]
    },
    {
     "name": "stdout",
     "output_type": "stream",
     "text": [
      "CPU times: total: 1.52 s\n",
      "Wall time: 3.24 s\n"
     ]
    },
    {
     "data": {
      "text/plain": [
       "{'loss': 0.5085316571395424,\n",
       " 'precision': 0.06620790748808991,\n",
       " 'recall': 0.05613278991254196,\n",
       " 'ndcg': 0.17925235534233724,\n",
       " 'map': 0.1471096259155803}"
      ]
     },
     "execution_count": 265,
     "metadata": {},
     "output_type": "execute_result"
    }
   ],
   "source": [
    "%%time\n",
    "evaluate(\n",
    "    model=lightgcn,\n",
    "    data=test_data,\n",
    "    neg_sampling=True,\n",
    "    metrics=[\"loss\", \"precision\", \"recall\", \"ndcg\", \"map\"],\n",
    "    k=5\n",
    ")"
   ]
  },
  {
   "cell_type": "code",
   "execution_count": 266,
   "id": "8d8d1abf-72ca-43c2-99b3-3a32acb07619",
   "metadata": {},
   "outputs": [
    {
     "name": "stderr",
     "output_type": "stream",
     "text": [
      "eval_pointwise: 100%|██████████| 51/51 [00:00<00:00, 377.71it/s]\n",
      "c:\\Users\\fpazi\\anaconda3\\envs\\olx\\Lib\\site-packages\\sklearn\\metrics\\_classification.py:2910: FutureWarning: Setting the eps parameter is deprecated and will be removed in 1.5. Instead eps will always havea default value of `np.finfo(y_pred.dtype).eps`.\n",
      "  warnings.warn(\n",
      "eval_listwise: 100%|██████████| 2047/2047 [00:02<00:00, 757.75it/s] \n"
     ]
    },
    {
     "name": "stdout",
     "output_type": "stream",
     "text": [
      "CPU times: total: 1.17 s\n",
      "Wall time: 3.94 s\n"
     ]
    },
    {
     "data": {
      "text/plain": [
       "{'loss': 0.5085316571395424,\n",
       " 'precision': 0.07856590252046093,\n",
       " 'recall': 0.02704228790088742,\n",
       " 'ndcg': 0.12527470118970233,\n",
       " 'map': 0.1174111323750967}"
      ]
     },
     "execution_count": 266,
     "metadata": {},
     "output_type": "execute_result"
    }
   ],
   "source": [
    "%%time\n",
    "evaluate(\n",
    "    model=lightgcn,\n",
    "    data=test_data,\n",
    "    neg_sampling=True,\n",
    "    metrics=[\"loss\", \"precision\", \"recall\", \"ndcg\", \"map\"],\n",
    "    k=2\n",
    ")"
   ]
  },
  {
   "cell_type": "code",
   "execution_count": 267,
   "id": "035aeaa0-5d25-431c-9dd3-615ae0c8089a",
   "metadata": {},
   "outputs": [
    {
     "name": "stdout",
     "output_type": "stream",
     "text": [
      "CPU times: total: 0 ns\n",
      "Wall time: 0 ns\n"
     ]
    },
    {
     "name": "stderr",
     "output_type": "stream",
     "text": [
      "eval_pointwise: 100%|██████████| 51/51 [00:00<00:00, 372.39it/s]\n",
      "c:\\Users\\fpazi\\anaconda3\\envs\\olx\\Lib\\site-packages\\sklearn\\metrics\\_classification.py:2910: FutureWarning: Setting the eps parameter is deprecated and will be removed in 1.5. Instead eps will always havea default value of `np.finfo(y_pred.dtype).eps`.\n",
      "  warnings.warn(\n",
      "eval_listwise: 100%|██████████| 2047/2047 [00:02<00:00, 854.07it/s] \n"
     ]
    },
    {
     "data": {
      "text/plain": [
       "{'loss': 0.5085316571395424,\n",
       " 'precision': 0.08738140803778656,\n",
       " 'recall': 0.014958578169661342,\n",
       " 'ndcg': 0.08738140803778656,\n",
       " 'map': 0.08738140803778656}"
      ]
     },
     "execution_count": 267,
     "metadata": {},
     "output_type": "execute_result"
    }
   ],
   "source": [
    "%time\n",
    "evaluate(\n",
    "    model=lightgcn,\n",
    "    data=test_data,\n",
    "    neg_sampling=True,\n",
    "    metrics=[\"loss\", \"precision\", \"recall\", \"ndcg\", \"map\"],\n",
    "    k=1\n",
    ")"
   ]
  },
  {
   "cell_type": "markdown",
   "id": "da996bb6-7934-4b1a-9bc7-b638add7a34d",
   "metadata": {},
   "source": [
    "Wszystko poniżej tego kawałka kodu to zabawy w zmianę funkcji straty, zmiana parametrów itd itp."
   ]
  },
  {
   "cell_type": "code",
   "execution_count": 268,
   "id": "14e11014-ccf0-4073-8130-4c1d9b88d4eb",
   "metadata": {},
   "outputs": [
    {
     "name": "stdout",
     "output_type": "stream",
     "text": [
      "Training start time: \u001b[35m2024-03-06 22:37:00\u001b[0m\n"
     ]
    },
    {
     "name": "stderr",
     "output_type": "stream",
     "text": [
      "train: 100%|██████████| 2808/2808 [13:47<00:00,  3.39it/s]\n"
     ]
    },
    {
     "name": "stdout",
     "output_type": "stream",
     "text": [
      "Epoch 1 elapsed: 827.795s\n",
      "\t \u001b[32mtrain_loss: 0.5143\u001b[0m\n"
     ]
    },
    {
     "name": "stderr",
     "output_type": "stream",
     "text": [
      "eval_pointwise: 100%|██████████| 26/26 [00:00<00:00, 380.99it/s]\n",
      "c:\\Users\\fpazi\\anaconda3\\envs\\olx\\Lib\\site-packages\\sklearn\\metrics\\_classification.py:2910: FutureWarning: Setting the eps parameter is deprecated and will be removed in 1.5. Instead eps will always havea default value of `np.finfo(y_pred.dtype).eps`.\n",
      "  warnings.warn(\n",
      "eval_listwise: 100%|██████████| 1930/1930 [00:02<00:00, 778.11it/s] \n"
     ]
    },
    {
     "name": "stdout",
     "output_type": "stream",
     "text": [
      "\t eval log_loss: 0.4813\n",
      "\t eval precision@10: 0.0296\n",
      "\t eval recall@10: 0.0834\n",
      "\t eval ndcg@10: 0.1302\n",
      "\t eval map@10: 0.0924\n",
      "==============================\n"
     ]
    },
    {
     "name": "stderr",
     "output_type": "stream",
     "text": [
      "train: 100%|██████████| 2808/2808 [13:54<00:00,  3.37it/s]\n"
     ]
    },
    {
     "name": "stdout",
     "output_type": "stream",
     "text": [
      "Epoch 2 elapsed: 834.317s\n",
      "\t \u001b[32mtrain_loss: 0.4753\u001b[0m\n"
     ]
    },
    {
     "name": "stderr",
     "output_type": "stream",
     "text": [
      "eval_pointwise: 100%|██████████| 26/26 [00:00<00:00, 379.54it/s]\n",
      "c:\\Users\\fpazi\\anaconda3\\envs\\olx\\Lib\\site-packages\\sklearn\\metrics\\_classification.py:2910: FutureWarning: Setting the eps parameter is deprecated and will be removed in 1.5. Instead eps will always havea default value of `np.finfo(y_pred.dtype).eps`.\n",
      "  warnings.warn(\n",
      "eval_listwise: 100%|██████████| 1930/1930 [00:01<00:00, 983.10it/s] \n"
     ]
    },
    {
     "name": "stdout",
     "output_type": "stream",
     "text": [
      "\t eval log_loss: 0.4705\n",
      "\t eval precision@10: 0.0311\n",
      "\t eval recall@10: 0.0894\n",
      "\t eval ndcg@10: 0.1360\n",
      "\t eval map@10: 0.0959\n",
      "==============================\n"
     ]
    },
    {
     "name": "stderr",
     "output_type": "stream",
     "text": [
      "train: 100%|██████████| 2808/2808 [13:57<00:00,  3.35it/s]\n"
     ]
    },
    {
     "name": "stdout",
     "output_type": "stream",
     "text": [
      "Epoch 3 elapsed: 837.205s\n",
      "\t \u001b[32mtrain_loss: 0.4671\u001b[0m\n"
     ]
    },
    {
     "name": "stderr",
     "output_type": "stream",
     "text": [
      "eval_pointwise: 100%|██████████| 26/26 [00:00<00:00, 315.95it/s]\n",
      "c:\\Users\\fpazi\\anaconda3\\envs\\olx\\Lib\\site-packages\\sklearn\\metrics\\_classification.py:2910: FutureWarning: Setting the eps parameter is deprecated and will be removed in 1.5. Instead eps will always havea default value of `np.finfo(y_pred.dtype).eps`.\n",
      "  warnings.warn(\n",
      "eval_listwise: 100%|██████████| 1930/1930 [00:01<00:00, 993.02it/s] \n"
     ]
    },
    {
     "name": "stdout",
     "output_type": "stream",
     "text": [
      "\t eval log_loss: 0.4657\n",
      "\t eval precision@10: 0.0322\n",
      "\t eval recall@10: 0.0934\n",
      "\t eval ndcg@10: 0.1407\n",
      "\t eval map@10: 0.0994\n",
      "==============================\n"
     ]
    },
    {
     "name": "stderr",
     "output_type": "stream",
     "text": [
      "train: 100%|██████████| 2808/2808 [13:59<00:00,  3.35it/s]\n"
     ]
    },
    {
     "name": "stdout",
     "output_type": "stream",
     "text": [
      "Epoch 4 elapsed: 839.377s\n",
      "\t \u001b[32mtrain_loss: 0.4628\u001b[0m\n"
     ]
    },
    {
     "name": "stderr",
     "output_type": "stream",
     "text": [
      "eval_pointwise: 100%|██████████| 26/26 [00:00<00:00, 377.10it/s]\n",
      "c:\\Users\\fpazi\\anaconda3\\envs\\olx\\Lib\\site-packages\\sklearn\\metrics\\_classification.py:2910: FutureWarning: Setting the eps parameter is deprecated and will be removed in 1.5. Instead eps will always havea default value of `np.finfo(y_pred.dtype).eps`.\n",
      "  warnings.warn(\n",
      "eval_listwise: 100%|██████████| 1930/1930 [00:01<00:00, 1068.18it/s]\n"
     ]
    },
    {
     "name": "stdout",
     "output_type": "stream",
     "text": [
      "\t eval log_loss: 0.4626\n",
      "\t eval precision@10: 0.0334\n",
      "\t eval recall@10: 0.0976\n",
      "\t eval ndcg@10: 0.1468\n",
      "\t eval map@10: 0.1042\n",
      "==============================\n"
     ]
    },
    {
     "name": "stderr",
     "output_type": "stream",
     "text": [
      "train: 100%|██████████| 2808/2808 [13:58<00:00,  3.35it/s]\n"
     ]
    },
    {
     "name": "stdout",
     "output_type": "stream",
     "text": [
      "Epoch 5 elapsed: 838.268s\n",
      "\t \u001b[32mtrain_loss: 0.4586\u001b[0m\n"
     ]
    },
    {
     "name": "stderr",
     "output_type": "stream",
     "text": [
      "eval_pointwise: 100%|██████████| 26/26 [00:00<00:00, 384.87it/s]\n",
      "c:\\Users\\fpazi\\anaconda3\\envs\\olx\\Lib\\site-packages\\sklearn\\metrics\\_classification.py:2910: FutureWarning: Setting the eps parameter is deprecated and will be removed in 1.5. Instead eps will always havea default value of `np.finfo(y_pred.dtype).eps`.\n",
      "  warnings.warn(\n",
      "eval_listwise: 100%|██████████| 1930/1930 [00:01<00:00, 1063.46it/s]\n"
     ]
    },
    {
     "name": "stdout",
     "output_type": "stream",
     "text": [
      "\t eval log_loss: 0.4601\n",
      "\t eval precision@10: 0.0349\n",
      "\t eval recall@10: 0.1016\n",
      "\t eval ndcg@10: 0.1531\n",
      "\t eval map@10: 0.1092\n",
      "==============================\n"
     ]
    },
    {
     "name": "stderr",
     "output_type": "stream",
     "text": [
      "eval_pointwise: 100%|██████████| 51/51 [00:00<00:00, 370.04it/s]\n",
      "c:\\Users\\fpazi\\anaconda3\\envs\\olx\\Lib\\site-packages\\sklearn\\metrics\\_classification.py:2910: FutureWarning: Setting the eps parameter is deprecated and will be removed in 1.5. Instead eps will always havea default value of `np.finfo(y_pred.dtype).eps`.\n",
      "  warnings.warn(\n",
      "eval_listwise: 100%|██████████| 2047/2047 [00:02<00:00, 752.77it/s] \n"
     ]
    },
    {
     "name": "stdout",
     "output_type": "stream",
     "text": [
      "CPU times: total: 54min 36s\n",
      "Wall time: 1h 10min\n"
     ]
    },
    {
     "data": {
      "text/plain": [
       "{'loss': 0.45532217110094547,\n",
       " 'roc_auc': 0.9328348860860025,\n",
       " 'precision': 0.06223787613502178,\n",
       " 'recall': 0.10652472455931809,\n",
       " 'ndcg': 0.24444250877685156,\n",
       " 'map': 0.17696106248172722}"
      ]
     },
     "execution_count": 268,
     "metadata": {},
     "output_type": "execute_result"
    }
   ],
   "source": [
    "%%time\n",
    "lightgcn = LightGCN(\n",
    "    task=\"ranking\",\n",
    "    data_info=data_info,\n",
    "    loss_type=\"cross_entropy\",\n",
    "    embed_size=32,\n",
    "    n_epochs=5,\n",
    "    lr=0.001,\n",
    "    batch_size=512,\n",
    "    num_neg=1,\n",
    "    device=\"cuda\"\n",
    ")\n",
    "\n",
    "lightgcn.fit(\n",
    "    train_data,\n",
    "    neg_sampling=True,\n",
    "    verbose=2,\n",
    "    eval_data=eval_data,\n",
    "    metrics=[\"loss\", \"precision\", \"recall\", \"ndcg\", \"map\"]\n",
    ")\n",
    "\n",
    "evaluate(\n",
    "    model=lightgcn,\n",
    "    data=test_data,\n",
    "    neg_sampling=True,\n",
    "    metrics=[\"loss\", \"precision\", \"recall\", \"ndcg\", \"map\", \"roc_auc\"]\n",
    ")"
   ]
  },
  {
   "cell_type": "code",
   "execution_count": 269,
   "id": "1d3b4d5f-0f55-4ef4-b7f5-b9b0ca05a30f",
   "metadata": {},
   "outputs": [
    {
     "name": "stdout",
     "output_type": "stream",
     "text": [
      "Training start time: \u001b[35m2024-03-06 23:47:01\u001b[0m\n"
     ]
    },
    {
     "name": "stderr",
     "output_type": "stream",
     "text": [
      "train: 100%|██████████| 702/702 [05:07<00:00,  2.28it/s]\n"
     ]
    },
    {
     "name": "stdout",
     "output_type": "stream",
     "text": [
      "Epoch 1 elapsed: 307.648s\n",
      "\t \u001b[32mtrain_loss: 0.4722\u001b[0m\n"
     ]
    },
    {
     "name": "stderr",
     "output_type": "stream",
     "text": [
      "eval_pointwise: 100%|██████████| 26/26 [00:00<00:00, 267.15it/s]\n",
      "c:\\Users\\fpazi\\anaconda3\\envs\\olx\\Lib\\site-packages\\sklearn\\metrics\\_classification.py:2910: FutureWarning: Setting the eps parameter is deprecated and will be removed in 1.5. Instead eps will always havea default value of `np.finfo(y_pred.dtype).eps`.\n",
      "  warnings.warn(\n",
      "eval_listwise: 100%|██████████| 1930/1930 [00:01<00:00, 1030.40it/s]\n"
     ]
    },
    {
     "name": "stdout",
     "output_type": "stream",
     "text": [
      "\t eval log_loss: 0.4599\n",
      "\t eval precision@10: 0.0396\n",
      "\t eval recall@10: 0.1140\n",
      "\t eval ndcg@10: 0.1739\n",
      "\t eval map@10: 0.1261\n",
      "==============================\n"
     ]
    },
    {
     "name": "stderr",
     "output_type": "stream",
     "text": [
      "train: 100%|██████████| 702/702 [05:09<00:00,  2.27it/s]\n"
     ]
    },
    {
     "name": "stdout",
     "output_type": "stream",
     "text": [
      "Epoch 2 elapsed: 309.625s\n",
      "\t \u001b[32mtrain_loss: 0.4522\u001b[0m\n"
     ]
    },
    {
     "name": "stderr",
     "output_type": "stream",
     "text": [
      "eval_pointwise: 100%|██████████| 26/26 [00:00<00:00, 270.23it/s]\n",
      "c:\\Users\\fpazi\\anaconda3\\envs\\olx\\Lib\\site-packages\\sklearn\\metrics\\_classification.py:2910: FutureWarning: Setting the eps parameter is deprecated and will be removed in 1.5. Instead eps will always havea default value of `np.finfo(y_pred.dtype).eps`.\n",
      "  warnings.warn(\n",
      "eval_listwise: 100%|██████████| 1930/1930 [00:01<00:00, 1061.58it/s]\n"
     ]
    },
    {
     "name": "stdout",
     "output_type": "stream",
     "text": [
      "\t eval log_loss: 0.4567\n",
      "\t eval precision@10: 0.0408\n",
      "\t eval recall@10: 0.1164\n",
      "\t eval ndcg@10: 0.1797\n",
      "\t eval map@10: 0.1307\n",
      "==============================\n"
     ]
    },
    {
     "name": "stderr",
     "output_type": "stream",
     "text": [
      "train: 100%|██████████| 702/702 [05:09<00:00,  2.27it/s]\n"
     ]
    },
    {
     "name": "stdout",
     "output_type": "stream",
     "text": [
      "Epoch 3 elapsed: 309.350s\n",
      "\t \u001b[32mtrain_loss: 0.4454\u001b[0m\n"
     ]
    },
    {
     "name": "stderr",
     "output_type": "stream",
     "text": [
      "eval_pointwise: 100%|██████████| 26/26 [00:00<00:00, 263.77it/s]\n",
      "c:\\Users\\fpazi\\anaconda3\\envs\\olx\\Lib\\site-packages\\sklearn\\metrics\\_classification.py:2910: FutureWarning: Setting the eps parameter is deprecated and will be removed in 1.5. Instead eps will always havea default value of `np.finfo(y_pred.dtype).eps`.\n",
      "  warnings.warn(\n",
      "eval_listwise: 100%|██████████| 1930/1930 [00:01<00:00, 1020.65it/s]\n"
     ]
    },
    {
     "name": "stdout",
     "output_type": "stream",
     "text": [
      "\t eval log_loss: 0.4556\n",
      "\t eval precision@10: 0.0418\n",
      "\t eval recall@10: 0.1188\n",
      "\t eval ndcg@10: 0.1850\n",
      "\t eval map@10: 0.1353\n",
      "==============================\n"
     ]
    },
    {
     "name": "stderr",
     "output_type": "stream",
     "text": [
      "train: 100%|██████████| 702/702 [05:11<00:00,  2.26it/s]\n"
     ]
    },
    {
     "name": "stdout",
     "output_type": "stream",
     "text": [
      "Epoch 4 elapsed: 311.157s\n",
      "\t \u001b[32mtrain_loss: 0.4423\u001b[0m\n"
     ]
    },
    {
     "name": "stderr",
     "output_type": "stream",
     "text": [
      "eval_pointwise: 100%|██████████| 26/26 [00:00<00:00, 268.65it/s]\n",
      "c:\\Users\\fpazi\\anaconda3\\envs\\olx\\Lib\\site-packages\\sklearn\\metrics\\_classification.py:2910: FutureWarning: Setting the eps parameter is deprecated and will be removed in 1.5. Instead eps will always havea default value of `np.finfo(y_pred.dtype).eps`.\n",
      "  warnings.warn(\n",
      "eval_listwise: 100%|██████████| 1930/1930 [00:01<00:00, 988.91it/s] \n"
     ]
    },
    {
     "name": "stdout",
     "output_type": "stream",
     "text": [
      "\t eval log_loss: 0.4541\n",
      "\t eval precision@10: 0.0427\n",
      "\t eval recall@10: 0.1216\n",
      "\t eval ndcg@10: 0.1899\n",
      "\t eval map@10: 0.1394\n",
      "==============================\n"
     ]
    },
    {
     "name": "stderr",
     "output_type": "stream",
     "text": [
      "train: 100%|██████████| 702/702 [05:12<00:00,  2.25it/s]\n"
     ]
    },
    {
     "name": "stdout",
     "output_type": "stream",
     "text": [
      "Epoch 5 elapsed: 312.194s\n",
      "\t \u001b[32mtrain_loss: 0.4384\u001b[0m\n"
     ]
    },
    {
     "name": "stderr",
     "output_type": "stream",
     "text": [
      "eval_pointwise: 100%|██████████| 26/26 [00:00<00:00, 261.31it/s]\n",
      "c:\\Users\\fpazi\\anaconda3\\envs\\olx\\Lib\\site-packages\\sklearn\\metrics\\_classification.py:2910: FutureWarning: Setting the eps parameter is deprecated and will be removed in 1.5. Instead eps will always havea default value of `np.finfo(y_pred.dtype).eps`.\n",
      "  warnings.warn(\n",
      "eval_listwise: 100%|██████████| 1930/1930 [00:02<00:00, 942.24it/s] \n"
     ]
    },
    {
     "name": "stdout",
     "output_type": "stream",
     "text": [
      "\t eval log_loss: 0.4541\n",
      "\t eval precision@10: 0.0428\n",
      "\t eval recall@10: 0.1226\n",
      "\t eval ndcg@10: 0.1915\n",
      "\t eval map@10: 0.1413\n",
      "==============================\n"
     ]
    },
    {
     "name": "stderr",
     "output_type": "stream",
     "text": [
      "eval_pointwise: 100%|██████████| 51/51 [00:00<00:00, 251.58it/s]\n",
      "c:\\Users\\fpazi\\anaconda3\\envs\\olx\\Lib\\site-packages\\sklearn\\metrics\\_classification.py:2910: FutureWarning: Setting the eps parameter is deprecated and will be removed in 1.5. Instead eps will always havea default value of `np.finfo(y_pred.dtype).eps`.\n",
      "  warnings.warn(\n",
      "eval_listwise: 100%|██████████| 2047/2047 [00:01<00:00, 1037.80it/s]\n"
     ]
    },
    {
     "name": "stdout",
     "output_type": "stream",
     "text": [
      "CPU times: total: 23min 26s\n",
      "Wall time: 26min 13s\n"
     ]
    },
    {
     "data": {
      "text/plain": [
       "{'loss': 0.44788791300669284,\n",
       " 'roc_auc': 0.9390330609013593,\n",
       " 'precision': 0.07438413616189585,\n",
       " 'recall': 0.1264100297491425,\n",
       " 'ndcg': 0.2918305995144644,\n",
       " 'map': 0.21773034970147237}"
      ]
     },
     "execution_count": 269,
     "metadata": {},
     "output_type": "execute_result"
    }
   ],
   "source": [
    "%%time\n",
    "lightgcn = LightGCN(\n",
    "    task=\"ranking\",\n",
    "    data_info=data_info,\n",
    "    loss_type=\"cross_entropy\",\n",
    "    embed_size=64,\n",
    "    n_epochs=5,\n",
    "    lr=1e-2,\n",
    "    batch_size=2048,\n",
    "    num_neg=1,\n",
    "    device=\"cuda\"\n",
    ")\n",
    "\n",
    "lightgcn.fit(\n",
    "    train_data,\n",
    "    neg_sampling=True,\n",
    "    verbose=2,\n",
    "    eval_data=eval_data,\n",
    "    metrics=[\"loss\", \"precision\", \"recall\", \"ndcg\", \"map\"]\n",
    ")\n",
    "\n",
    "evaluate(\n",
    "    model=lightgcn,\n",
    "    data=test_data,\n",
    "    neg_sampling=True,\n",
    "    metrics=[\"loss\", \"precision\", \"recall\", \"ndcg\", \"map\", \"roc_auc\"]\n",
    ")"
   ]
  },
  {
   "cell_type": "code",
   "execution_count": 270,
   "id": "31bbc4b2-3cee-472a-ac60-a6b35137727d",
   "metadata": {},
   "outputs": [
    {
     "name": "stdout",
     "output_type": "stream",
     "text": [
      "Training start time: \u001b[35m2024-03-07 00:13:14\u001b[0m\n"
     ]
    },
    {
     "name": "stderr",
     "output_type": "stream",
     "text": [
      "train: 100%|██████████| 702/702 [05:14<00:00,  2.23it/s]\n"
     ]
    },
    {
     "name": "stdout",
     "output_type": "stream",
     "text": [
      "Epoch 1 elapsed: 314.461s\n",
      "\t \u001b[32mtrain_loss: 0.0779\u001b[0m\n"
     ]
    },
    {
     "name": "stderr",
     "output_type": "stream",
     "text": [
      "eval_pointwise: 100%|██████████| 26/26 [00:00<00:00, 225.77it/s]\n",
      "c:\\Users\\fpazi\\anaconda3\\envs\\olx\\Lib\\site-packages\\sklearn\\metrics\\_classification.py:2910: FutureWarning: Setting the eps parameter is deprecated and will be removed in 1.5. Instead eps will always havea default value of `np.finfo(y_pred.dtype).eps`.\n",
      "  warnings.warn(\n",
      "eval_listwise: 100%|██████████| 1930/1930 [00:01<00:00, 1042.63it/s]\n"
     ]
    },
    {
     "name": "stdout",
     "output_type": "stream",
     "text": [
      "\t eval log_loss: 0.5740\n",
      "\t eval precision@10: 0.0365\n",
      "\t eval recall@10: 0.1046\n",
      "\t eval ndcg@10: 0.1625\n",
      "\t eval map@10: 0.1187\n",
      "==============================\n"
     ]
    },
    {
     "name": "stderr",
     "output_type": "stream",
     "text": [
      "train: 100%|██████████| 702/702 [05:15<00:00,  2.23it/s]\n"
     ]
    },
    {
     "name": "stdout",
     "output_type": "stream",
     "text": [
      "Epoch 2 elapsed: 315.215s\n",
      "\t \u001b[32mtrain_loss: 0.0772\u001b[0m\n"
     ]
    },
    {
     "name": "stderr",
     "output_type": "stream",
     "text": [
      "eval_pointwise: 100%|██████████| 26/26 [00:00<00:00, 253.37it/s]\n",
      "c:\\Users\\fpazi\\anaconda3\\envs\\olx\\Lib\\site-packages\\sklearn\\metrics\\_classification.py:2910: FutureWarning: Setting the eps parameter is deprecated and will be removed in 1.5. Instead eps will always havea default value of `np.finfo(y_pred.dtype).eps`.\n",
      "  warnings.warn(\n",
      "eval_listwise: 100%|██████████| 1930/1930 [00:01<00:00, 1039.80it/s]\n"
     ]
    },
    {
     "name": "stdout",
     "output_type": "stream",
     "text": [
      "\t eval log_loss: 0.5709\n",
      "\t eval precision@10: 0.0342\n",
      "\t eval recall@10: 0.0975\n",
      "\t eval ndcg@10: 0.1557\n",
      "\t eval map@10: 0.1148\n",
      "==============================\n"
     ]
    },
    {
     "name": "stderr",
     "output_type": "stream",
     "text": [
      "train: 100%|██████████| 702/702 [05:16<00:00,  2.22it/s]\n"
     ]
    },
    {
     "name": "stdout",
     "output_type": "stream",
     "text": [
      "Epoch 3 elapsed: 316.660s\n",
      "\t \u001b[32mtrain_loss: 0.0768\u001b[0m\n"
     ]
    },
    {
     "name": "stderr",
     "output_type": "stream",
     "text": [
      "eval_pointwise: 100%|██████████| 26/26 [00:00<00:00, 261.40it/s]\n",
      "c:\\Users\\fpazi\\anaconda3\\envs\\olx\\Lib\\site-packages\\sklearn\\metrics\\_classification.py:2910: FutureWarning: Setting the eps parameter is deprecated and will be removed in 1.5. Instead eps will always havea default value of `np.finfo(y_pred.dtype).eps`.\n",
      "  warnings.warn(\n",
      "eval_listwise: 100%|██████████| 1930/1930 [00:01<00:00, 1022.69it/s]\n"
     ]
    },
    {
     "name": "stdout",
     "output_type": "stream",
     "text": [
      "\t eval log_loss: 0.5679\n",
      "\t eval precision@10: 0.0322\n",
      "\t eval recall@10: 0.0898\n",
      "\t eval ndcg@10: 0.1482\n",
      "\t eval map@10: 0.1098\n",
      "==============================\n"
     ]
    },
    {
     "name": "stderr",
     "output_type": "stream",
     "text": [
      "train: 100%|██████████| 702/702 [05:15<00:00,  2.23it/s]\n"
     ]
    },
    {
     "name": "stdout",
     "output_type": "stream",
     "text": [
      "Epoch 4 elapsed: 315.477s\n",
      "\t \u001b[32mtrain_loss: 0.0764\u001b[0m\n"
     ]
    },
    {
     "name": "stderr",
     "output_type": "stream",
     "text": [
      "eval_pointwise: 100%|██████████| 26/26 [00:00<00:00, 255.86it/s]\n",
      "c:\\Users\\fpazi\\anaconda3\\envs\\olx\\Lib\\site-packages\\sklearn\\metrics\\_classification.py:2910: FutureWarning: Setting the eps parameter is deprecated and will be removed in 1.5. Instead eps will always havea default value of `np.finfo(y_pred.dtype).eps`.\n",
      "  warnings.warn(\n",
      "eval_listwise: 100%|██████████| 1930/1930 [00:01<00:00, 1073.76it/s]\n"
     ]
    },
    {
     "name": "stdout",
     "output_type": "stream",
     "text": [
      "\t eval log_loss: 0.5675\n",
      "\t eval precision@10: 0.0306\n",
      "\t eval recall@10: 0.0833\n",
      "\t eval ndcg@10: 0.1417\n",
      "\t eval map@10: 0.1050\n",
      "==============================\n"
     ]
    },
    {
     "name": "stderr",
     "output_type": "stream",
     "text": [
      "train: 100%|██████████| 702/702 [05:15<00:00,  2.23it/s]\n"
     ]
    },
    {
     "name": "stdout",
     "output_type": "stream",
     "text": [
      "Epoch 5 elapsed: 315.209s\n",
      "\t \u001b[32mtrain_loss: 0.0759\u001b[0m\n"
     ]
    },
    {
     "name": "stderr",
     "output_type": "stream",
     "text": [
      "eval_pointwise: 100%|██████████| 26/26 [00:00<00:00, 253.49it/s]\n",
      "c:\\Users\\fpazi\\anaconda3\\envs\\olx\\Lib\\site-packages\\sklearn\\metrics\\_classification.py:2910: FutureWarning: Setting the eps parameter is deprecated and will be removed in 1.5. Instead eps will always havea default value of `np.finfo(y_pred.dtype).eps`.\n",
      "  warnings.warn(\n",
      "eval_listwise: 100%|██████████| 1930/1930 [00:01<00:00, 987.84it/s] \n"
     ]
    },
    {
     "name": "stdout",
     "output_type": "stream",
     "text": [
      "\t eval log_loss: 0.5679\n",
      "\t eval precision@10: 0.0282\n",
      "\t eval recall@10: 0.0755\n",
      "\t eval ndcg@10: 0.1304\n",
      "\t eval map@10: 0.0961\n",
      "==============================\n"
     ]
    },
    {
     "name": "stderr",
     "output_type": "stream",
     "text": [
      "eval_pointwise: 100%|██████████| 51/51 [00:00<00:00, 244.44it/s]\n",
      "c:\\Users\\fpazi\\anaconda3\\envs\\olx\\Lib\\site-packages\\sklearn\\metrics\\_classification.py:2910: FutureWarning: Setting the eps parameter is deprecated and will be removed in 1.5. Instead eps will always havea default value of `np.finfo(y_pred.dtype).eps`.\n",
      "  warnings.warn(\n",
      "eval_listwise: 100%|██████████| 2047/2047 [00:01<00:00, 1043.14it/s]\n"
     ]
    },
    {
     "name": "stdout",
     "output_type": "stream",
     "text": [
      "CPU times: total: 23min 52s\n",
      "Wall time: 26min 40s\n"
     ]
    },
    {
     "data": {
      "text/plain": [
       "{'loss': 0.5671088056239247,\n",
       " 'roc_auc': 0.9040885022196438,\n",
       " 'precision': 0.04906958752392198,\n",
       " 'recall': 0.07693297609571771,\n",
       " 'ndcg': 0.20308084709124613,\n",
       " 'map': 0.1508834532757206}"
      ]
     },
     "execution_count": 270,
     "metadata": {},
     "output_type": "execute_result"
    }
   ],
   "source": [
    "%%time\n",
    "lightgcn = LightGCN(\n",
    "    task=\"ranking\",\n",
    "    data_info=data_info,\n",
    "    loss_type=\"focal\",\n",
    "    embed_size=64,\n",
    "    n_epochs=5,\n",
    "    lr=1e-2,\n",
    "    batch_size=2048,\n",
    "    num_neg=1,\n",
    "    device=\"cuda\"\n",
    ")\n",
    "\n",
    "lightgcn.fit(\n",
    "    train_data,\n",
    "    neg_sampling=True,\n",
    "    verbose=2,\n",
    "    eval_data=eval_data,\n",
    "    metrics=[\"loss\", \"precision\", \"recall\", \"ndcg\", \"map\"]\n",
    ")\n",
    "\n",
    "evaluate(\n",
    "    model=lightgcn,\n",
    "    data=test_data,\n",
    "    neg_sampling=True,\n",
    "    metrics=[\"loss\", \"precision\", \"recall\", \"ndcg\", \"map\", \"roc_auc\"]\n",
    ")"
   ]
  },
  {
   "cell_type": "code",
   "execution_count": 271,
   "id": "c9dd4f47-e8cd-4446-aadf-3fcdf51aee02",
   "metadata": {},
   "outputs": [
    {
     "name": "stdout",
     "output_type": "stream",
     "text": [
      "Training start time: \u001b[35m2024-03-07 00:39:54\u001b[0m\n"
     ]
    },
    {
     "name": "stderr",
     "output_type": "stream",
     "text": [
      "train: 100%|██████████| 351/351 [02:37<00:00,  2.23it/s]\n"
     ]
    },
    {
     "name": "stdout",
     "output_type": "stream",
     "text": [
      "Epoch 1 elapsed: 157.614s\n",
      "\t \u001b[32mtrain_loss: 0.1988\u001b[0m\n"
     ]
    },
    {
     "name": "stderr",
     "output_type": "stream",
     "text": [
      "eval_pointwise: 100%|██████████| 26/26 [00:00<00:00, 265.32it/s]\n",
      "c:\\Users\\fpazi\\anaconda3\\envs\\olx\\Lib\\site-packages\\sklearn\\metrics\\_classification.py:2910: FutureWarning: Setting the eps parameter is deprecated and will be removed in 1.5. Instead eps will always havea default value of `np.finfo(y_pred.dtype).eps`.\n",
      "  warnings.warn(\n",
      "eval_listwise: 100%|██████████| 1930/1930 [00:01<00:00, 1029.46it/s]\n"
     ]
    },
    {
     "name": "stdout",
     "output_type": "stream",
     "text": [
      "\t eval log_loss: 0.5087\n",
      "\t eval precision@10: 0.0411\n",
      "\t eval recall@10: 0.1178\n",
      "\t eval ndcg@10: 0.1815\n",
      "\t eval map@10: 0.1325\n",
      "==============================\n"
     ]
    },
    {
     "name": "stderr",
     "output_type": "stream",
     "text": [
      "train: 100%|██████████| 351/351 [02:36<00:00,  2.24it/s]\n"
     ]
    },
    {
     "name": "stdout",
     "output_type": "stream",
     "text": [
      "Epoch 2 elapsed: 156.889s\n",
      "\t \u001b[32mtrain_loss: 0.1188\u001b[0m\n"
     ]
    },
    {
     "name": "stderr",
     "output_type": "stream",
     "text": [
      "eval_pointwise: 100%|██████████| 26/26 [00:00<00:00, 266.47it/s]\n",
      "c:\\Users\\fpazi\\anaconda3\\envs\\olx\\Lib\\site-packages\\sklearn\\metrics\\_classification.py:2910: FutureWarning: Setting the eps parameter is deprecated and will be removed in 1.5. Instead eps will always havea default value of `np.finfo(y_pred.dtype).eps`.\n",
      "  warnings.warn(\n",
      "eval_listwise: 100%|██████████| 1930/1930 [00:02<00:00, 859.70it/s]\n"
     ]
    },
    {
     "name": "stdout",
     "output_type": "stream",
     "text": [
      "\t eval log_loss: 0.5316\n",
      "\t eval precision@10: 0.0424\n",
      "\t eval recall@10: 0.1215\n",
      "\t eval ndcg@10: 0.1872\n",
      "\t eval map@10: 0.1371\n",
      "==============================\n"
     ]
    },
    {
     "name": "stderr",
     "output_type": "stream",
     "text": [
      "train: 100%|██████████| 351/351 [02:36<00:00,  2.24it/s]\n"
     ]
    },
    {
     "name": "stdout",
     "output_type": "stream",
     "text": [
      "Epoch 3 elapsed: 156.708s\n",
      "\t \u001b[32mtrain_loss: 0.101\u001b[0m\n"
     ]
    },
    {
     "name": "stderr",
     "output_type": "stream",
     "text": [
      "eval_pointwise: 100%|██████████| 26/26 [00:00<00:00, 274.87it/s]\n",
      "c:\\Users\\fpazi\\anaconda3\\envs\\olx\\Lib\\site-packages\\sklearn\\metrics\\_classification.py:2910: FutureWarning: Setting the eps parameter is deprecated and will be removed in 1.5. Instead eps will always havea default value of `np.finfo(y_pred.dtype).eps`.\n",
      "  warnings.warn(\n",
      "eval_listwise: 100%|██████████| 1930/1930 [00:02<00:00, 827.79it/s]\n"
     ]
    },
    {
     "name": "stdout",
     "output_type": "stream",
     "text": [
      "\t eval log_loss: 0.5523\n",
      "\t eval precision@10: 0.0431\n",
      "\t eval recall@10: 0.1240\n",
      "\t eval ndcg@10: 0.1919\n",
      "\t eval map@10: 0.1412\n",
      "==============================\n"
     ]
    },
    {
     "name": "stderr",
     "output_type": "stream",
     "text": [
      "train: 100%|██████████| 351/351 [02:36<00:00,  2.24it/s]\n"
     ]
    },
    {
     "name": "stdout",
     "output_type": "stream",
     "text": [
      "Epoch 4 elapsed: 156.789s\n",
      "\t \u001b[32mtrain_loss: 0.0903\u001b[0m\n"
     ]
    },
    {
     "name": "stderr",
     "output_type": "stream",
     "text": [
      "eval_pointwise: 100%|██████████| 26/26 [00:00<00:00, 267.85it/s]\n",
      "c:\\Users\\fpazi\\anaconda3\\envs\\olx\\Lib\\site-packages\\sklearn\\metrics\\_classification.py:2910: FutureWarning: Setting the eps parameter is deprecated and will be removed in 1.5. Instead eps will always havea default value of `np.finfo(y_pred.dtype).eps`.\n",
      "  warnings.warn(\n",
      "eval_listwise: 100%|██████████| 1930/1930 [00:02<00:00, 949.01it/s] \n"
     ]
    },
    {
     "name": "stdout",
     "output_type": "stream",
     "text": [
      "\t eval log_loss: 0.5664\n",
      "\t eval precision@10: 0.0436\n",
      "\t eval recall@10: 0.1252\n",
      "\t eval ndcg@10: 0.1947\n",
      "\t eval map@10: 0.1440\n",
      "==============================\n"
     ]
    },
    {
     "name": "stderr",
     "output_type": "stream",
     "text": [
      "train: 100%|██████████| 351/351 [02:36<00:00,  2.24it/s]\n"
     ]
    },
    {
     "name": "stdout",
     "output_type": "stream",
     "text": [
      "Epoch 5 elapsed: 156.651s\n",
      "\t \u001b[32mtrain_loss: 0.0829\u001b[0m\n"
     ]
    },
    {
     "name": "stderr",
     "output_type": "stream",
     "text": [
      "eval_pointwise: 100%|██████████| 26/26 [00:00<00:00, 270.69it/s]\n",
      "c:\\Users\\fpazi\\anaconda3\\envs\\olx\\Lib\\site-packages\\sklearn\\metrics\\_classification.py:2910: FutureWarning: Setting the eps parameter is deprecated and will be removed in 1.5. Instead eps will always havea default value of `np.finfo(y_pred.dtype).eps`.\n",
      "  warnings.warn(\n",
      "eval_listwise: 100%|██████████| 1930/1930 [00:01<00:00, 1049.53it/s]\n"
     ]
    },
    {
     "name": "stdout",
     "output_type": "stream",
     "text": [
      "\t eval log_loss: 0.5824\n",
      "\t eval precision@10: 0.0435\n",
      "\t eval recall@10: 0.1241\n",
      "\t eval ndcg@10: 0.1941\n",
      "\t eval map@10: 0.1435\n",
      "==============================\n"
     ]
    },
    {
     "name": "stderr",
     "output_type": "stream",
     "text": [
      "eval_pointwise: 100%|██████████| 51/51 [00:00<00:00, 253.86it/s]\n",
      "c:\\Users\\fpazi\\anaconda3\\envs\\olx\\Lib\\site-packages\\sklearn\\metrics\\_classification.py:2910: FutureWarning: Setting the eps parameter is deprecated and will be removed in 1.5. Instead eps will always havea default value of `np.finfo(y_pred.dtype).eps`.\n",
      "  warnings.warn(\n",
      "eval_listwise: 100%|██████████| 2047/2047 [00:02<00:00, 939.17it/s]\n"
     ]
    },
    {
     "name": "stdout",
     "output_type": "stream",
     "text": [
      "CPU times: total: 11min 57s\n",
      "Wall time: 13min 28s\n"
     ]
    },
    {
     "data": {
      "text/plain": [
       "{'loss': 0.5737806840855078,\n",
       " 'roc_auc': 0.9385162951623347,\n",
       " 'precision': 0.07564233071379128,\n",
       " 'recall': 0.12860315847352116,\n",
       " 'ndcg': 0.2955969373731411,\n",
       " 'map': 0.22095432663388348}"
      ]
     },
     "execution_count": 271,
     "metadata": {},
     "output_type": "execute_result"
    }
   ],
   "source": [
    "%%time\n",
    "lightgcn = LightGCN(\n",
    "    task=\"ranking\",\n",
    "    data_info=data_info,\n",
    "    loss_type=\"max_margin\",\n",
    "    embed_size=64,\n",
    "    n_epochs=5,\n",
    "    lr=1e-2,\n",
    "    batch_size=2048,\n",
    "    num_neg=1,\n",
    "    device=\"cuda\"\n",
    ")\n",
    "\n",
    "lightgcn.fit(\n",
    "    train_data,\n",
    "    neg_sampling=True,\n",
    "    verbose=2,\n",
    "    eval_data=eval_data,\n",
    "    metrics=[\"loss\", \"precision\", \"recall\", \"ndcg\", \"map\"]\n",
    ")\n",
    "\n",
    "evaluate(\n",
    "    model=lightgcn,\n",
    "    data=test_data,\n",
    "    neg_sampling=True,\n",
    "    metrics=[\"loss\", \"precision\", \"recall\", \"ndcg\", \"map\", \"roc_auc\"]\n",
    ")"
   ]
  },
  {
   "cell_type": "markdown",
   "id": "be80542e",
   "metadata": {},
   "source": [
    "# Additional task"
   ]
  },
  {
   "cell_type": "markdown",
   "id": "3fe442b8",
   "metadata": {},
   "source": [
    "dataframe containing users and an array of items they have interacted with"
   ]
  },
  {
   "cell_type": "code",
   "execution_count": 272,
   "id": "9fbf8aa9",
   "metadata": {},
   "outputs": [],
   "source": [
    "\n",
    "df_all = filtered_df.groupby('user')['item'].apply(list).reset_index(name='items')\n",
    "df_all = df_all.sort_values(by='user')"
   ]
  },
  {
   "cell_type": "markdown",
   "id": "07338fbf",
   "metadata": {},
   "source": [
    "a dataframe containing users and an array of items with which they have interacted at a higher level"
   ]
  },
  {
   "cell_type": "code",
   "execution_count": 273,
   "id": "660d9357",
   "metadata": {},
   "outputs": [],
   "source": [
    "df_23 = filtered_df[filtered_df['label'].isin([2, 3])].groupby('user')['item'].apply(list).reset_index(name='items')\n",
    "all_users = filtered_df[['user']].drop_duplicates()\n",
    "df_23 = pd.merge(all_users, df_23, on='user', how='left')\n",
    "df_23['items'] = df_23['items'].apply(lambda x: x if isinstance(x, list) else [])\n",
    "df_23 = df_23.sort_values(by='user')"
   ]
  },
  {
   "cell_type": "markdown",
   "id": "1a2fdb46",
   "metadata": {},
   "source": [
    "a dataframe containing users and an array of items that are recommended to them"
   ]
  },
  {
   "cell_type": "code",
   "execution_count": 274,
   "id": "8bcf0ed4",
   "metadata": {},
   "outputs": [],
   "source": [
    "unique_users = filtered_df['user'].unique()\n",
    "recommendations_data = []"
   ]
  },
  {
   "cell_type": "markdown",
   "id": "2777b5ff",
   "metadata": {},
   "source": [
    "recommendations for each user"
   ]
  },
  {
   "cell_type": "code",
   "execution_count": 275,
   "id": "53822dba",
   "metadata": {},
   "outputs": [
    {
     "name": "stdout",
     "output_type": "stream",
     "text": [
      "\u001b[31mDetect unknown user: 2736520\u001b[0m\n",
      "\u001b[31mDetect unknown user: 756207\u001b[0m\n",
      "\u001b[31mDetect unknown user: 1168189\u001b[0m\n",
      "\u001b[31mDetect unknown user: 527726\u001b[0m\n",
      "\u001b[31mDetect unknown user: 2184051\u001b[0m\n",
      "\u001b[31mDetect unknown user: 400733\u001b[0m\n",
      "\u001b[31mDetect unknown user: 2046605\u001b[0m\n",
      "\u001b[31mDetect unknown user: 1209362\u001b[0m\n",
      "\u001b[31mDetect unknown user: 2198747\u001b[0m\n",
      "\u001b[31mDetect unknown user: 1448084\u001b[0m\n",
      "\u001b[31mDetect unknown user: 3205838\u001b[0m\n",
      "\u001b[31mDetect unknown user: 317418\u001b[0m\n",
      "\u001b[31mDetect unknown user: 1520618\u001b[0m\n",
      "\u001b[31mDetect unknown user: 2103786\u001b[0m\n",
      "\u001b[31mDetect unknown user: 100772\u001b[0m\n",
      "\u001b[31mDetect unknown user: 3126654\u001b[0m\n",
      "\u001b[31mDetect unknown user: 402521\u001b[0m\n",
      "\u001b[31mDetect unknown user: 24794\u001b[0m\n"
     ]
    }
   ],
   "source": [
    "for user in unique_users:\n",
    "    recommendations = lightgcn.recommend_user(user=user, n_rec=10).get(user)\n",
    "    recommendations_data.extend([(user, recommendations)])\n",
    "\n",
    "df_rec = pd.DataFrame(recommendations_data, columns=['user', 'items'])\n",
    "df_rec = df_rec.sort_values(by='user')\n"
   ]
  },
  {
   "cell_type": "code",
   "execution_count": 276,
   "id": "ea172023",
   "metadata": {},
   "outputs": [],
   "source": [
    "\n",
    "def find_intersection(row, df):\n",
    "    rec_items = row['items']\n",
    "    all_items = df.loc[df['user'] == row['user'], 'items'].values\n",
    "    if len(rec_items) == 0 or len(all_items) == 0:\n",
    "        return []\n",
    "    else:\n",
    "        intersection = np.intersect1d(rec_items, all_items[0])\n",
    "        return intersection\n"
   ]
  },
  {
   "cell_type": "markdown",
   "id": "b7c63236",
   "metadata": {},
   "source": [
    "Restriction of recommended items to those with which the user has had any interaction"
   ]
  },
  {
   "cell_type": "code",
   "execution_count": 277,
   "id": "058633a2",
   "metadata": {},
   "outputs": [],
   "source": [
    "df_rec['items'] = df_rec.apply(lambda row: find_intersection(row, df_all), axis=1)\n",
    "\n",
    "df_match = df_rec.copy()"
   ]
  },
  {
   "cell_type": "markdown",
   "id": "b6b441f5",
   "metadata": {},
   "source": [
    "Listing of items both recommended and those with which the user has had higher-level interaction"
   ]
  },
  {
   "cell_type": "code",
   "execution_count": 278,
   "id": "238c4ac6",
   "metadata": {},
   "outputs": [],
   "source": [
    "df_match['items'] = df_match.apply(lambda row: find_intersection(row, df_23), axis=1)"
   ]
  },
  {
   "cell_type": "markdown",
   "id": "1d2e2b67",
   "metadata": {},
   "source": [
    "`precision`"
   ]
  },
  {
   "cell_type": "code",
   "execution_count": 279,
   "id": "4b3c6a61",
   "metadata": {},
   "outputs": [
    {
     "data": {
      "text/plain": [
       "[<matplotlib.lines.Line2D at 0x20311ae2110>]"
      ]
     },
     "execution_count": 279,
     "metadata": {},
     "output_type": "execute_result"
    },
    {
     "data": {
      "image/png": "[encoded data removed]",
      "text/plain": [
       "<Figure size 640x480 with 1 Axes>"
      ]
     },
     "metadata": {},
     "output_type": "display_data"
    }
   ],
   "source": [
    "(df_match['items'].apply(len)/df_rec['items'].apply(len)).sum(skipna=True)/len(df_match['items']) \n",
    "matplotlib.pyplot.plot(df_match['items'].apply(len)/df_rec['items'].apply(len), 'o')"
   ]
  },
  {
   "cell_type": "markdown",
   "id": "e2d88b20",
   "metadata": {},
   "source": [
    "`recall`"
   ]
  },
  {
   "cell_type": "code",
   "execution_count": 280,
   "id": "f9acf805",
   "metadata": {},
   "outputs": [
    {
     "data": {
      "text/plain": [
       "[<matplotlib.lines.Line2D at 0x20311b2e7d0>]"
      ]
     },
     "execution_count": 280,
     "metadata": {},
     "output_type": "execute_result"
    },
    {
     "data": {
      "image/png": "[encoded data removed]",
      "text/plain": [
       "<Figure size 640x480 with 1 Axes>"
      ]
     },
     "metadata": {},
     "output_type": "display_data"
    }
   ],
   "source": [
    "(df_match['items'].apply(len)/df_23['items'].apply(len)).sum(skipna=True)/len(df_match['items']) \n",
    "matplotlib.pyplot.plot(df_match['items'].apply(len)/df_23['items'].apply(len), 'o')"
   ]
  }
 ],
 "metadata": {
  "kernelspec": {
   "display_name": "olx",
   "language": "python",
   "name": "olx"
  },
  "language_info": {
   "codemirror_mode": {
    "name": "ipython",
    "version": 3
   },
   "file_extension": ".py",
   "mimetype": "text/x-python",
   "name": "python",
   "nbconvert_exporter": "python",
   "pygments_lexer": "ipython3",
   "version": "3.11.5"
  }
 },
 "nbformat": 4,
 "nbformat_minor": 5
}
