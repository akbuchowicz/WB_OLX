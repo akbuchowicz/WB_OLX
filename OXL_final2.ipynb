{
 "cells": [
  {
   "cell_type": "markdown",
   "id": "2d1b2df2-62e6-4c95-beb9-d4be25d1de32",
   "metadata": {
    "id": "2d1b2df2-62e6-4c95-beb9-d4be25d1de32"
   },
   "source": [
    "# Library import and data loading"
   ]
  },
  {
   "cell_type": "markdown",
   "id": "17d394c9-0f2e-4df9-997a-0f6de86a03d8",
   "metadata": {},
   "source": [
    "* Dodać gdzie ile obserwacji ucinamy (zarówno dla użytkowników i przedmiotów).\n",
    "* Zobaczyć na jakich danych działamy po zmniejszeniu agresji ucinania outlierów"
   ]
  },
  {
   "cell_type": "code",
   "execution_count": 1,
   "id": "deaa23ff-52fb-4ae6-a092-8e953458092f",
   "metadata": {
    "id": "deaa23ff-52fb-4ae6-a092-8e953458092f"
   },
   "outputs": [
    {
     "name": "stdout",
     "output_type": "stream",
     "text": [
      "WARNING:tensorflow:From C:\\Users\\marci\\anaconda3\\Lib\\site-packages\\keras\\src\\losses.py:2976: The name tf.losses.sparse_softmax_cross_entropy is deprecated. Please use tf.compat.v1.losses.sparse_softmax_cross_entropy instead.\n",
      "\n",
      "WARNING:tensorflow:From C:\\Users\\marci\\anaconda3\\Lib\\site-packages\\libreco\\tfops\\version.py:4: The name tf.disable_v2_behavior is deprecated. Please use tf.compat.v1.disable_v2_behavior instead.\n",
      "\n",
      "WARNING:tensorflow:From C:\\Users\\marci\\anaconda3\\Lib\\site-packages\\tensorflow\\python\\compat\\v2_compat.py:108: disable_resource_variables (from tensorflow.python.ops.variable_scope) is deprecated and will be removed in a future version.\n",
      "Instructions for updating:\n",
      "non-resource variables are not supported in the long term\n"
     ]
    }
   ],
   "source": [
    "import numpy as np\n",
    "import pandas as pd\n",
    "import matplotlib\n",
    "import matplotlib.pyplot as plt\n",
    "import seaborn as sns\n",
    "from datetime import datetime\n",
    "from sklearn.model_selection import train_test_split\n",
    "import random\n",
    "import scipy.sparse as sp\n",
    "from scipy import stats\n",
    "from libreco.data import random_split, DatasetPure, split_by_ratio_chrono\n",
    "from libreco.algorithms import LightGCN\n",
    "from libreco.evaluation import evaluate"
   ]
  },
  {
   "cell_type": "code",
   "execution_count": 2,
   "id": "67fc10cc-2078-4eda-b150-ba0e03291162",
   "metadata": {
    "colab": {
     "base_uri": "https://localhost:8080/"
    },
    "id": "67fc10cc-2078-4eda-b150-ba0e03291162",
    "outputId": "38682f67-4543-4db3-f356-1b7962bfea97"
   },
   "outputs": [],
   "source": [
    "df = pd.read_csv(\"C:\\\\Users\\\\marci\\\\OneDrive\\\\Pulpit\\\\archive\\\\interactions.csv\",\n",
    "                 # \"C:\\\\Users\\\\fpazi\\\\Desktop\\\\projekty\\\\olx\\\\interactions.csv\",\n",
    "                 sep=',')\n",
    "\n",
    "# from google.colab import drive\n",
    "# drive.mount(\"/content/drive\")\n",
    "# df = pd.read_csv(\"/content/drive/MyDrive/WB_OLX/interactions.csv\")"
   ]
  },
  {
   "cell_type": "markdown",
   "id": "8dbef574",
   "metadata": {
    "id": "8dbef574"
   },
   "source": [
    "# EDA"
   ]
  },
  {
   "cell_type": "markdown",
   "id": "a53b251b-372c-43f6-9223-e6eebf7bc745",
   "metadata": {
    "id": "a53b251b-372c-43f6-9223-e6eebf7bc745"
   },
   "source": [
    "## Basic statistics"
   ]
  },
  {
   "cell_type": "code",
   "execution_count": 3,
   "id": "2d69398d-287a-4ad7-b0b6-49e0d6bc6114",
   "metadata": {
    "colab": {
     "base_uri": "https://localhost:8080/"
    },
    "id": "2d69398d-287a-4ad7-b0b6-49e0d6bc6114",
    "outputId": "20e66ed9-269b-40f4-b937-1bc1734aa843"
   },
   "outputs": [
    {
     "data": {
      "text/plain": [
       "event\n",
       "click                    58817263\n",
       "contact_phone_click_1     1721338\n",
       "bookmark                  1644602\n",
       "chat_click                1399051\n",
       "contact_chat               948470\n",
       "contact_partner_click      459305\n",
       "contact_phone_click_2      444497\n",
       "contact_phone_click_3       67675\n",
       "Name: count, dtype: int64"
      ]
     },
     "execution_count": 3,
     "metadata": {},
     "output_type": "execute_result"
    }
   ],
   "source": [
    "df['event'].value_counts()"
   ]
  },
  {
   "cell_type": "code",
   "execution_count": 4,
   "id": "579ed43d-48f0-4047-b16a-f6e4c712d89e",
   "metadata": {
    "colab": {
     "base_uri": "https://localhost:8080/"
    },
    "id": "579ed43d-48f0-4047-b16a-f6e4c712d89e",
    "outputId": "8f1dd417-6cd8-45f2-d6b0-3a3324173b68"
   },
   "outputs": [
    {
     "name": "stdout",
     "output_type": "stream",
     "text": [
      "<class 'pandas.core.frame.DataFrame'>\n",
      "RangeIndex: 65502201 entries, 0 to 65502200\n",
      "Data columns (total 4 columns):\n",
      " #   Column     Dtype \n",
      "---  ------     ----- \n",
      " 0   user       int64 \n",
      " 1   item       int64 \n",
      " 2   event      object\n",
      " 3   timestamp  int64 \n",
      "dtypes: int64(3), object(1)\n",
      "memory usage: 2.0+ GB\n"
     ]
    }
   ],
   "source": [
    "df.info()"
   ]
  },
  {
   "cell_type": "code",
   "execution_count": 5,
   "id": "53e74fc1-c6f8-463a-b82a-df59d701f5c6",
   "metadata": {
    "colab": {
     "base_uri": "https://localhost:8080/"
    },
    "id": "53e74fc1-c6f8-463a-b82a-df59d701f5c6",
    "outputId": "6e6c8f7a-1941-40b3-8f3e-b529e7a1e433"
   },
   "outputs": [
    {
     "name": "stdout",
     "output_type": "stream",
     "text": [
      "Number of users:  3295942\n",
      "Number of items:  185395\n"
     ]
    }
   ],
   "source": [
    "n_users = df['user'].nunique()\n",
    "n_items = df['item'].nunique()\n",
    "\n",
    "print('Number of users: ', n_users)\n",
    "print('Number of items: ', n_items)"
   ]
  },
  {
   "cell_type": "code",
   "execution_count": 6,
   "id": "65f078bf-7768-43ef-83d3-b2d74625c254",
   "metadata": {
    "colab": {
     "base_uri": "https://localhost:8080/"
    },
    "id": "65f078bf-7768-43ef-83d3-b2d74625c254",
    "outputId": "3f9e8d19-f651-48b0-bdc3-41973e0de1b9"
   },
   "outputs": [
    {
     "name": "stdout",
     "output_type": "stream",
     "text": [
      "Average number of events per user:  19.87  with a standard deviation of  47.762363188402105\n",
      "Average number of events per item:  353.31  with a standard deviation of  624.7732106025969\n"
     ]
    }
   ],
   "source": [
    "n_events_per_user = df.groupby('user').size()\n",
    "n_events_per_item = df.groupby('item').size()\n",
    "\n",
    "print('Average number of events per user: ', round(np.mean(n_events_per_user), 2), ' with a standard deviation of ', np.std(n_events_per_user))\n",
    "print('Average number of events per item: ', round(np.mean(n_events_per_item), 2), ' with a standard deviation of ', np.std(n_events_per_item))"
   ]
  },
  {
   "cell_type": "code",
   "execution_count": 7,
   "id": "8056ad6c-56b0-4ea9-9310-123e19fd1293",
   "metadata": {
    "colab": {
     "base_uri": "https://localhost:8080/"
    },
    "id": "8056ad6c-56b0-4ea9-9310-123e19fd1293",
    "outputId": "1e6383ce-9fd3-4f50-c45c-06e1c2eb15f3"
   },
   "outputs": [
    {
     "name": "stdout",
     "output_type": "stream",
     "text": [
      "Median number of events per user:  6.0\n",
      "Median number of events per item:  137.0\n"
     ]
    }
   ],
   "source": [
    "print('Median number of events per user: ', round(np.median(n_events_per_user), 2))\n",
    "print('Median number of events per item: ', round(np.median(n_events_per_item), 2))"
   ]
  },
  {
   "cell_type": "markdown",
   "id": "bbdc488c-dbf4-44ab-a73a-627701c732d7",
   "metadata": {
    "id": "bbdc488c-dbf4-44ab-a73a-627701c732d7"
   },
   "source": [
    "## Number of interactions per user"
   ]
  },
  {
   "cell_type": "code",
   "execution_count": 8,
   "id": "1cdeeb15-09cc-48d3-9c11-a5cfa8b785fd",
   "metadata": {
    "colab": {
     "base_uri": "https://localhost:8080/"
    },
    "id": "1cdeeb15-09cc-48d3-9c11-a5cfa8b785fd",
    "outputId": "309706e5-d132-4331-861a-c32167317f1f"
   },
   "outputs": [
    {
     "data": {
      "text/plain": [
       "count    3.295942e+06\n",
       "mean     1.987359e+01\n",
       "std      4.776237e+01\n",
       "min      1.000000e+00\n",
       "25%      2.000000e+00\n",
       "50%      6.000000e+00\n",
       "75%      1.800000e+01\n",
       "max      1.310000e+03\n",
       "dtype: float64"
      ]
     },
     "execution_count": 8,
     "metadata": {},
     "output_type": "execute_result"
    }
   ],
   "source": [
    "n_events_per_user.describe()"
   ]
  },
  {
   "cell_type": "code",
   "execution_count": 9,
   "id": "s4Z9WL8D1QdH",
   "metadata": {
    "colab": {
     "base_uri": "https://localhost:8080/",
     "height": 485
    },
    "id": "s4Z9WL8D1QdH",
    "outputId": "d620d97f-6e7b-4de9-def2-5f173c6ad743"
   },
   "outputs": [
    {
     "data": {
      "text/plain": [
       "[Text(0.5, 1.0, 'ECDF of number of interactions per user')]"
      ]
     },
     "execution_count": 9,
     "metadata": {},
     "output_type": "execute_result"
    },
    {
     "data": {
      "image/png": "[encoded data removed]",
      "text/plain": [
       "<Figure size 1500x500 with 3 Axes>"
      ]
     },
     "metadata": {},
     "output_type": "display_data"
    }
   ],
   "source": [
    "fig, axs = plt.subplots(1, 3, figsize = (15, 5))\n",
    "h1 = sns.boxplot(n_events_per_user, ax=axs[0])\n",
    "h1.set_yscale('log')\n",
    "h1.set(title = 'Boxplot of number of interactions per user')\n",
    "h2=sns.histplot(n_events_per_user, bins=30, ax=axs[1])\n",
    "h2.set_yscale('log')\n",
    "h2.set(title = 'Histogram of number of interactions per user')\n",
    "h3 = sns.ecdfplot(n_events_per_user)\n",
    "h3.set(title = 'ECDF of number of interactions per user')"
   ]
  },
  {
   "cell_type": "markdown",
   "id": "XjPWosxc1pe0",
   "metadata": {
    "id": "XjPWosxc1pe0"
   },
   "source": [
    "We have used the logarithmic scale for the box and histogram plot."
   ]
  },
  {
   "cell_type": "markdown",
   "id": "b0a64da1-9c13-405c-8e5d-435c6bc8a0a8",
   "metadata": {
    "id": "b0a64da1-9c13-405c-8e5d-435c6bc8a0a8"
   },
   "source": [
    "## Number of interactions per item"
   ]
  },
  {
   "cell_type": "code",
   "execution_count": 10,
   "id": "f655eb71-702c-4e2e-aa4d-7b75468e8f9c",
   "metadata": {
    "colab": {
     "base_uri": "https://localhost:8080/"
    },
    "id": "f655eb71-702c-4e2e-aa4d-7b75468e8f9c",
    "outputId": "a728e266-16b8-4989-bc7b-707a74908968"
   },
   "outputs": [
    {
     "data": {
      "text/plain": [
       "count    185395.000000\n",
       "mean        353.311583\n",
       "std         624.774896\n",
       "min           1.000000\n",
       "25%           3.000000\n",
       "50%         137.000000\n",
       "75%         428.000000\n",
       "max       15480.000000\n",
       "dtype: float64"
      ]
     },
     "execution_count": 10,
     "metadata": {},
     "output_type": "execute_result"
    }
   ],
   "source": [
    "n_events_per_item.describe()"
   ]
  },
  {
   "cell_type": "code",
   "execution_count": 11,
   "id": "L3bvJ2m51jKv",
   "metadata": {
    "colab": {
     "base_uri": "https://localhost:8080/",
     "height": 485
    },
    "id": "L3bvJ2m51jKv",
    "outputId": "310f336a-9753-4a69-fd66-0d2b032fe094"
   },
   "outputs": [
    {
     "data": {
      "text/plain": [
       "[Text(0.5, 1.0, 'ECDF of number of interactions per item')]"
      ]
     },
     "execution_count": 11,
     "metadata": {},
     "output_type": "execute_result"
    },
    {
     "data": {
      "image/png": "[encoded data removed]",
      "text/plain": [
       "<Figure size 1500x500 with 3 Axes>"
      ]
     },
     "metadata": {},
     "output_type": "display_data"
    }
   ],
   "source": [
    "fig, axs = plt.subplots(1, 3, figsize = (15, 5))\n",
    "h1 = sns.boxplot(n_events_per_item, ax=axs[0], color='orange')\n",
    "h1.set_yscale('log')\n",
    "h1.set(title = 'Boxplot of number of interactions per item')\n",
    "h2=sns.histplot(n_events_per_item, bins=30, ax=axs[1], color='orange')\n",
    "h2.set_yscale('log')\n",
    "h2.set(title = 'Histogram of number of interactions per item')\n",
    "h3 = sns.ecdfplot(n_events_per_item, color='orange')\n",
    "h3.set(title = 'ECDF of number of interactions per item')"
   ]
  },
  {
   "cell_type": "markdown",
   "id": "XPSSbodt15ov",
   "metadata": {
    "id": "XPSSbodt15ov"
   },
   "source": [
    "We have used the logarithmic scale for the box and histogram plot."
   ]
  },
  {
   "cell_type": "markdown",
   "id": "618b056d-e2b5-4c5f-bbb9-ed44a570666f",
   "metadata": {
    "id": "618b056d-e2b5-4c5f-bbb9-ed44a570666f"
   },
   "source": [
    "# Data pre-processing"
   ]
  },
  {
   "cell_type": "markdown",
   "id": "7bf99742-2a15-409c-9f08-c8e41fb0e646",
   "metadata": {
    "id": "7bf99742-2a15-409c-9f08-c8e41fb0e646"
   },
   "source": [
    "Split the values from the `event` column so that we can tailor our data frame to the task."
   ]
  },
  {
   "cell_type": "code",
   "execution_count": 12,
   "id": "1ffd56f4-eb0b-4404-a8f2-378c688644e7",
   "metadata": {
    "id": "1ffd56f4-eb0b-4404-a8f2-378c688644e7"
   },
   "outputs": [],
   "source": [
    "rating = {\n",
    "    'click': 1,\n",
    "    'bookmark': 2,\n",
    "    'chat_click': 3,\n",
    "    'contact_phone_click_1': 3,\n",
    "    'contact_partner_click': 3,\n",
    "    'contact_phone_click_2': 3,\n",
    "    'contact_phone_click_3': 3,\n",
    "    'contact_chat': 3\n",
    "}\n",
    "df['event'] = df['event'].map(rating)\n",
    "df = df.rename(columns={'event': 'label'})\n",
    "df = df.rename(columns={'timestamp': 'time'})"
   ]
  },
  {
   "cell_type": "code",
   "execution_count": 13,
   "id": "40dc3a73-c06e-4bab-b071-1599ed6436b6",
   "metadata": {
    "colab": {
     "base_uri": "https://localhost:8080/"
    },
    "id": "40dc3a73-c06e-4bab-b071-1599ed6436b6",
    "outputId": "5575aa88-6093-4940-ef11-0ce8f000f816"
   },
   "outputs": [
    {
     "data": {
      "text/plain": [
       "count    3.295942e+06\n",
       "mean     1.987359e+01\n",
       "std      4.776237e+01\n",
       "min      1.000000e+00\n",
       "25%      2.000000e+00\n",
       "50%      6.000000e+00\n",
       "75%      1.800000e+01\n",
       "max      1.310000e+03\n",
       "Name: count, dtype: float64"
      ]
     },
     "execution_count": 13,
     "metadata": {},
     "output_type": "execute_result"
    }
   ],
   "source": [
    "user_interaction_counts = df['user'].value_counts()\n",
    "user_interaction_counts.describe()"
   ]
  },
  {
   "cell_type": "markdown",
   "id": "93819256",
   "metadata": {
    "id": "93819256"
   },
   "source": [
    "We get rid of users with less than 100 interactions. In this way, we hope to weed out users who are not regulars. <br>We get rid of outliers using the 8 sigma method."
   ]
  },
  {
   "cell_type": "code",
   "execution_count": 14,
   "id": "a2f0b891-3185-4029-affb-f94374f9fa9b",
   "metadata": {},
   "outputs": [],
   "source": [
    "reg_users = user_interaction_counts[user_interaction_counts >= 100]\n",
    "users_to_keep = reg_users[reg_users <= reg_users.mean() + 8*reg_users.std()].index\n",
    "df_no = df[df['user'].isin(users_to_keep)]"
   ]
  },
  {
   "cell_type": "code",
   "execution_count": 15,
   "id": "d6f8a953-a8eb-4cf7-8a11-7bfae43a9b95",
   "metadata": {},
   "outputs": [
    {
     "data": {
      "text/plain": [
       "count    123531.000000\n",
       "mean        202.475403\n",
       "std         134.874360\n",
       "min         100.000000\n",
       "25%         121.000000\n",
       "50%         156.000000\n",
       "75%         229.000000\n",
       "max        1283.000000\n",
       "dtype: float64"
      ]
     },
     "execution_count": 15,
     "metadata": {},
     "output_type": "execute_result"
    }
   ],
   "source": [
    "n_events_per_user = df_no.groupby('user').size()\n",
    "n_events_per_user.describe()"
   ]
  },
  {
   "cell_type": "code",
   "execution_count": 16,
   "id": "189fb8ef-8581-46fd-b2ad-915b32a4c890",
   "metadata": {},
   "outputs": [
    {
     "data": {
      "text/plain": [
       "0.03747972506797753"
      ]
     },
     "execution_count": 16,
     "metadata": {},
     "output_type": "execute_result"
    }
   ],
   "source": [
    "df_no['user'].nunique()/n_users"
   ]
  },
  {
   "cell_type": "code",
   "execution_count": 17,
   "id": "b5c38c3f-d154-4532-987a-7a28945518b9",
   "metadata": {},
   "outputs": [
    {
     "data": {
      "image/png": "[encoded data removed]",
      "text/plain": [
       "<Figure size 1500x500 with 2 Axes>"
      ]
     },
     "metadata": {},
     "output_type": "display_data"
    }
   ],
   "source": [
    "figure, axis = plt.subplots(1, 2, figsize=(15,5))\n",
    "stats.probplot(user_interaction_counts, dist='norm', plot=axis[0])\n",
    "axis[0].set_title(\"Before transformation\")\n",
    "\n",
    "stats.probplot(n_events_per_user, dist='norm', plot=axis[1])\n",
    "axis[1].set_title(\"After transformation\")\n",
    "\n",
    "figure.suptitle(\"Normal QQPlots\")\n",
    "plt.show()"
   ]
  },
  {
   "cell_type": "code",
   "execution_count": 18,
   "id": "a08da2c9-6de9-4ce8-8406-7f285e8b9eda",
   "metadata": {},
   "outputs": [
    {
     "data": {
      "text/plain": [
       "Text(0.5, 1.0, 'Boxplot of interactions per user.')"
      ]
     },
     "execution_count": 18,
     "metadata": {},
     "output_type": "execute_result"
    },
    {
     "data": {
      "image/png": "[encoded data removed]",
      "text/plain": [
       "<Figure size 640x480 with 1 Axes>"
      ]
     },
     "metadata": {},
     "output_type": "display_data"
    }
   ],
   "source": [
    "sns.boxplot(n_events_per_user.values).set_title('Boxplot of interactions per user.')"
   ]
  },
  {
   "cell_type": "markdown",
   "id": "gTJGHA5w4vUr",
   "metadata": {
    "id": "gTJGHA5w4vUr"
   },
   "source": [
    "We will again apply the log scale to the y axis to see the distribution more clrealy."
   ]
  },
  {
   "cell_type": "code",
   "execution_count": 19,
   "id": "e0a8e04e-f291-4bce-bbed-4657fe5053f3",
   "metadata": {},
   "outputs": [
    {
     "data": {
      "text/plain": [
       "[Text(0.5, 1.0, 'Histogram of number of interactions per user')]"
      ]
     },
     "execution_count": 19,
     "metadata": {},
     "output_type": "execute_result"
    },
    {
     "data": {
      "image/png": "[encoded data removed]",
      "text/plain": [
       "<Figure size 1500x500 with 2 Axes>"
      ]
     },
     "metadata": {},
     "output_type": "display_data"
    }
   ],
   "source": [
    "fig, axs = plt.subplots(1, 2, figsize = (15, 5))\n",
    "h1 = sns.boxplot(n_events_per_user.values, ax=axs[0])\n",
    "h1.set_yscale('log')\n",
    "h1.set(title = 'Boxplot of number of interactions per user')\n",
    "h2=sns.histplot(n_events_per_user, bins=30, ax=axs[1])\n",
    "h2.set_yscale('log')\n",
    "h2.set(title = 'Histogram of number of interactions per user')"
   ]
  },
  {
   "cell_type": "markdown",
   "id": "a9dcda4e-5af7-4a77-ada7-c126f912cc92",
   "metadata": {},
   "source": [
    "Here we try to label less users as outliers. We decided that users with no interactions are not interesting in our model, and users with more than 1000 interactions in two weeks might be bots so we deleted them. This resulted in using more than 99% of the original number of users. The idea is to compare two models, one created on smaller but maybe more dense training set and then the second one created on bigger, less dense training set and compare the metrics on the same test set."
   ]
  },
  {
   "cell_type": "code",
   "execution_count": 75,
   "id": "1e5c3fc0",
   "metadata": {
    "id": "1e5c3fc0"
   },
   "outputs": [],
   "source": [
    "user_interaction_counts = df['user'].value_counts()\n",
    "reg_users = user_interaction_counts[user_interaction_counts >= 1]\n",
    "users_to_keep = reg_users[reg_users <= 1000].index\n",
    "df_fil = df[df['user'].isin(users_to_keep)]"
   ]
  },
  {
   "cell_type": "code",
   "execution_count": 76,
   "id": "a6b0a511",
   "metadata": {},
   "outputs": [
    {
     "data": {
      "text/plain": [
       "0.9998707501527636"
      ]
     },
     "execution_count": 76,
     "metadata": {},
     "output_type": "execute_result"
    }
   ],
   "source": [
    "df_fil['user'].nunique()/n_users"
   ]
  },
  {
   "cell_type": "code",
   "execution_count": 60,
   "id": "ddfc7d54-04c3-4bac-a129-a350e28f8442",
   "metadata": {
    "colab": {
     "base_uri": "https://localhost:8080/"
    },
    "id": "ddfc7d54-04c3-4bac-a129-a350e28f8442",
    "outputId": "e69f8104-dea7-4a29-c5ae-b244f4849d44"
   },
   "outputs": [
    {
     "data": {
      "text/plain": [
       "count    3.295516e+06\n",
       "mean     1.973114e+01\n",
       "std      4.608337e+01\n",
       "min      1.000000e+00\n",
       "25%      2.000000e+00\n",
       "50%      6.000000e+00\n",
       "75%      1.800000e+01\n",
       "max      1.000000e+03\n",
       "dtype: float64"
      ]
     },
     "execution_count": 60,
     "metadata": {},
     "output_type": "execute_result"
    }
   ],
   "source": [
    "n_events_per_user = df_fil.groupby('user').size()\n",
    "n_events_per_user.describe()"
   ]
  },
  {
   "cell_type": "markdown",
   "id": "576ca802",
   "metadata": {
    "id": "576ca802"
   },
   "source": [
    "We get rid of items with fewer than 1,000 interactions. In doing so, we hope to retain items that enjoy at least moderate success. <br>We get rid of outliers using the 8 sigma method."
   ]
  },
  {
   "cell_type": "code",
   "execution_count": 23,
   "id": "8cdd28ab",
   "metadata": {
    "id": "8cdd28ab"
   },
   "outputs": [],
   "source": [
    "item_interaction_counts = df_no['item'].value_counts()"
   ]
  },
  {
   "cell_type": "code",
   "execution_count": 24,
   "id": "c6803792",
   "metadata": {
    "colab": {
     "base_uri": "https://localhost:8080/"
    },
    "id": "c6803792",
    "outputId": "1ab95ad3-1b86-46f9-cbbf-c0091908e2be"
   },
   "outputs": [
    {
     "data": {
      "text/plain": [
       "count    145085.000000\n",
       "mean        172.395416\n",
       "std         298.115472\n",
       "min           1.000000\n",
       "25%          23.000000\n",
       "50%          74.000000\n",
       "75%         195.000000\n",
       "max        7276.000000\n",
       "Name: count, dtype: float64"
      ]
     },
     "execution_count": 24,
     "metadata": {},
     "output_type": "execute_result"
    }
   ],
   "source": [
    "item_interaction_counts.describe()"
   ]
  },
  {
   "cell_type": "code",
   "execution_count": 25,
   "id": "a292795e-1d6e-4a3b-bdc7-de6c3081b883",
   "metadata": {},
   "outputs": [],
   "source": [
    "popular_item = item_interaction_counts[item_interaction_counts >= 1000]\n",
    "items_to_keep = popular_item[popular_item <= popular_item.mean() + 8*popular_item.std()].index\n",
    "df_no = df_no[df_no['item'].isin(items_to_keep)].reset_index(drop=True)"
   ]
  },
  {
   "cell_type": "code",
   "execution_count": 26,
   "id": "2865b760-e39a-41fe-841b-246945c645d4",
   "metadata": {},
   "outputs": [
    {
     "data": {
      "text/plain": [
       "0.017745893902208796"
      ]
     },
     "execution_count": 26,
     "metadata": {},
     "output_type": "execute_result"
    }
   ],
   "source": [
    "df_no['item'].nunique()/n_items"
   ]
  },
  {
   "cell_type": "code",
   "execution_count": 27,
   "id": "6539d4c4-242c-43f9-be4a-be72df7ad677",
   "metadata": {},
   "outputs": [
    {
     "data": {
      "text/plain": [
       "count    3290.000000\n",
       "mean     1577.923100\n",
       "std       693.458523\n",
       "min      1000.000000\n",
       "25%      1139.000000\n",
       "50%      1355.000000\n",
       "75%      1754.000000\n",
       "max      7080.000000\n",
       "dtype: float64"
      ]
     },
     "execution_count": 27,
     "metadata": {},
     "output_type": "execute_result"
    }
   ],
   "source": [
    "n_events_per_item = df_no.groupby('item').size()\n",
    "n_events_per_item.describe()"
   ]
  },
  {
   "cell_type": "code",
   "execution_count": 28,
   "id": "209c4740-3050-4224-ba82-2c6e9c73fe61",
   "metadata": {},
   "outputs": [
    {
     "data": {
      "image/png": "[encoded data removed]",
      "text/plain": [
       "<Figure size 1500x500 with 2 Axes>"
      ]
     },
     "metadata": {},
     "output_type": "display_data"
    }
   ],
   "source": [
    "figure, axis = plt.subplots(1, 2, figsize=(15,5))\n",
    "stats.probplot(item_interaction_counts, dist='norm', plot=axis[0])\n",
    "axis[0].set_title(\"Before transformation\")\n",
    "\n",
    "stats.probplot(n_events_per_item, dist='norm', plot=axis[1])\n",
    "axis[1].set_title(\"After transformation\")\n",
    "\n",
    "figure.suptitle(\"Normal QQPlots\")\n",
    "plt.show()"
   ]
  },
  {
   "cell_type": "code",
   "execution_count": 29,
   "id": "dc53595b-fa1f-47de-a9d3-a9a282c88cdd",
   "metadata": {},
   "outputs": [
    {
     "data": {
      "text/plain": [
       "Text(0.5, 1.0, 'Boxplot of interactions per item.')"
      ]
     },
     "execution_count": 29,
     "metadata": {},
     "output_type": "execute_result"
    },
    {
     "data": {
      "image/png": "[encoded data removed]",
      "text/plain": [
       "<Figure size 640x480 with 1 Axes>"
      ]
     },
     "metadata": {},
     "output_type": "display_data"
    }
   ],
   "source": [
    "sns.boxplot(n_events_per_item.values, color='orange').set_title(\"Boxplot of interactions per item.\")"
   ]
  },
  {
   "cell_type": "markdown",
   "id": "9ddb0687-a60a-4ab2-824c-38e0575c4f67",
   "metadata": {},
   "source": [
    "Once again, we can apply the log scale to the y axis to get a better idea of the distribution."
   ]
  },
  {
   "cell_type": "code",
   "execution_count": 30,
   "id": "a9b2a761-1e16-4cc8-82c6-fb4f6485cebb",
   "metadata": {},
   "outputs": [
    {
     "ename": "KeyError",
     "evalue": "0",
     "output_type": "error",
     "traceback": [
      "\u001b[1;31m---------------------------------------------------------------------------\u001b[0m",
      "\u001b[1;31mKeyError\u001b[0m                                  Traceback (most recent call last)",
      "File \u001b[1;32m~\\anaconda3\\Lib\\site-packages\\pandas\\core\\indexes\\base.py:3653\u001b[0m, in \u001b[0;36mIndex.get_loc\u001b[1;34m(self, key)\u001b[0m\n\u001b[0;32m   3652\u001b[0m \u001b[38;5;28;01mtry\u001b[39;00m:\n\u001b[1;32m-> 3653\u001b[0m     \u001b[38;5;28;01mreturn\u001b[39;00m \u001b[38;5;28mself\u001b[39m\u001b[38;5;241m.\u001b[39m_engine\u001b[38;5;241m.\u001b[39mget_loc(casted_key)\n\u001b[0;32m   3654\u001b[0m \u001b[38;5;28;01mexcept\u001b[39;00m \u001b[38;5;167;01mKeyError\u001b[39;00m \u001b[38;5;28;01mas\u001b[39;00m err:\n",
      "File \u001b[1;32m~\\anaconda3\\Lib\\site-packages\\pandas\\_libs\\index.pyx:147\u001b[0m, in \u001b[0;36mpandas._libs.index.IndexEngine.get_loc\u001b[1;34m()\u001b[0m\n",
      "File \u001b[1;32m~\\anaconda3\\Lib\\site-packages\\pandas\\_libs\\index.pyx:176\u001b[0m, in \u001b[0;36mpandas._libs.index.IndexEngine.get_loc\u001b[1;34m()\u001b[0m\n",
      "File \u001b[1;32mpandas\\_libs\\hashtable_class_helper.pxi:2606\u001b[0m, in \u001b[0;36mpandas._libs.hashtable.Int64HashTable.get_item\u001b[1;34m()\u001b[0m\n",
      "File \u001b[1;32mpandas\\_libs\\hashtable_class_helper.pxi:2630\u001b[0m, in \u001b[0;36mpandas._libs.hashtable.Int64HashTable.get_item\u001b[1;34m()\u001b[0m\n",
      "\u001b[1;31mKeyError\u001b[0m: 0",
      "\nThe above exception was the direct cause of the following exception:\n",
      "\u001b[1;31mKeyError\u001b[0m                                  Traceback (most recent call last)",
      "Cell \u001b[1;32mIn[30], line 2\u001b[0m\n\u001b[0;32m      1\u001b[0m fig, axs \u001b[38;5;241m=\u001b[39m plt\u001b[38;5;241m.\u001b[39msubplots(\u001b[38;5;241m1\u001b[39m, \u001b[38;5;241m2\u001b[39m, figsize \u001b[38;5;241m=\u001b[39m (\u001b[38;5;241m15\u001b[39m, \u001b[38;5;241m5\u001b[39m))\n\u001b[1;32m----> 2\u001b[0m h1 \u001b[38;5;241m=\u001b[39m sns\u001b[38;5;241m.\u001b[39mboxplot(n_events_per_item, ax\u001b[38;5;241m=\u001b[39maxs[\u001b[38;5;241m0\u001b[39m], color\u001b[38;5;241m=\u001b[39m\u001b[38;5;124m'\u001b[39m\u001b[38;5;124morange\u001b[39m\u001b[38;5;124m'\u001b[39m)\n\u001b[0;32m      3\u001b[0m h1\u001b[38;5;241m.\u001b[39mset_yscale(\u001b[38;5;124m'\u001b[39m\u001b[38;5;124mlog\u001b[39m\u001b[38;5;124m'\u001b[39m)\n\u001b[0;32m      4\u001b[0m h1\u001b[38;5;241m.\u001b[39mset(title \u001b[38;5;241m=\u001b[39m \u001b[38;5;124m'\u001b[39m\u001b[38;5;124mBoxplot of number of interactions per item\u001b[39m\u001b[38;5;124m'\u001b[39m)\n",
      "File \u001b[1;32m~\\anaconda3\\Lib\\site-packages\\seaborn\\categorical.py:2231\u001b[0m, in \u001b[0;36mboxplot\u001b[1;34m(data, x, y, hue, order, hue_order, orient, color, palette, saturation, width, dodge, fliersize, linewidth, whis, ax, **kwargs)\u001b[0m\n\u001b[0;32m   2224\u001b[0m \u001b[38;5;28;01mdef\u001b[39;00m \u001b[38;5;21mboxplot\u001b[39m(\n\u001b[0;32m   2225\u001b[0m     data\u001b[38;5;241m=\u001b[39m\u001b[38;5;28;01mNone\u001b[39;00m, \u001b[38;5;241m*\u001b[39m, x\u001b[38;5;241m=\u001b[39m\u001b[38;5;28;01mNone\u001b[39;00m, y\u001b[38;5;241m=\u001b[39m\u001b[38;5;28;01mNone\u001b[39;00m, hue\u001b[38;5;241m=\u001b[39m\u001b[38;5;28;01mNone\u001b[39;00m, order\u001b[38;5;241m=\u001b[39m\u001b[38;5;28;01mNone\u001b[39;00m, hue_order\u001b[38;5;241m=\u001b[39m\u001b[38;5;28;01mNone\u001b[39;00m,\n\u001b[0;32m   2226\u001b[0m     orient\u001b[38;5;241m=\u001b[39m\u001b[38;5;28;01mNone\u001b[39;00m, color\u001b[38;5;241m=\u001b[39m\u001b[38;5;28;01mNone\u001b[39;00m, palette\u001b[38;5;241m=\u001b[39m\u001b[38;5;28;01mNone\u001b[39;00m, saturation\u001b[38;5;241m=\u001b[39m\u001b[38;5;241m.75\u001b[39m, width\u001b[38;5;241m=\u001b[39m\u001b[38;5;241m.8\u001b[39m,\n\u001b[0;32m   2227\u001b[0m     dodge\u001b[38;5;241m=\u001b[39m\u001b[38;5;28;01mTrue\u001b[39;00m, fliersize\u001b[38;5;241m=\u001b[39m\u001b[38;5;241m5\u001b[39m, linewidth\u001b[38;5;241m=\u001b[39m\u001b[38;5;28;01mNone\u001b[39;00m, whis\u001b[38;5;241m=\u001b[39m\u001b[38;5;241m1.5\u001b[39m, ax\u001b[38;5;241m=\u001b[39m\u001b[38;5;28;01mNone\u001b[39;00m,\n\u001b[0;32m   2228\u001b[0m     \u001b[38;5;241m*\u001b[39m\u001b[38;5;241m*\u001b[39mkwargs\n\u001b[0;32m   2229\u001b[0m ):\n\u001b[1;32m-> 2231\u001b[0m     plotter \u001b[38;5;241m=\u001b[39m _BoxPlotter(x, y, hue, data, order, hue_order,\n\u001b[0;32m   2232\u001b[0m                           orient, color, palette, saturation,\n\u001b[0;32m   2233\u001b[0m                           width, dodge, fliersize, linewidth)\n\u001b[0;32m   2235\u001b[0m     \u001b[38;5;28;01mif\u001b[39;00m ax \u001b[38;5;129;01mis\u001b[39;00m \u001b[38;5;28;01mNone\u001b[39;00m:\n\u001b[0;32m   2236\u001b[0m         ax \u001b[38;5;241m=\u001b[39m plt\u001b[38;5;241m.\u001b[39mgca()\n",
      "File \u001b[1;32m~\\anaconda3\\Lib\\site-packages\\seaborn\\categorical.py:785\u001b[0m, in \u001b[0;36m_BoxPlotter.__init__\u001b[1;34m(self, x, y, hue, data, order, hue_order, orient, color, palette, saturation, width, dodge, fliersize, linewidth)\u001b[0m\n\u001b[0;32m    781\u001b[0m \u001b[38;5;28;01mdef\u001b[39;00m \u001b[38;5;21m__init__\u001b[39m(\u001b[38;5;28mself\u001b[39m, x, y, hue, data, order, hue_order,\n\u001b[0;32m    782\u001b[0m              orient, color, palette, saturation,\n\u001b[0;32m    783\u001b[0m              width, dodge, fliersize, linewidth):\n\u001b[1;32m--> 785\u001b[0m     \u001b[38;5;28mself\u001b[39m\u001b[38;5;241m.\u001b[39mestablish_variables(x, y, hue, data, orient, order, hue_order)\n\u001b[0;32m    786\u001b[0m     \u001b[38;5;28mself\u001b[39m\u001b[38;5;241m.\u001b[39mestablish_colors(color, palette, saturation)\n\u001b[0;32m    788\u001b[0m     \u001b[38;5;28mself\u001b[39m\u001b[38;5;241m.\u001b[39mdodge \u001b[38;5;241m=\u001b[39m dodge\n",
      "File \u001b[1;32m~\\anaconda3\\Lib\\site-packages\\seaborn\\categorical.py:486\u001b[0m, in \u001b[0;36m_CategoricalPlotter.establish_variables\u001b[1;34m(self, x, y, hue, data, orient, order, hue_order, units)\u001b[0m\n\u001b[0;32m    484\u001b[0m \u001b[38;5;28;01mif\u001b[39;00m \u001b[38;5;28mhasattr\u001b[39m(data, \u001b[38;5;124m\"\u001b[39m\u001b[38;5;124mshape\u001b[39m\u001b[38;5;124m\"\u001b[39m):\n\u001b[0;32m    485\u001b[0m     \u001b[38;5;28;01mif\u001b[39;00m \u001b[38;5;28mlen\u001b[39m(data\u001b[38;5;241m.\u001b[39mshape) \u001b[38;5;241m==\u001b[39m \u001b[38;5;241m1\u001b[39m:\n\u001b[1;32m--> 486\u001b[0m         \u001b[38;5;28;01mif\u001b[39;00m np\u001b[38;5;241m.\u001b[39misscalar(data[\u001b[38;5;241m0\u001b[39m]):\n\u001b[0;32m    487\u001b[0m             plot_data \u001b[38;5;241m=\u001b[39m [data]\n\u001b[0;32m    488\u001b[0m         \u001b[38;5;28;01melse\u001b[39;00m:\n",
      "File \u001b[1;32m~\\anaconda3\\Lib\\site-packages\\pandas\\core\\series.py:1007\u001b[0m, in \u001b[0;36mSeries.__getitem__\u001b[1;34m(self, key)\u001b[0m\n\u001b[0;32m   1004\u001b[0m     \u001b[38;5;28;01mreturn\u001b[39;00m \u001b[38;5;28mself\u001b[39m\u001b[38;5;241m.\u001b[39m_values[key]\n\u001b[0;32m   1006\u001b[0m \u001b[38;5;28;01melif\u001b[39;00m key_is_scalar:\n\u001b[1;32m-> 1007\u001b[0m     \u001b[38;5;28;01mreturn\u001b[39;00m \u001b[38;5;28mself\u001b[39m\u001b[38;5;241m.\u001b[39m_get_value(key)\n\u001b[0;32m   1009\u001b[0m \u001b[38;5;28;01mif\u001b[39;00m is_hashable(key):\n\u001b[0;32m   1010\u001b[0m     \u001b[38;5;66;03m# Otherwise index.get_value will raise InvalidIndexError\u001b[39;00m\n\u001b[0;32m   1011\u001b[0m     \u001b[38;5;28;01mtry\u001b[39;00m:\n\u001b[0;32m   1012\u001b[0m         \u001b[38;5;66;03m# For labels that don't resolve as scalars like tuples and frozensets\u001b[39;00m\n",
      "File \u001b[1;32m~\\anaconda3\\Lib\\site-packages\\pandas\\core\\series.py:1116\u001b[0m, in \u001b[0;36mSeries._get_value\u001b[1;34m(self, label, takeable)\u001b[0m\n\u001b[0;32m   1113\u001b[0m     \u001b[38;5;28;01mreturn\u001b[39;00m \u001b[38;5;28mself\u001b[39m\u001b[38;5;241m.\u001b[39m_values[label]\n\u001b[0;32m   1115\u001b[0m \u001b[38;5;66;03m# Similar to Index.get_value, but we do not fall back to positional\u001b[39;00m\n\u001b[1;32m-> 1116\u001b[0m loc \u001b[38;5;241m=\u001b[39m \u001b[38;5;28mself\u001b[39m\u001b[38;5;241m.\u001b[39mindex\u001b[38;5;241m.\u001b[39mget_loc(label)\n\u001b[0;32m   1118\u001b[0m \u001b[38;5;28;01mif\u001b[39;00m is_integer(loc):\n\u001b[0;32m   1119\u001b[0m     \u001b[38;5;28;01mreturn\u001b[39;00m \u001b[38;5;28mself\u001b[39m\u001b[38;5;241m.\u001b[39m_values[loc]\n",
      "File \u001b[1;32m~\\anaconda3\\Lib\\site-packages\\pandas\\core\\indexes\\base.py:3655\u001b[0m, in \u001b[0;36mIndex.get_loc\u001b[1;34m(self, key)\u001b[0m\n\u001b[0;32m   3653\u001b[0m     \u001b[38;5;28;01mreturn\u001b[39;00m \u001b[38;5;28mself\u001b[39m\u001b[38;5;241m.\u001b[39m_engine\u001b[38;5;241m.\u001b[39mget_loc(casted_key)\n\u001b[0;32m   3654\u001b[0m \u001b[38;5;28;01mexcept\u001b[39;00m \u001b[38;5;167;01mKeyError\u001b[39;00m \u001b[38;5;28;01mas\u001b[39;00m err:\n\u001b[1;32m-> 3655\u001b[0m     \u001b[38;5;28;01mraise\u001b[39;00m \u001b[38;5;167;01mKeyError\u001b[39;00m(key) \u001b[38;5;28;01mfrom\u001b[39;00m \u001b[38;5;21;01merr\u001b[39;00m\n\u001b[0;32m   3656\u001b[0m \u001b[38;5;28;01mexcept\u001b[39;00m \u001b[38;5;167;01mTypeError\u001b[39;00m:\n\u001b[0;32m   3657\u001b[0m     \u001b[38;5;66;03m# If we have a listlike key, _check_indexing_error will raise\u001b[39;00m\n\u001b[0;32m   3658\u001b[0m     \u001b[38;5;66;03m#  InvalidIndexError. Otherwise we fall through and re-raise\u001b[39;00m\n\u001b[0;32m   3659\u001b[0m     \u001b[38;5;66;03m#  the TypeError.\u001b[39;00m\n\u001b[0;32m   3660\u001b[0m     \u001b[38;5;28mself\u001b[39m\u001b[38;5;241m.\u001b[39m_check_indexing_error(key)\n",
      "\u001b[1;31mKeyError\u001b[0m: 0"
     ]
    },
    {
     "data": {
      "image/png": "[encoded data removed]",
      "text/plain": [
       "<Figure size 1500x500 with 2 Axes>"
      ]
     },
     "metadata": {},
     "output_type": "display_data"
    }
   ],
   "source": [
    "fig, axs = plt.subplots(1, 2, figsize = (15, 5))\n",
    "h1 = sns.boxplot(n_events_per_item, ax=axs[0], color='orange')\n",
    "h1.set_yscale('log')\n",
    "h1.set(title = 'Boxplot of number of interactions per item')\n",
    "h2=sns.histplot(n_events_per_item.values, bins=30, ax=axs[1], color='orange')\n",
    "h2.set_yscale('log')\n",
    "h2.set(title = 'Histogram of number of interactions per item')"
   ]
  },
  {
   "cell_type": "markdown",
   "id": "30923bff-d5a1-4bd7-99ca-ef3d311da36c",
   "metadata": {},
   "source": [
    "We do not have to do any outliers filtering for items. We will filter outliers that are items with 0 interactions using top 20% of items with the most interactions, and very high number of interactions in items is more realistic than users, item might be very popular or shown to almost every user of the app."
   ]
  },
  {
   "cell_type": "code",
   "execution_count": 71,
   "id": "0bc806bb-37c0-48dd-a27f-ff9fe3390098",
   "metadata": {},
   "outputs": [
    {
     "data": {
      "text/plain": [
       "count    185327.000000\n",
       "mean        350.862524\n",
       "std         619.646507\n",
       "min           1.000000\n",
       "25%           4.000000\n",
       "50%         136.000000\n",
       "75%         425.000000\n",
       "max       15455.000000\n",
       "Name: count, dtype: float64"
      ]
     },
     "execution_count": 71,
     "metadata": {},
     "output_type": "execute_result"
    }
   ],
   "source": [
    "item_interaction_counts = df_fil['item'].value_counts()\n",
    "item_interaction_counts.describe()"
   ]
  },
  {
   "cell_type": "code",
   "execution_count": 77,
   "id": "6f5e20ee-7906-46b2-8e62-807c11a8160d",
   "metadata": {},
   "outputs": [
    {
     "data": {
      "text/plain": [
       "0.9996332155667629"
      ]
     },
     "execution_count": 77,
     "metadata": {},
     "output_type": "execute_result"
    }
   ],
   "source": [
    "df_fil['item'].nunique()/n_items"
   ]
  },
  {
   "cell_type": "markdown",
   "id": "1e2cc6ca-ec5e-4cfe-98f7-202e9e27bd8a",
   "metadata": {
    "id": "1e2cc6ca-ec5e-4cfe-98f7-202e9e27bd8a"
   },
   "source": [
    " First filtering of the data frame. We select the 20% of users with the highest number of interactions. First we do this for the dataset with soft outliers."
   ]
  },
  {
   "cell_type": "code",
   "execution_count": 78,
   "id": "f5cf43fe-563d-405f-a878-6837c85ea3db",
   "metadata": {
    "id": "f5cf43fe-563d-405f-a878-6837c85ea3db"
   },
   "outputs": [],
   "source": [
    "item_interaction_counts = df_fil['item'].value_counts()\n",
    "\n",
    "top_20_threshold = item_interaction_counts.quantile(0.8)\n",
    "\n",
    "top_20_items = item_interaction_counts[item_interaction_counts >= top_20_threshold].index\n",
    "\n",
    "filtered_df = df_fil[df_fil['item'].isin(top_20_items)]"
   ]
  },
  {
   "cell_type": "code",
   "execution_count": 79,
   "id": "dc788ebe-35d1-425a-9b0e-b36071e8cd47",
   "metadata": {
    "id": "dc788ebe-35d1-425a-9b0e-b36071e8cd47",
    "outputId": "53e41576-6571-477f-fe9b-9d35ef465c13"
   },
   "outputs": [
    {
     "name": "stdout",
     "output_type": "stream",
     "text": [
      "Ratio of items before and after filtering: 20.000539388872408\n"
     ]
    }
   ],
   "source": [
    "item_interaction_counts = filtered_df['item'].value_counts()\n",
    "count_items = filtered_df['item'].nunique()\n",
    "\n",
    "item_interaction_counts.describe()\n",
    "print(f\"Ratio of items before and after filtering: {count_items/n_items * 100}\")"
   ]
  },
  {
   "cell_type": "code",
   "execution_count": 80,
   "id": "dcba46ab-c3a3-4dd9-bd84-3141049c7bc4",
   "metadata": {
    "id": "dcba46ab-c3a3-4dd9-bd84-3141049c7bc4"
   },
   "outputs": [],
   "source": [
    "user_interaction_counts = filtered_df['user'].value_counts()\n",
    "\n",
    "top_20_threshold = user_interaction_counts.quantile(0.8)\n",
    "\n",
    "top_20_users = user_interaction_counts[user_interaction_counts >= top_20_threshold].index\n",
    "\n",
    "filtered_df = filtered_df[filtered_df['user'].isin(top_20_users)]"
   ]
  },
  {
   "cell_type": "code",
   "execution_count": 81,
   "id": "0f26266f-8396-43f2-912f-52bbe6ecd032",
   "metadata": {
    "id": "0f26266f-8396-43f2-912f-52bbe6ecd032",
    "outputId": "67ee57ac-0fe9-4d3f-d8a8-e0aef8a5143f"
   },
   "outputs": [
    {
     "name": "stdout",
     "output_type": "stream",
     "text": [
      "Ratio of users before and after filtering: 18.423867895733604\n"
     ]
    }
   ],
   "source": [
    "user_interaction_counts = filtered_df['user'].value_counts()\n",
    "count_users = filtered_df['user'].nunique()\n",
    "\n",
    "user_interaction_counts.describe()\n",
    "print(f\"Ratio of users before and after filtering: {count_users/n_users * 100}\")"
   ]
  },
  {
   "cell_type": "markdown",
   "id": "0ef28301",
   "metadata": {
    "id": "0ef28301"
   },
   "source": [
    "We do the same for items."
   ]
  },
  {
   "cell_type": "markdown",
   "id": "0bfcec25-62cf-49a8-96a5-d77036c88035",
   "metadata": {
    "id": "0bfcec25-62cf-49a8-96a5-d77036c88035"
   },
   "source": [
    "We compare the ratio of items/users in the input data frame and the filtered one. As we can see, the ratio is almost identical."
   ]
  },
  {
   "cell_type": "code",
   "execution_count": 82,
   "id": "d3a14eb6-4625-46b9-ba54-7fc6eb31c011",
   "metadata": {
    "id": "d3a14eb6-4625-46b9-ba54-7fc6eb31c011",
    "outputId": "c2e40d98-73ee-4f7b-eceb-2d21635e1f7a",
    "tags": []
   },
   "outputs": [
    {
     "name": "stdout",
     "output_type": "stream",
     "text": [
      "Number of users: 607240\n",
      "Number of items: 37080\n",
      "Ratio of items to users after filtering: 6.1063171069099536\n",
      "Ratio of items to users before filtering: 5.624947283659725\n"
     ]
    }
   ],
   "source": [
    "count_users_before = df['user'].nunique()\n",
    "count_items_before = df['item'].nunique()\n",
    "count_users = filtered_df['user'].nunique()\n",
    "print(f\"Number of users: {count_users}\")\n",
    "count_items = filtered_df['item'].nunique()\n",
    "print(f\"Number of items: {count_items}\")\n",
    "print(f\"Ratio of items to users after filtering: {count_items/count_users * 100}\")\n",
    "print(f\"Ratio of items to users before filtering: {count_items_before/count_users_before * 100}\")"
   ]
  },
  {
   "cell_type": "markdown",
   "id": "d8cc2883-696a-4905-adc4-9f4eeafafb26",
   "metadata": {
    "id": "d8cc2883-696a-4905-adc4-9f4eeafafb26"
   },
   "source": [
    "Another filtering of the data frame.<br>\n",
    "Now we randomly select $x\\% $ of unique objects and users so that the machines we are working on do not have memory problems."
   ]
  },
  {
   "cell_type": "code",
   "execution_count": 83,
   "id": "2f497bc9-b221-46f2-8ae0-3ba7b0449301",
   "metadata": {
    "id": "2f497bc9-b221-46f2-8ae0-3ba7b0449301"
   },
   "outputs": [],
   "source": [
    "sample_percent_users = 0.12\n",
    "sample_percent_items = 0.1\n",
    "\n",
    "sampled_users = filtered_df.drop_duplicates('user').sample(frac=sample_percent_users, random_state=2024)\n",
    "\n",
    "sampled_items = filtered_df.drop_duplicates('item').sample(frac=sample_percent_items, random_state=2024)\n",
    "\n",
    "filtered_df_users = filtered_df[filtered_df['user'].isin(sampled_users['user'])]\n",
    "\n",
    "filtered_df = filtered_df_users[filtered_df_users['item'].isin(sampled_items['item'])]"
   ]
  },
  {
   "cell_type": "markdown",
   "id": "c6879e08-1f3e-47e0-a7e2-9fb4206d159f",
   "metadata": {
    "id": "c6879e08-1f3e-47e0-a7e2-9fb4206d159f"
   },
   "source": [
    "Again, let's check the item/user ratio."
   ]
  },
  {
   "cell_type": "code",
   "execution_count": 84,
   "id": "51820449-aa69-4bab-9f8e-99cf0a4d343b",
   "metadata": {
    "id": "51820449-aa69-4bab-9f8e-99cf0a4d343b",
    "outputId": "006f807e-f8b4-48b9-e4bb-5e9ca32793eb",
    "tags": []
   },
   "outputs": [
    {
     "name": "stdout",
     "output_type": "stream",
     "text": [
      "Number of users: 65850\n",
      "Number of items: 3708\n",
      "Ratio of items to users after filtering: 5.630979498861048\n",
      "Ratio of items to users before filtering: 5.624947283659725\n",
      "Percent of items: 2.0000539388872407\n",
      "Percent of users: 1.9979113710132037\n"
     ]
    }
   ],
   "source": [
    "count_users = filtered_df['user'].nunique()\n",
    "print(f\"Number of users: {count_users}\")\n",
    "count_items = filtered_df['item'].nunique()\n",
    "print(f\"Number of items: {count_items}\")\n",
    "print(f\"Ratio of items to users after filtering: {count_items/count_users * 100}\")\n",
    "print(f\"Ratio of items to users before filtering: {count_items_before/count_users_before * 100}\")\n",
    "print(f\"Percent of items: {count_items/n_items * 100}\")\n",
    "print(f\"Percent of users: {count_users/n_users * 100}\")"
   ]
  },
  {
   "cell_type": "markdown",
   "id": "34bd97e0-2159-4e0e-8767-0d3479d4928b",
   "metadata": {},
   "source": [
    "Now, we will do the same for the heavy filtered dataset."
   ]
  },
  {
   "cell_type": "code",
   "execution_count": 85,
   "id": "c440a43e-c1d8-4899-9cf3-2c0d498593c4",
   "metadata": {},
   "outputs": [
    {
     "name": "stdout",
     "output_type": "stream",
     "text": [
      "Ratio of items before and after filtering: 0.35491787804417596\n"
     ]
    }
   ],
   "source": [
    "item_interaction_counts = df_no['item'].value_counts()\n",
    "\n",
    "top_20_threshold = item_interaction_counts.quantile(0.8)\n",
    "\n",
    "top_20_items = item_interaction_counts[item_interaction_counts >= top_20_threshold].index\n",
    "\n",
    "filtered_df_no = df_no[df_no['item'].isin(top_20_items)]\n",
    "\n",
    "item_interaction_counts = filtered_df_no['item'].value_counts()\n",
    "count_items = filtered_df_no['item'].nunique()\n",
    "\n",
    "item_interaction_counts.describe()\n",
    "print(f\"Ratio of items before and after filtering: {count_items/n_items * 100}\")"
   ]
  },
  {
   "cell_type": "code",
   "execution_count": 86,
   "id": "38d4d7fe-e4af-4cef-9239-4293fbe530b5",
   "metadata": {},
   "outputs": [
    {
     "name": "stdout",
     "output_type": "stream",
     "text": [
      "Ratio of users before and after filtering: 0.7292907460143413\n"
     ]
    }
   ],
   "source": [
    "user_interaction_counts = filtered_df_no['user'].value_counts()\n",
    "\n",
    "top_20_threshold = user_interaction_counts.quantile(0.8)\n",
    "\n",
    "top_20_users = user_interaction_counts[user_interaction_counts >= top_20_threshold].index\n",
    "\n",
    "filtered_df_no = filtered_df_no[filtered_df_no['user'].isin(top_20_users)]\n",
    "\n",
    "user_interaction_counts = filtered_df_no['user'].value_counts()\n",
    "count_users = filtered_df_no['user'].nunique()\n",
    "\n",
    "user_interaction_counts.describe()\n",
    "print(f\"Ratio of users before and after filtering: {count_users/n_users * 100}\")"
   ]
  },
  {
   "cell_type": "code",
   "execution_count": 87,
   "id": "21c4e192-afc6-4c06-a177-0b6bf7a9968b",
   "metadata": {},
   "outputs": [
    {
     "name": "stdout",
     "output_type": "stream",
     "text": [
      "Number of users: 24037\n",
      "Number of items: 658\n",
      "Ratio of items to users after filtering: 2.7374464367433538\n",
      "Ratio of items to users before filtering: 5.624947283659725\n"
     ]
    }
   ],
   "source": [
    "count_users_before = df['user'].nunique()\n",
    "count_items_before = df['item'].nunique()\n",
    "count_users = filtered_df_no['user'].nunique()\n",
    "print(f\"Number of users: {count_users}\")\n",
    "count_items = filtered_df_no['item'].nunique()\n",
    "print(f\"Number of items: {count_items}\")\n",
    "print(f\"Ratio of items to users after filtering: {count_items/count_users * 100}\")\n",
    "print(f\"Ratio of items to users before filtering: {count_items_before/count_users_before * 100}\")"
   ]
  },
  {
   "cell_type": "markdown",
   "id": "3918f3c4-eb5d-4122-bc08-ede47cc5c0f9",
   "metadata": {},
   "source": [
    "The filtering is heavy enough so we can use the whole filtered dataframe for creating the model."
   ]
  },
  {
   "cell_type": "markdown",
   "id": "a511ca5c",
   "metadata": {
    "id": "a511ca5c"
   },
   "source": [
    "# Creating the model"
   ]
  },
  {
   "cell_type": "markdown",
   "id": "ba43667b-bb92-4c2a-b3a2-08e67c5ac997",
   "metadata": {
    "id": "ba43667b-bb92-4c2a-b3a2-08e67c5ac997"
   },
   "source": [
    "We implement code from the LibRecommender library that divides the data into a training, evaluation and test sets. We begin with dataframe using soft filtering."
   ]
  },
  {
   "cell_type": "code",
   "execution_count": 105,
   "id": "87bac5dd-ac3d-45be-b340-6764af0b8d14",
   "metadata": {
    "tags": []
   },
   "outputs": [
    {
     "name": "stdout",
     "output_type": "stream",
     "text": [
      "n_users: 65850, n_items: 3708, data density: 0.1283 %\n"
     ]
    }
   ],
   "source": [
    "train_data, eval_data, test_data = split_by_ratio_chrono(filtered_df,multi_ratios=[0.7,0.1,0.2])\n",
    "train_data, data_info = DatasetPure.build_trainset(train_data)\n",
    "eval_data = DatasetPure.build_evalset(eval_data)\n",
    "test_data = DatasetPure.build_testset(test_data)\n",
    "print(data_info)"
   ]
  },
  {
   "cell_type": "code",
   "execution_count": 89,
   "id": "03fb946f-6c09-41b9-94d5-a60fe3b7b097",
   "metadata": {
    "id": "03fb946f-6c09-41b9-94d5-a60fe3b7b097",
    "tags": []
   },
   "outputs": [],
   "source": [
    "best_lightgcn = LightGCN(\n",
    "    task=\"ranking\",\n",
    "    data_info=data_info,\n",
    "    loss_type=\"bpr\",\n",
    "    embed_size=32,\n",
    "    n_epochs=3,\n",
    "    lr=1e-3,\n",
    "    batch_size=2048,\n",
    "    num_neg=1,\n",
    "    device=\"cuda\"\n",
    ")"
   ]
  },
  {
   "cell_type": "code",
   "execution_count": 90,
   "id": "04ad33bd-44a1-43fe-88fb-a8b09ab40ef2",
   "metadata": {
    "id": "04ad33bd-44a1-43fe-88fb-a8b09ab40ef2",
    "outputId": "fa03845d-c89f-4709-92c2-d3341fc641f1",
    "tags": []
   },
   "outputs": [
    {
     "name": "stdout",
     "output_type": "stream",
     "text": [
      "Training start time: \u001b[35m2024-03-11 12:31:51\u001b[0m\n",
      "CPU times: total: 4min 28s\n",
      "Wall time: 1min 23s\n"
     ]
    }
   ],
   "source": [
    "%%time\n",
    "best_lightgcn.fit(\n",
    "    train_data,\n",
    "    neg_sampling=True,\n",
    "    verbose=0,\n",
    "    eval_data=eval_data,\n",
    "    metrics=[\"loss\", \"precision\", \"recall\", \"ndcg\", \"map\"]\n",
    ")"
   ]
  },
  {
   "cell_type": "code",
   "execution_count": 91,
   "id": "886464e9-e94f-458e-8c72-c093a51889d1",
   "metadata": {
    "id": "886464e9-e94f-458e-8c72-c093a51889d1",
    "outputId": "06bf18b4-a630-4959-94c8-2d889638af53",
    "tags": []
   },
   "outputs": [
    {
     "name": "stderr",
     "output_type": "stream",
     "text": [
      "eval_pointwise: 100%|█████████████████████████████████████████████████████████████████| 18/18 [00:00<00:00, 481.42it/s]\n",
      "C:\\Users\\marci\\anaconda3\\Lib\\site-packages\\sklearn\\metrics\\_classification.py:2910: FutureWarning: Setting the eps parameter is deprecated and will be removed in 1.5. Instead eps will always havea default value of `np.finfo(y_pred.dtype).eps`.\n",
      "  warnings.warn(\n",
      "eval_listwise: 100%|███████████████████████████████████████████████████████████| 18149/18149 [00:03<00:00, 5043.17it/s]\n"
     ]
    },
    {
     "name": "stdout",
     "output_type": "stream",
     "text": [
      "CPU times: total: 15.3 s\n",
      "Wall time: 4.62 s\n"
     ]
    },
    {
     "data": {
      "text/plain": [
       "{'loss': 0.539128198823804,\n",
       " 'roc_auc': 0.8802215423071618,\n",
       " 'precision': 0.015480191746101712,\n",
       " 'recall': 0.09752046078703194,\n",
       " 'ndcg': 0.07583312991454273,\n",
       " 'map': 0.05474761648558146}"
      ]
     },
     "execution_count": 91,
     "metadata": {},
     "output_type": "execute_result"
    }
   ],
   "source": [
    "%%time\n",
    "results_best = evaluate(\n",
    "    model=best_lightgcn,\n",
    "    data=test_data,\n",
    "    neg_sampling=True,\n",
    "    metrics=[\"loss\", \"precision\", \"recall\", \"ndcg\", \"map\", \"roc_auc\"]\n",
    ")\n",
    "results_best"
   ]
  },
  {
   "cell_type": "markdown",
   "id": "f0ee6f99-f3c7-4f36-8378-0a3ea66e42cd",
   "metadata": {
    "id": "f0ee6f99-f3c7-4f36-8378-0a3ea66e42cd"
   },
   "source": [
    "The result above are the results we were asked to find, k=10 which is default for the package. Below we explored different values of k to see how the results change. We also tried using different recommended loss functions and different learning rate. It is important to note that the problem we had last week, loss function increasing with further epochs, was connected with the learning rate. If the learning rate was too big the loss function started to increase. We found that learning rate lr=1e-3 is the most optimal tradeoff between not increasing loss function and best results."
   ]
  },
  {
   "cell_type": "code",
   "execution_count": 92,
   "id": "1addb6de-1b19-4946-8cf2-a90b03dba8f8",
   "metadata": {
    "id": "1addb6de-1b19-4946-8cf2-a90b03dba8f8",
    "outputId": "194f3c03-b43f-450c-d08e-1d381408fb58"
   },
   "outputs": [
    {
     "name": "stderr",
     "output_type": "stream",
     "text": [
      "eval_pointwise: 100%|█████████████████████████████████████████████████████████████████| 18/18 [00:00<00:00, 590.71it/s]\n",
      "C:\\Users\\marci\\anaconda3\\Lib\\site-packages\\sklearn\\metrics\\_classification.py:2910: FutureWarning: Setting the eps parameter is deprecated and will be removed in 1.5. Instead eps will always havea default value of `np.finfo(y_pred.dtype).eps`.\n",
      "  warnings.warn(\n",
      "eval_listwise: 100%|███████████████████████████████████████████████████████████| 18149/18149 [00:03<00:00, 4948.62it/s]\n",
      "eval_pointwise: 100%|█████████████████████████████████████████████████████████████████| 18/18 [00:00<00:00, 578.01it/s]\n",
      "C:\\Users\\marci\\anaconda3\\Lib\\site-packages\\sklearn\\metrics\\_classification.py:2910: FutureWarning: Setting the eps parameter is deprecated and will be removed in 1.5. Instead eps will always havea default value of `np.finfo(y_pred.dtype).eps`.\n",
      "  warnings.warn(\n",
      "eval_listwise: 100%|███████████████████████████████████████████████████████████| 18149/18149 [00:03<00:00, 5002.35it/s]\n",
      "eval_pointwise: 100%|█████████████████████████████████████████████████████████████████| 18/18 [00:00<00:00, 591.52it/s]\n",
      "C:\\Users\\marci\\anaconda3\\Lib\\site-packages\\sklearn\\metrics\\_classification.py:2910: FutureWarning: Setting the eps parameter is deprecated and will be removed in 1.5. Instead eps will always havea default value of `np.finfo(y_pred.dtype).eps`.\n",
      "  warnings.warn(\n",
      "eval_listwise: 100%|███████████████████████████████████████████████████████████| 18149/18149 [00:03<00:00, 5121.39it/s]\n",
      "eval_pointwise: 100%|█████████████████████████████████████████████████████████████████| 18/18 [00:00<00:00, 581.68it/s]\n",
      "C:\\Users\\marci\\anaconda3\\Lib\\site-packages\\sklearn\\metrics\\_classification.py:2910: FutureWarning: Setting the eps parameter is deprecated and will be removed in 1.5. Instead eps will always havea default value of `np.finfo(y_pred.dtype).eps`.\n",
      "  warnings.warn(\n",
      "eval_listwise: 100%|███████████████████████████████████████████████████████████| 18149/18149 [00:03<00:00, 4946.00it/s]\n",
      "eval_pointwise: 100%|█████████████████████████████████████████████████████████████████| 18/18 [00:00<00:00, 480.58it/s]\n",
      "C:\\Users\\marci\\anaconda3\\Lib\\site-packages\\sklearn\\metrics\\_classification.py:2910: FutureWarning: Setting the eps parameter is deprecated and will be removed in 1.5. Instead eps will always havea default value of `np.finfo(y_pred.dtype).eps`.\n",
      "  warnings.warn(\n",
      "eval_listwise: 100%|███████████████████████████████████████████████████████████| 18149/18149 [00:03<00:00, 4996.60it/s]\n",
      "eval_pointwise: 100%|█████████████████████████████████████████████████████████████████| 18/18 [00:00<00:00, 581.99it/s]\n",
      "C:\\Users\\marci\\anaconda3\\Lib\\site-packages\\sklearn\\metrics\\_classification.py:2910: FutureWarning: Setting the eps parameter is deprecated and will be removed in 1.5. Instead eps will always havea default value of `np.finfo(y_pred.dtype).eps`.\n",
      "  warnings.warn(\n",
      "eval_listwise: 100%|███████████████████████████████████████████████████████████| 18149/18149 [00:02<00:00, 7016.34it/s]\n"
     ]
    }
   ],
   "source": [
    "loss_function = \"bpr\"\n",
    "\n",
    "metrics = [\"loss\", \"precision\", \"recall\", \"ndcg\", \"map\", \"roc_auc\"]\n",
    "k_values = [50, 20, 10, 5, 3, 1]\n",
    "\n",
    "results_df = pd.DataFrame(index=pd.MultiIndex.from_product([k_values]), columns=metrics)\n",
    "\n",
    "for k in k_values:\n",
    "    results = evaluate(\n",
    "        model=best_lightgcn,\n",
    "        data=test_data,\n",
    "        neg_sampling=True,\n",
    "        metrics=metrics,\n",
    "        k=k\n",
    "    )\n",
    "    for metric, value in results.items():\n",
    "        results_df.at[k, metric] = value"
   ]
  },
  {
   "cell_type": "code",
   "execution_count": 93,
   "id": "b2aee903-6b0c-415b-8832-fb10817a41df",
   "metadata": {
    "id": "b2aee903-6b0c-415b-8832-fb10817a41df",
    "outputId": "2ebe3dd2-44e7-40df-869d-27e606773fa1"
   },
   "outputs": [
    {
     "data": {
      "text/html": [
       "<div>\n",
       "<style scoped>\n",
       "    .dataframe tbody tr th:only-of-type {\n",
       "        vertical-align: middle;\n",
       "    }\n",
       "\n",
       "    .dataframe tbody tr th {\n",
       "        vertical-align: top;\n",
       "    }\n",
       "\n",
       "    .dataframe thead th {\n",
       "        text-align: right;\n",
       "    }\n",
       "</style>\n",
       "<table border=\"1\" class=\"dataframe\">\n",
       "  <thead>\n",
       "    <tr style=\"text-align: right;\">\n",
       "      <th></th>\n",
       "      <th>loss</th>\n",
       "      <th>precision</th>\n",
       "      <th>recall</th>\n",
       "      <th>ndcg</th>\n",
       "      <th>map</th>\n",
       "      <th>roc_auc</th>\n",
       "    </tr>\n",
       "  </thead>\n",
       "  <tbody>\n",
       "    <tr>\n",
       "      <th>50</th>\n",
       "      <td>0.539128</td>\n",
       "      <td>0.007944</td>\n",
       "      <td>0.239554</td>\n",
       "      <td>0.115621</td>\n",
       "      <td>0.059762</td>\n",
       "      <td>0.880222</td>\n",
       "    </tr>\n",
       "    <tr>\n",
       "      <th>20</th>\n",
       "      <td>0.539128</td>\n",
       "      <td>0.012078</td>\n",
       "      <td>0.149865</td>\n",
       "      <td>0.09337</td>\n",
       "      <td>0.058437</td>\n",
       "      <td>0.880222</td>\n",
       "    </tr>\n",
       "    <tr>\n",
       "      <th>10</th>\n",
       "      <td>0.539128</td>\n",
       "      <td>0.01548</td>\n",
       "      <td>0.09752</td>\n",
       "      <td>0.075833</td>\n",
       "      <td>0.054748</td>\n",
       "      <td>0.880222</td>\n",
       "    </tr>\n",
       "    <tr>\n",
       "      <th>5</th>\n",
       "      <td>0.539128</td>\n",
       "      <td>0.01891</td>\n",
       "      <td>0.060498</td>\n",
       "      <td>0.05904</td>\n",
       "      <td>0.048559</td>\n",
       "      <td>0.880222</td>\n",
       "    </tr>\n",
       "    <tr>\n",
       "      <th>3</th>\n",
       "      <td>0.539128</td>\n",
       "      <td>0.021966</td>\n",
       "      <td>0.042375</td>\n",
       "      <td>0.048293</td>\n",
       "      <td>0.042789</td>\n",
       "      <td>0.880222</td>\n",
       "    </tr>\n",
       "    <tr>\n",
       "      <th>1</th>\n",
       "      <td>0.539128</td>\n",
       "      <td>0.027109</td>\n",
       "      <td>0.017887</td>\n",
       "      <td>0.027109</td>\n",
       "      <td>0.027109</td>\n",
       "      <td>0.880222</td>\n",
       "    </tr>\n",
       "  </tbody>\n",
       "</table>\n",
       "</div>"
      ],
      "text/plain": [
       "        loss precision    recall      ndcg       map   roc_auc\n",
       "50  0.539128  0.007944  0.239554  0.115621  0.059762  0.880222\n",
       "20  0.539128  0.012078  0.149865   0.09337  0.058437  0.880222\n",
       "10  0.539128   0.01548   0.09752  0.075833  0.054748  0.880222\n",
       "5   0.539128   0.01891  0.060498   0.05904  0.048559  0.880222\n",
       "3   0.539128  0.021966  0.042375  0.048293  0.042789  0.880222\n",
       "1   0.539128  0.027109  0.017887  0.027109  0.027109  0.880222"
      ]
     },
     "execution_count": 93,
     "metadata": {},
     "output_type": "execute_result"
    }
   ],
   "source": [
    "results_df"
   ]
  },
  {
   "cell_type": "code",
   "execution_count": 94,
   "id": "b7dc8338-c951-434a-a8e1-cd6a078376a9",
   "metadata": {
    "id": "b7dc8338-c951-434a-a8e1-cd6a078376a9",
    "outputId": "176a43a7-75f8-4367-860e-40a53c290eda"
   },
   "outputs": [
    {
     "name": "stdout",
     "output_type": "stream",
     "text": [
      "Training start time: \u001b[35m2024-03-11 12:33:46\u001b[0m\n"
     ]
    },
    {
     "name": "stderr",
     "output_type": "stream",
     "text": [
      "eval_pointwise: 100%|█████████████████████████████████████████████████████████████████| 18/18 [00:00<00:00, 475.02it/s]\n",
      "C:\\Users\\marci\\anaconda3\\Lib\\site-packages\\sklearn\\metrics\\_classification.py:2910: FutureWarning: Setting the eps parameter is deprecated and will be removed in 1.5. Instead eps will always havea default value of `np.finfo(y_pred.dtype).eps`.\n",
      "  warnings.warn(\n",
      "eval_listwise: 100%|███████████████████████████████████████████████████████████| 18149/18149 [00:03<00:00, 5084.65it/s]\n",
      "eval_pointwise: 100%|█████████████████████████████████████████████████████████████████| 18/18 [00:00<00:00, 501.95it/s]\n",
      "C:\\Users\\marci\\anaconda3\\Lib\\site-packages\\sklearn\\metrics\\_classification.py:2910: FutureWarning: Setting the eps parameter is deprecated and will be removed in 1.5. Instead eps will always havea default value of `np.finfo(y_pred.dtype).eps`.\n",
      "  warnings.warn(\n",
      "eval_listwise: 100%|███████████████████████████████████████████████████████████| 18149/18149 [00:03<00:00, 4873.88it/s]\n"
     ]
    },
    {
     "name": "stdout",
     "output_type": "stream",
     "text": [
      "Training start time: \u001b[35m2024-03-11 12:35:17\u001b[0m\n"
     ]
    },
    {
     "name": "stderr",
     "output_type": "stream",
     "text": [
      "eval_pointwise: 100%|█████████████████████████████████████████████████████████████████| 18/18 [00:00<00:00, 493.77it/s]\n",
      "C:\\Users\\marci\\anaconda3\\Lib\\site-packages\\sklearn\\metrics\\_classification.py:2910: FutureWarning: Setting the eps parameter is deprecated and will be removed in 1.5. Instead eps will always havea default value of `np.finfo(y_pred.dtype).eps`.\n",
      "  warnings.warn(\n",
      "eval_listwise: 100%|███████████████████████████████████████████████████████████| 18149/18149 [00:03<00:00, 4863.54it/s]\n",
      "eval_pointwise: 100%|█████████████████████████████████████████████████████████████████| 18/18 [00:00<00:00, 550.53it/s]\n",
      "C:\\Users\\marci\\anaconda3\\Lib\\site-packages\\sklearn\\metrics\\_classification.py:2910: FutureWarning: Setting the eps parameter is deprecated and will be removed in 1.5. Instead eps will always havea default value of `np.finfo(y_pred.dtype).eps`.\n",
      "  warnings.warn(\n",
      "eval_listwise: 100%|███████████████████████████████████████████████████████████| 18149/18149 [00:03<00:00, 5035.51it/s]\n"
     ]
    },
    {
     "name": "stdout",
     "output_type": "stream",
     "text": [
      "Training start time: \u001b[35m2024-03-11 12:38:16\u001b[0m\n"
     ]
    },
    {
     "name": "stderr",
     "output_type": "stream",
     "text": [
      "eval_pointwise: 100%|█████████████████████████████████████████████████████████████████| 18/18 [00:00<00:00, 462.83it/s]\n",
      "C:\\Users\\marci\\anaconda3\\Lib\\site-packages\\sklearn\\metrics\\_classification.py:2910: FutureWarning: Setting the eps parameter is deprecated and will be removed in 1.5. Instead eps will always havea default value of `np.finfo(y_pred.dtype).eps`.\n",
      "  warnings.warn(\n",
      "eval_listwise: 100%|███████████████████████████████████████████████████████████| 18149/18149 [00:03<00:00, 5084.81it/s]\n",
      "eval_pointwise: 100%|█████████████████████████████████████████████████████████████████| 18/18 [00:00<00:00, 604.63it/s]\n",
      "C:\\Users\\marci\\anaconda3\\Lib\\site-packages\\sklearn\\metrics\\_classification.py:2910: FutureWarning: Setting the eps parameter is deprecated and will be removed in 1.5. Instead eps will always havea default value of `np.finfo(y_pred.dtype).eps`.\n",
      "  warnings.warn(\n",
      "eval_listwise: 100%|███████████████████████████████████████████████████████████| 18149/18149 [00:03<00:00, 5108.06it/s]\n"
     ]
    }
   ],
   "source": [
    "loss_functions = [\"max_margin\",\"cross_entropy\", \"focal\"]\n",
    "metrics = [\"loss\", \"precision\", \"recall\", \"ndcg\", \"map\", \"roc_auc\"]\n",
    "\n",
    "results_df = pd.DataFrame(index=loss_functions, columns=metrics)\n",
    "\n",
    "for loss_func in loss_functions:\n",
    "    lossgcn = LightGCN(\n",
    "        task=\"ranking\",\n",
    "        data_info=data_info,\n",
    "        loss_type=loss_func,\n",
    "        embed_size=32,\n",
    "        n_epochs=3,\n",
    "        lr=1e-3,\n",
    "        batch_size=2048,\n",
    "        num_neg=1,\n",
    "        device=\"cuda\"\n",
    "    )\n",
    "    lossgcn.fit(\n",
    "        train_data,\n",
    "        neg_sampling=True,\n",
    "        verbose=0,\n",
    "        eval_data=eval_data,\n",
    "        metrics=[\"loss\", \"precision\", \"recall\", \"ndcg\", \"map\"]\n",
    "    )\n",
    "    evaluate(\n",
    "        model=lossgcn,\n",
    "        data=test_data,\n",
    "        neg_sampling=True,\n",
    "        metrics=[\"loss\", \"precision\", \"recall\", \"ndcg\", \"map\", \"roc_auc\"]\n",
    "    )\n",
    "    results = evaluate(\n",
    "        model=lossgcn,\n",
    "        data=test_data,\n",
    "        neg_sampling=True,\n",
    "        metrics=[\"loss\", \"precision\", \"recall\", \"ndcg\", \"map\", \"roc_auc\"]\n",
    "    )\n",
    "    for metric, value in results.items():\n",
    "        results_df.at[loss_func, metric] = value"
   ]
  },
  {
   "cell_type": "code",
   "execution_count": 95,
   "id": "abdcf367-a31f-4031-829a-eed3424e0ee0",
   "metadata": {
    "id": "abdcf367-a31f-4031-829a-eed3424e0ee0",
    "outputId": "23555b1b-588a-4bc8-96ce-34e7a9a88374"
   },
   "outputs": [
    {
     "data": {
      "text/html": [
       "<div>\n",
       "<style scoped>\n",
       "    .dataframe tbody tr th:only-of-type {\n",
       "        vertical-align: middle;\n",
       "    }\n",
       "\n",
       "    .dataframe tbody tr th {\n",
       "        vertical-align: top;\n",
       "    }\n",
       "\n",
       "    .dataframe thead th {\n",
       "        text-align: right;\n",
       "    }\n",
       "</style>\n",
       "<table border=\"1\" class=\"dataframe\">\n",
       "  <thead>\n",
       "    <tr style=\"text-align: right;\">\n",
       "      <th></th>\n",
       "      <th>loss</th>\n",
       "      <th>precision</th>\n",
       "      <th>recall</th>\n",
       "      <th>ndcg</th>\n",
       "      <th>map</th>\n",
       "      <th>roc_auc</th>\n",
       "    </tr>\n",
       "  </thead>\n",
       "  <tbody>\n",
       "    <tr>\n",
       "      <th>max_margin</th>\n",
       "      <td>0.548997</td>\n",
       "      <td>0.01645</td>\n",
       "      <td>0.104145</td>\n",
       "      <td>0.080671</td>\n",
       "      <td>0.058299</td>\n",
       "      <td>0.883261</td>\n",
       "    </tr>\n",
       "    <tr>\n",
       "      <th>cross_entropy</th>\n",
       "      <td>0.509921</td>\n",
       "      <td>0.015921</td>\n",
       "      <td>0.100795</td>\n",
       "      <td>0.078638</td>\n",
       "      <td>0.057043</td>\n",
       "      <td>0.883265</td>\n",
       "    </tr>\n",
       "    <tr>\n",
       "      <th>focal</th>\n",
       "      <td>0.621021</td>\n",
       "      <td>0.014866</td>\n",
       "      <td>0.092915</td>\n",
       "      <td>0.072714</td>\n",
       "      <td>0.052521</td>\n",
       "      <td>0.871172</td>\n",
       "    </tr>\n",
       "    <tr>\n",
       "      <th>bpr</th>\n",
       "      <td>0.539128</td>\n",
       "      <td>0.01548</td>\n",
       "      <td>0.09752</td>\n",
       "      <td>0.075833</td>\n",
       "      <td>0.054748</td>\n",
       "      <td>0.880222</td>\n",
       "    </tr>\n",
       "  </tbody>\n",
       "</table>\n",
       "</div>"
      ],
      "text/plain": [
       "                   loss precision    recall      ndcg       map   roc_auc\n",
       "max_margin     0.548997   0.01645  0.104145  0.080671  0.058299  0.883261\n",
       "cross_entropy  0.509921  0.015921  0.100795  0.078638  0.057043  0.883265\n",
       "focal          0.621021  0.014866  0.092915  0.072714  0.052521  0.871172\n",
       "bpr            0.539128   0.01548   0.09752  0.075833  0.054748  0.880222"
      ]
     },
     "execution_count": 95,
     "metadata": {},
     "output_type": "execute_result"
    }
   ],
   "source": [
    "for metric, value in results_best.items():\n",
    "    results_df.at['bpr', metric] = value\n",
    "results_df"
   ]
  },
  {
   "cell_type": "markdown",
   "id": "1b3e76ef-5b61-4449-8af8-1f18b936c5ff",
   "metadata": {},
   "source": [
    "Now, we do the same for dataframe with heavy filtering. To save some time, we will not run the model using all loss functions and different values of k."
   ]
  },
  {
   "cell_type": "code",
   "execution_count": 112,
   "id": "c315128c-c8a2-4580-af5e-1a236eff0e7e",
   "metadata": {},
   "outputs": [
    {
     "name": "stdout",
     "output_type": "stream",
     "text": [
      "n_users: 24037, n_items: 658, data density: 4.7238 %\n"
     ]
    }
   ],
   "source": [
    "train_data1, eval_data1, test_data1 = split_by_ratio_chrono(filtered_df_no,multi_ratios=[0.7,0.1,0.2])\n",
    "train_data1, data_info1 = DatasetPure.build_trainset(train_data1)\n",
    "eval_data1 = DatasetPure.build_evalset(eval_data1)\n",
    "test_data1 = DatasetPure.build_testset(test_data1)\n",
    "print(data_info1)"
   ]
  },
  {
   "cell_type": "code",
   "execution_count": 102,
   "id": "a9fa4d76-1c80-4040-ac2c-dcf24e8dbbdf",
   "metadata": {},
   "outputs": [
    {
     "name": "stdout",
     "output_type": "stream",
     "text": [
      "Training start time: \u001b[35m2024-03-11 12:57:06\u001b[0m\n"
     ]
    },
    {
     "name": "stderr",
     "output_type": "stream",
     "text": [
      "eval_pointwise: 100%|█████████████████████████████████████████████████████████████████| 53/53 [00:00<00:00, 565.20it/s]\n",
      "C:\\Users\\marci\\anaconda3\\Lib\\site-packages\\sklearn\\metrics\\_classification.py:2910: FutureWarning: Setting the eps parameter is deprecated and will be removed in 1.5. Instead eps will always havea default value of `np.finfo(y_pred.dtype).eps`.\n",
      "  warnings.warn(\n",
      "eval_listwise: 100%|█████████████████████████████████████████████████████████████| 2004/2004 [00:01<00:00, 1641.32it/s]\n"
     ]
    },
    {
     "name": "stdout",
     "output_type": "stream",
     "text": [
      "CPU times: total: 13min 48s\n",
      "Wall time: 3min 56s\n"
     ]
    },
    {
     "data": {
      "text/plain": [
       "{'loss': 0.535148234330126,\n",
       " 'roc_auc': 0.8946096053939663,\n",
       " 'precision': 0.053654782210758416,\n",
       " 'recall': 0.09204379704893069,\n",
       " 'ndcg': 0.21000116587262194,\n",
       " 'map': 0.1498038167567178}"
      ]
     },
     "execution_count": 102,
     "metadata": {},
     "output_type": "execute_result"
    }
   ],
   "source": [
    "%%time\n",
    "lightgcnH = LightGCN(\n",
    "    task=\"ranking\",\n",
    "    data_info=data_info1,\n",
    "    loss_type=\"bpr\",\n",
    "    embed_size=32,\n",
    "    n_epochs=3,\n",
    "    lr=1e-3,\n",
    "    batch_size=2048,\n",
    "    num_neg=1,\n",
    "    device=\"cuda\"\n",
    ")\n",
    "\n",
    "lightgcnH.fit(\n",
    "    train_data1,\n",
    "    neg_sampling=True,\n",
    "    verbose=0,\n",
    "    eval_data=eval_data,\n",
    "    metrics=[\"loss\", \"precision\", \"recall\", \"ndcg\", \"map\"]\n",
    ")"
   ]
  },
  {
   "cell_type": "code",
   "execution_count": 104,
   "id": "77857835-3151-4cfc-812d-f7a68e928dfd",
   "metadata": {},
   "outputs": [
    {
     "name": "stdout",
     "output_type": "stream",
     "text": [
      "file folder model_path doesn't exists, creating a new one...\n"
     ]
    }
   ],
   "source": [
    "lightgcnH.save(\n",
    "        path=\"model_path\", model_name=\"lightgcnH\", manual=True, inference_only=False\n",
    "    )"
   ]
  },
  {
   "cell_type": "code",
   "execution_count": 113,
   "id": "e14e3da0-a919-493b-ac7c-0c7ca71c2693",
   "metadata": {},
   "outputs": [],
   "source": [
    "train_data_new, _ = train_test_split(filtered_df, test_size=0.5)"
   ]
  },
  {
   "cell_type": "code",
   "execution_count": 114,
   "id": "10855a21-375a-4730-8840-51d4f77159ce",
   "metadata": {},
   "outputs": [
    {
     "name": "stdout",
     "output_type": "stream",
     "text": [
      "n_users: 77488, n_items: 4295, data density: 0.0627 %\n"
     ]
    }
   ],
   "source": [
    "train_data2, new_data_info = DatasetPure.merge_trainset(train_data_new, data_info1, merge_behavior=True)\n",
    "print(new_data_info)"
   ]
  },
  {
   "cell_type": "code",
   "execution_count": 117,
   "id": "58fa19b1-79e1-4864-80cd-b162787ec8d1",
   "metadata": {},
   "outputs": [
    {
     "ename": "TypeError",
     "evalue": "rebuild_torch_model() got an unexpected keyword argument 'full_assign'",
     "output_type": "error",
     "traceback": [
      "\u001b[1;31m---------------------------------------------------------------------------\u001b[0m",
      "\u001b[1;31mTypeError\u001b[0m                                 Traceback (most recent call last)",
      "Cell \u001b[1;32mIn[117], line 1\u001b[0m\n\u001b[1;32m----> 1\u001b[0m lightgcnH\u001b[38;5;241m.\u001b[39mrebuild_model(path\u001b[38;5;241m=\u001b[39m\u001b[38;5;124m\"\u001b[39m\u001b[38;5;124mmodel_path\u001b[39m\u001b[38;5;124m\"\u001b[39m, model_name\u001b[38;5;241m=\u001b[39m\u001b[38;5;124m\"\u001b[39m\u001b[38;5;124mlightgcnH\u001b[39m\u001b[38;5;124m\"\u001b[39m, full_assign\u001b[38;5;241m=\u001b[39m\u001b[38;5;28;01mTrue\u001b[39;00m)\n",
      "File \u001b[1;32m~\\anaconda3\\Lib\\site-packages\\torch\\utils\\_contextlib.py:115\u001b[0m, in \u001b[0;36mcontext_decorator.<locals>.decorate_context\u001b[1;34m(*args, **kwargs)\u001b[0m\n\u001b[0;32m    112\u001b[0m \u001b[38;5;129m@functools\u001b[39m\u001b[38;5;241m.\u001b[39mwraps(func)\n\u001b[0;32m    113\u001b[0m \u001b[38;5;28;01mdef\u001b[39;00m \u001b[38;5;21mdecorate_context\u001b[39m(\u001b[38;5;241m*\u001b[39margs, \u001b[38;5;241m*\u001b[39m\u001b[38;5;241m*\u001b[39mkwargs):\n\u001b[0;32m    114\u001b[0m     \u001b[38;5;28;01mwith\u001b[39;00m ctx_factory():\n\u001b[1;32m--> 115\u001b[0m         \u001b[38;5;28;01mreturn\u001b[39;00m func(\u001b[38;5;241m*\u001b[39margs, \u001b[38;5;241m*\u001b[39m\u001b[38;5;241m*\u001b[39mkwargs)\n",
      "\u001b[1;31mTypeError\u001b[0m: rebuild_torch_model() got an unexpected keyword argument 'full_assign'"
     ]
    }
   ],
   "source": [
    "lightgcnH.rebuild_model(path=\"model_path\", model_name=\"lightgcnH\", full_assign=True)"
   ]
  },
  {
   "cell_type": "code",
   "execution_count": null,
   "id": "4a5340e9-3545-475e-968b-24e8bcce6b14",
   "metadata": {},
   "outputs": [],
   "source": []
  },
  {
   "cell_type": "markdown",
   "id": "be80542e",
   "metadata": {
    "id": "be80542e"
   },
   "source": [
    "# Additional task"
   ]
  },
  {
   "cell_type": "markdown",
   "id": "3fe442b8",
   "metadata": {
    "id": "3fe442b8"
   },
   "source": [
    "Dataframe containing users and an array of items they have interacted with."
   ]
  },
  {
   "cell_type": "code",
   "execution_count": null,
   "id": "9fbf8aa9",
   "metadata": {
    "id": "9fbf8aa9"
   },
   "outputs": [],
   "source": [
    "df_all = filtered_df.groupby('user')['item'].apply(list).reset_index(name='items')\n",
    "df_all = df_all.sort_values(by='user')"
   ]
  },
  {
   "cell_type": "markdown",
   "id": "07338fbf",
   "metadata": {
    "id": "07338fbf"
   },
   "source": [
    "Dataframe containing users and an array of items with which they have interacted at a higher level."
   ]
  },
  {
   "cell_type": "code",
   "execution_count": null,
   "id": "660d9357",
   "metadata": {
    "id": "660d9357"
   },
   "outputs": [],
   "source": [
    "df_23 = filtered_df[filtered_df['label'].isin([2, 3])].groupby('user')['item'].apply(list).reset_index(name='items')\n",
    "all_users = filtered_df[['user']].drop_duplicates()\n",
    "df_23 = pd.merge(all_users, df_23, on='user', how='left')\n",
    "df_23['items'] = df_23['items'].apply(lambda x: x if isinstance(x, list) else [])\n",
    "df_23 = df_23.sort_values(by='user')"
   ]
  },
  {
   "cell_type": "markdown",
   "id": "1a2fdb46",
   "metadata": {
    "id": "1a2fdb46"
   },
   "source": [
    "Dataframe containing users and an array of items that are recommended to them."
   ]
  },
  {
   "cell_type": "code",
   "execution_count": null,
   "id": "8bcf0ed4",
   "metadata": {
    "id": "8bcf0ed4"
   },
   "outputs": [],
   "source": [
    "unique_users = filtered_df['user'].unique()\n",
    "recommendations_data = []"
   ]
  },
  {
   "cell_type": "markdown",
   "id": "2777b5ff",
   "metadata": {
    "id": "2777b5ff"
   },
   "source": [
    "Recommendations for each user."
   ]
  },
  {
   "cell_type": "code",
   "execution_count": null,
   "id": "53822dba",
   "metadata": {
    "id": "53822dba",
    "outputId": "63fb4676-43c2-4e6b-8807-766369f496a8"
   },
   "outputs": [],
   "source": [
    "for user in unique_users:\n",
    "    recommendations = best_lightgcn.recommend_user(user=user, n_rec=10).get(user)\n",
    "    recommendations_data.extend([(user, recommendations)])\n",
    "\n",
    "df_rec = pd.DataFrame(recommendations_data, columns=['user', 'items'])\n",
    "df_rec = df_rec.sort_values(by='user')\n"
   ]
  },
  {
   "cell_type": "code",
   "execution_count": null,
   "id": "ea172023",
   "metadata": {
    "id": "ea172023"
   },
   "outputs": [],
   "source": [
    "def find_intersection(row, df):\n",
    "    rec_items = row['items']\n",
    "    all_items = df.loc[df['user'] == row['user'], 'items'].values\n",
    "    if len(rec_items) == 0 or len(all_items) == 0:\n",
    "        return []\n",
    "    else:\n",
    "        intersection = np.intersect1d(rec_items, all_items[0])\n",
    "        return intersection"
   ]
  },
  {
   "cell_type": "markdown",
   "id": "b7c63236",
   "metadata": {
    "id": "b7c63236"
   },
   "source": [
    "Restriction of recommended items to those with which the user has had any interaction."
   ]
  },
  {
   "cell_type": "code",
   "execution_count": null,
   "id": "058633a2",
   "metadata": {
    "id": "058633a2"
   },
   "outputs": [],
   "source": [
    "df_rec['items'] = df_rec.apply(lambda row: find_intersection(row, df_all), axis=1)\n",
    "\n",
    "df_match = df_rec.copy()"
   ]
  },
  {
   "cell_type": "markdown",
   "id": "b6b441f5",
   "metadata": {
    "id": "b6b441f5"
   },
   "source": [
    "Listing of items both recommended and those with which the user has had higher-level interaction."
   ]
  },
  {
   "cell_type": "code",
   "execution_count": null,
   "id": "238c4ac6",
   "metadata": {
    "id": "238c4ac6"
   },
   "outputs": [],
   "source": [
    "df_match['items'] = df_match.apply(lambda row: find_intersection(row, df_23), axis=1)"
   ]
  },
  {
   "cell_type": "markdown",
   "id": "1d2e2b67",
   "metadata": {
    "id": "1d2e2b67"
   },
   "source": [
    "`precision`"
   ]
  },
  {
   "cell_type": "code",
   "execution_count": null,
   "id": "4b3c6a61",
   "metadata": {
    "id": "4b3c6a61",
    "outputId": "a81ce4fe-dc45-4081-8c4b-d30279bfc6b2"
   },
   "outputs": [],
   "source": [
    "(df_match['items'].apply(len)/df_rec['items'].apply(len)).sum(skipna=True)/len(df_match['items'])"
   ]
  },
  {
   "cell_type": "code",
   "execution_count": null,
   "id": "840c9198",
   "metadata": {},
   "outputs": [],
   "source": [
    "sns.histplot(df_match['items'].apply(len)/df_rec['items'].apply(len))"
   ]
  },
  {
   "cell_type": "markdown",
   "id": "e2d88b20",
   "metadata": {
    "id": "e2d88b20"
   },
   "source": [
    "`recall`"
   ]
  },
  {
   "cell_type": "code",
   "execution_count": null,
   "id": "f9acf805",
   "metadata": {
    "id": "f9acf805",
    "outputId": "3fbc1e79-ecd5-46f8-c0de-1ff4d755c01e"
   },
   "outputs": [],
   "source": [
    "(df_match['items'].apply(len)/df_23['items'].apply(len)).sum(skipna=True)/len(df_match['items'])"
   ]
  },
  {
   "cell_type": "code",
   "execution_count": null,
   "id": "60eb4c55",
   "metadata": {},
   "outputs": [],
   "source": [
    "sns.histplot(df_match['items'].apply(len)/df_23['items'].apply(len))"
   ]
  }
 ],
 "metadata": {
  "colab": {
   "provenance": []
  },
  "kernelspec": {
   "display_name": "Python 3 (ipykernel)",
   "language": "python",
   "name": "python3"
  },
  "language_info": {
   "codemirror_mode": {
    "name": "ipython",
    "version": 3
   },
   "file_extension": ".py",
   "mimetype": "text/x-python",
   "name": "python",
   "nbconvert_exporter": "python",
   "pygments_lexer": "ipython3",
   "version": "3.11.5"
  }
 },
 "nbformat": 4,
 "nbformat_minor": 5
}
