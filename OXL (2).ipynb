{
 "cells": [
  {
   "cell_type": "markdown",
   "id": "2d1b2df2-62e6-4c95-beb9-d4be25d1de32",
   "metadata": {},
   "source": [
    "# Import bibliotek oraz wczytanie danych"
   ]
  },
  {
   "cell_type": "code",
   "execution_count": 226,
   "id": "deaa23ff-52fb-4ae6-a092-8e953458092f",
   "metadata": {},
   "outputs": [],
   "source": [
    "import numpy as np\n",
    "import pandas as pd\n",
    "import matplotlib\n",
    "import matplotlib.pyplot as plt\n",
    "import seaborn as sns\n",
    "from datetime import datetime\n",
    "from sklearn.model_selection import train_test_split\n",
    "import random\n",
    "import scipy.sparse as sp\n",
    "from libreco.data import random_split, DatasetPure, split_by_ratio_chrono\n",
    "from libreco.algorithms import LightGCN\n",
    "from libreco.evaluation import evaluate"
   ]
  },
  {
   "cell_type": "code",
   "execution_count": 227,
   "id": "67fc10cc-2078-4eda-b150-ba0e03291162",
   "metadata": {},
   "outputs": [],
   "source": [
    "df = pd.read_csv(\"C:\\\\Users\\\\marci\\\\OneDrive\\\\Pulpit\\\\archive\\\\interactions.csv\",\n",
    "                 #\"C:\\\\Users\\\\fpazi\\\\Desktop\\\\projekty\\\\olx\\\\interactions.csv\",\n",
    "                 sep=',')"
   ]
  },
  {
   "cell_type": "markdown",
   "id": "a53b251b-372c-43f6-9223-e6eebf7bc745",
   "metadata": {},
   "source": [
    "## Basic statistics"
   ]
  },
  {
   "cell_type": "code",
   "execution_count": 228,
   "id": "2d69398d-287a-4ad7-b0b6-49e0d6bc6114",
   "metadata": {},
   "outputs": [
    {
     "data": {
      "text/plain": [
       "event\n",
       "click                    58817263\n",
       "contact_phone_click_1     1721338\n",
       "bookmark                  1644602\n",
       "chat_click                1399051\n",
       "contact_chat               948470\n",
       "contact_partner_click      459305\n",
       "contact_phone_click_2      444497\n",
       "contact_phone_click_3       67675\n",
       "Name: count, dtype: int64"
      ]
     },
     "execution_count": 228,
     "metadata": {},
     "output_type": "execute_result"
    }
   ],
   "source": [
    "df['event'].value_counts()"
   ]
  },
  {
   "cell_type": "code",
   "execution_count": 229,
   "id": "579ed43d-48f0-4047-b16a-f6e4c712d89e",
   "metadata": {},
   "outputs": [
    {
     "name": "stdout",
     "output_type": "stream",
     "text": [
      "<class 'pandas.core.frame.DataFrame'>\n",
      "RangeIndex: 65502201 entries, 0 to 65502200\n",
      "Data columns (total 4 columns):\n",
      " #   Column     Dtype \n",
      "---  ------     ----- \n",
      " 0   user       int64 \n",
      " 1   item       int64 \n",
      " 2   event      object\n",
      " 3   timestamp  int64 \n",
      "dtypes: int64(3), object(1)\n",
      "memory usage: 2.0+ GB\n"
     ]
    }
   ],
   "source": [
    "df.info()"
   ]
  },
  {
   "cell_type": "code",
   "execution_count": 230,
   "id": "53e74fc1-c6f8-463a-b82a-df59d701f5c6",
   "metadata": {},
   "outputs": [
    {
     "name": "stdout",
     "output_type": "stream",
     "text": [
      "Number of users:  3295942\n",
      "Number of items:  185395\n"
     ]
    }
   ],
   "source": [
    "n_users = df['user'].nunique()\n",
    "n_items = df['item'].nunique()\n",
    "\n",
    "print('Number of users: ', n_users)\n",
    "print('Number of items: ', n_items)"
   ]
  },
  {
   "cell_type": "code",
   "execution_count": 231,
   "id": "65f078bf-7768-43ef-83d3-b2d74625c254",
   "metadata": {},
   "outputs": [
    {
     "name": "stdout",
     "output_type": "stream",
     "text": [
      "Average number of events per user:  19.87  with a standard deviation of  47.762363188402105\n",
      "Average number of events per item:  353.31  with a standard deviation of  624.7732106025969\n"
     ]
    }
   ],
   "source": [
    "n_events_per_user = df.groupby('user').size()\n",
    "n_events_per_item = df.groupby('item').size()\n",
    "\n",
    "print('Average number of events per user: ', round(np.mean(n_events_per_user), 2), ' with a standard deviation of ', np.std(n_events_per_user))\n",
    "print('Average number of events per item: ', round(np.mean(n_events_per_item), 2), ' with a standard deviation of ', np.std(n_events_per_item))"
   ]
  },
  {
   "cell_type": "code",
   "execution_count": 232,
   "id": "8056ad6c-56b0-4ea9-9310-123e19fd1293",
   "metadata": {},
   "outputs": [
    {
     "name": "stdout",
     "output_type": "stream",
     "text": [
      "Median number of events per user:  6.0\n",
      "Median number of events per item:  137.0\n"
     ]
    }
   ],
   "source": [
    "print('Median number of events per user: ', round(np.median(n_events_per_user), 2))\n",
    "print('Median number of events per item: ', round(np.median(n_events_per_item), 2))"
   ]
  },
  {
   "cell_type": "markdown",
   "id": "bbdc488c-dbf4-44ab-a73a-627701c732d7",
   "metadata": {},
   "source": [
    "## Number of interactions per user"
   ]
  },
  {
   "cell_type": "code",
   "execution_count": 233,
   "id": "1cdeeb15-09cc-48d3-9c11-a5cfa8b785fd",
   "metadata": {},
   "outputs": [
    {
     "data": {
      "text/plain": [
       "count    3.295942e+06\n",
       "mean     1.987359e+01\n",
       "std      4.776237e+01\n",
       "min      1.000000e+00\n",
       "25%      2.000000e+00\n",
       "50%      6.000000e+00\n",
       "75%      1.800000e+01\n",
       "max      1.310000e+03\n",
       "dtype: float64"
      ]
     },
     "execution_count": 233,
     "metadata": {},
     "output_type": "execute_result"
    }
   ],
   "source": [
    "n_events_per_user.describe()"
   ]
  },
  {
   "cell_type": "code",
   "execution_count": 234,
   "id": "3b276307-028c-4dc7-8961-ea00d154759a",
   "metadata": {},
   "outputs": [
    {
     "data": {
      "text/plain": [
       "<Axes: ylabel='Proportion'>"
      ]
     },
     "execution_count": 234,
     "metadata": {},
     "output_type": "execute_result"
    },
    {
     "data": {
      "image/png": "[encoded data removed]",
      "text/plain": [
       "<Figure size 640x480 with 1 Axes>"
      ]
     },
     "metadata": {},
     "output_type": "display_data"
    }
   ],
   "source": [
    "sns.ecdfplot(n_events_per_user)"
   ]
  },
  {
   "cell_type": "code",
   "execution_count": 235,
   "id": "37e3d224-9ec5-4309-bebe-95f6d171a20b",
   "metadata": {},
   "outputs": [
    {
     "data": {
      "text/plain": [
       "<Axes: ylabel='Count'>"
      ]
     },
     "execution_count": 235,
     "metadata": {},
     "output_type": "execute_result"
    },
    {
     "data": {
      "image/png": "[encoded data removed]",
      "text/plain": [
       "<Figure size 640x480 with 1 Axes>"
      ]
     },
     "metadata": {},
     "output_type": "display_data"
    }
   ],
   "source": [
    "h1 = sns.histplot(n_events_per_user, bins=30)\n",
    "h1.set_yscale(\"log\")\n",
    "h1"
   ]
  },
  {
   "cell_type": "code",
   "execution_count": 236,
   "id": "f5351918-3a4e-431a-9a51-bbd50bbca980",
   "metadata": {},
   "outputs": [
    {
     "data": {
      "text/plain": [
       "<Axes: >"
      ]
     },
     "execution_count": 236,
     "metadata": {},
     "output_type": "execute_result"
    },
    {
     "data": {
      "image/png": "[encoded data removed]",
      "text/plain": [
       "<Figure size 640x480 with 1 Axes>"
      ]
     },
     "metadata": {},
     "output_type": "display_data"
    }
   ],
   "source": [
    "sns.boxplot(n_events_per_user)"
   ]
  },
  {
   "cell_type": "code",
   "execution_count": 237,
   "id": "6f8f1cb7-7b35-4d70-935c-74fd376921b4",
   "metadata": {},
   "outputs": [
    {
     "data": {
      "text/plain": [
       "<Axes: >"
      ]
     },
     "execution_count": 237,
     "metadata": {},
     "output_type": "execute_result"
    },
    {
     "data": {
      "image/png": "[encoded data removed]",
      "text/plain": [
       "<Figure size 640x480 with 1 Axes>"
      ]
     },
     "metadata": {},
     "output_type": "display_data"
    }
   ],
   "source": [
    "h = sns.boxplot(n_events_per_user)\n",
    "h.set_yscale('log')\n",
    "h"
   ]
  },
  {
   "cell_type": "markdown",
   "id": "b0a64da1-9c13-405c-8e5d-435c6bc8a0a8",
   "metadata": {},
   "source": [
    "## Number of interactions per item"
   ]
  },
  {
   "cell_type": "code",
   "execution_count": 238,
   "id": "f655eb71-702c-4e2e-aa4d-7b75468e8f9c",
   "metadata": {},
   "outputs": [
    {
     "data": {
      "text/plain": [
       "count    185395.000000\n",
       "mean        353.311583\n",
       "std         624.774896\n",
       "min           1.000000\n",
       "25%           3.000000\n",
       "50%         137.000000\n",
       "75%         428.000000\n",
       "max       15480.000000\n",
       "dtype: float64"
      ]
     },
     "execution_count": 238,
     "metadata": {},
     "output_type": "execute_result"
    }
   ],
   "source": [
    "n_events_per_item.describe()"
   ]
  },
  {
   "cell_type": "code",
   "execution_count": 239,
   "id": "8247cd42-ba42-4f1d-9731-24988d11bc35",
   "metadata": {},
   "outputs": [
    {
     "data": {
      "text/plain": [
       "<Axes: ylabel='Proportion'>"
      ]
     },
     "execution_count": 239,
     "metadata": {},
     "output_type": "execute_result"
    },
    {
     "data": {
      "image/png": "[encoded data removed]",
      "text/plain": [
       "<Figure size 640x480 with 1 Axes>"
      ]
     },
     "metadata": {},
     "output_type": "display_data"
    }
   ],
   "source": [
    "sns.ecdfplot(n_events_per_item)"
   ]
  },
  {
   "cell_type": "code",
   "execution_count": 240,
   "id": "70c34cc9-e7df-4e89-bb01-4b08df0e903d",
   "metadata": {},
   "outputs": [
    {
     "data": {
      "text/plain": [
       "<Axes: ylabel='Count'>"
      ]
     },
     "execution_count": 240,
     "metadata": {},
     "output_type": "execute_result"
    },
    {
     "data": {
      "image/png": "[encoded data removed]",
      "text/plain": [
       "<Figure size 640x480 with 1 Axes>"
      ]
     },
     "metadata": {},
     "output_type": "display_data"
    }
   ],
   "source": [
    "h2 = sns.histplot(n_events_per_item, bins=30)\n",
    "h2.set_yscale(\"log\")\n",
    "h2"
   ]
  },
  {
   "cell_type": "code",
   "execution_count": 241,
   "id": "cbb1fde3-50df-4351-82e0-1fd80e210839",
   "metadata": {},
   "outputs": [
    {
     "data": {
      "text/plain": [
       "<Axes: >"
      ]
     },
     "execution_count": 241,
     "metadata": {},
     "output_type": "execute_result"
    },
    {
     "data": {
      "image/png": "[encoded data removed]",
      "text/plain": [
       "<Figure size 640x480 with 1 Axes>"
      ]
     },
     "metadata": {},
     "output_type": "display_data"
    }
   ],
   "source": [
    "sns.boxplot(n_events_per_item)"
   ]
  },
  {
   "cell_type": "code",
   "execution_count": 242,
   "id": "74b3ade9-b40b-4429-b84e-4c374bbaf455",
   "metadata": {},
   "outputs": [
    {
     "data": {
      "text/plain": [
       "<Axes: >"
      ]
     },
     "execution_count": 242,
     "metadata": {},
     "output_type": "execute_result"
    },
    {
     "data": {
      "image/png": "[encoded data removed]",
      "text/plain": [
       "<Figure size 640x480 with 1 Axes>"
      ]
     },
     "metadata": {},
     "output_type": "display_data"
    }
   ],
   "source": [
    "h4 = sns.boxplot(n_events_per_item)\n",
    "h4.set_yscale('log')\n",
    "h4"
   ]
  },
  {
   "cell_type": "code",
   "execution_count": 243,
   "id": "588b6944-2ffa-4d22-b526-a25ba2775c51",
   "metadata": {},
   "outputs": [
    {
     "data": {
      "text/plain": [
       "item\n",
       "145769    15480\n",
       "171495    15092\n",
       "44153     14581\n",
       "41518     14544\n",
       "179685    13985\n",
       "          ...  \n",
       "118231        1\n",
       "48346         1\n",
       "85236         1\n",
       "138689        1\n",
       "81245         1\n",
       "Name: count, Length: 185395, dtype: int64"
      ]
     },
     "execution_count": 243,
     "metadata": {},
     "output_type": "execute_result"
    }
   ],
   "source": [
    "n_events_per_item = df['item'].value_counts()\n",
    "n_events_per_item"
   ]
  },
  {
   "cell_type": "code",
   "execution_count": 244,
   "id": "f01d80c5-89df-45c9-bce1-a22044fd7553",
   "metadata": {},
   "outputs": [],
   "source": [
    "# prop = int(np.floor(n_items*0.1))\n",
    "prop=100\n",
    "top_items = n_events_per_item.head(prop)"
   ]
  },
  {
   "cell_type": "code",
   "execution_count": 245,
   "id": "f6d40086-906c-4c98-be43-0b2d28708bae",
   "metadata": {},
   "outputs": [
    {
     "data": {
      "text/plain": [
       "item\n",
       "44689      6979\n",
       "47799      6990\n",
       "52647      7004\n",
       "97375      7015\n",
       "21203      7034\n",
       "          ...  \n",
       "179685    13985\n",
       "41518     14544\n",
       "44153     14581\n",
       "171495    15092\n",
       "145769    15480\n",
       "Name: count, Length: 100, dtype: int64"
      ]
     },
     "execution_count": 245,
     "metadata": {},
     "output_type": "execute_result"
    }
   ],
   "source": [
    "top_items.sort_values()"
   ]
  },
  {
   "cell_type": "code",
   "execution_count": 246,
   "id": "4991aad1-8cd6-42f1-b8fc-b9f0252f6f42",
   "metadata": {},
   "outputs": [
    {
     "data": {
      "image/png": "[encoded data removed]",
      "text/plain": [
       "<Figure size 1200x600 with 1 Axes>"
      ]
     },
     "metadata": {},
     "output_type": "display_data"
    }
   ],
   "source": [
    "# Create a DataFrame with the selected top items and their counts\n",
    "top_items_df = pd.DataFrame({'item': top_items.index, 'count': top_items.values})\n",
    "\n",
    "# Create a Seaborn barplot\n",
    "plt.figure(figsize=(12, 6))\n",
    "sns.barplot(x='item', y='count', data=top_items_df, palette='viridis')\n",
    "plt.xticks(rotation=90)\n",
    "plt.title(f'Top {prop} Most Popular Items')\n",
    "plt.xlabel('Item')\n",
    "plt.ylabel('Count')\n",
    "plt.show()"
   ]
  },
  {
   "cell_type": "markdown",
   "id": "618b056d-e2b5-4c5f-bbb9-ed44a570666f",
   "metadata": {},
   "source": [
    "## Wstępna obróbka danych"
   ]
  },
  {
   "cell_type": "markdown",
   "id": "7bf99742-2a15-409c-9f08-c8e41fb0e646",
   "metadata": {},
   "source": [
    "Podział wartości z kolumny `event` tak aby móc dostosować naszą ramkę danych do zadania. "
   ]
  },
  {
   "cell_type": "code",
   "execution_count": 247,
   "id": "1ffd56f4-eb0b-4404-a8f2-378c688644e7",
   "metadata": {},
   "outputs": [],
   "source": [
    "rating = {\n",
    "    'click': 1,\n",
    "    'bookmark': 2,\n",
    "    'chat_click': 3,\n",
    "    'contact_phone_click_1': 3,\n",
    "    'contact_partner_click': 3,\n",
    "    'contact_phone_click_2': 3,\n",
    "    'contact_phone_click_3': 3,\n",
    "    'contact_chat': 3\n",
    "}\n",
    "df['event'] = df['event'].map(rating)\n",
    "df = df.rename(columns={'event': 'label'})\n",
    "df = df.rename(columns={'timestamp': 'time'})"
   ]
  },
  {
   "cell_type": "markdown",
   "id": "433220ab-79d0-4c62-9bcd-159e69dd61be",
   "metadata": {},
   "source": [
    "Ustawiamy liczbę interakcji użytkowników od największej do najmniejszej i sprawdzamy jak wyglądają te liczby."
   ]
  },
  {
   "cell_type": "code",
   "execution_count": 248,
   "id": "40dc3a73-c06e-4bab-b071-1599ed6436b6",
   "metadata": {},
   "outputs": [
    {
     "name": "stdout",
     "output_type": "stream",
     "text": [
      "user\n",
      "750207     1310\n",
      "2358298    1308\n",
      "3057718    1308\n",
      "88606      1307\n",
      "2016978    1303\n",
      "Name: count, dtype: int64\n"
     ]
    }
   ],
   "source": [
    "user_interaction_counts = df['user'].value_counts()\n",
    "\n",
    "# Sortowanie użytkowników według liczby interakcji od największej do najmniejszej\n",
    "sorted_users = user_interaction_counts.sort_values(ascending=False)\n",
    "\n",
    "# Wyświetlenie posortowanych użytkowników\n",
    "print(sorted_users.head())"
   ]
  },
  {
   "cell_type": "markdown",
   "id": "93819256",
   "metadata": {},
   "source": [
    "Pozbywamy się użytkowników z liczbą interakcji mniejszą niż 100. Mamy nadzieje odsiać w ten sposób użytkowników, którzy nie są regularnymi użytkownikami."
   ]
  },
  {
   "cell_type": "code",
   "execution_count": 249,
   "id": "ddaaba0b",
   "metadata": {},
   "outputs": [],
   "source": [
    "reg_users = user_interaction_counts[user_interaction_counts >= 100]"
   ]
  },
  {
   "cell_type": "markdown",
   "id": "7ccded56",
   "metadata": {},
   "source": [
    "Pozbywamy się outlierów korzystając z metody 8 sigm."
   ]
  },
  {
   "cell_type": "code",
   "execution_count": 250,
   "id": "1e5c3fc0",
   "metadata": {},
   "outputs": [],
   "source": [
    "users_to_keep = reg_users[reg_users <= reg_users.mean() + 8*reg_users.std()].index\n",
    "df = df[df['user'].isin(users_to_keep)]"
   ]
  },
  {
   "cell_type": "code",
   "execution_count": 251,
   "id": "ddfc7d54-04c3-4bac-a129-a350e28f8442",
   "metadata": {},
   "outputs": [
    {
     "name": "stdout",
     "output_type": "stream",
     "text": [
      "Average number of events per user:  202.48  with a standard deviation of  134.87381371148234\n",
      "Median number of events per user:  156.0\n"
     ]
    },
    {
     "data": {
      "text/plain": [
       "count    123531.000000\n",
       "mean        202.475403\n",
       "std         134.874360\n",
       "min         100.000000\n",
       "25%         121.000000\n",
       "50%         156.000000\n",
       "75%         229.000000\n",
       "max        1283.000000\n",
       "dtype: float64"
      ]
     },
     "execution_count": 251,
     "metadata": {},
     "output_type": "execute_result"
    }
   ],
   "source": [
    "n_events_per_user = df.groupby('user').size()\n",
    "# n_events_per_user = n_events_per_user.to_frame()\n",
    "print('Average number of events per user: ', round(np.mean(n_events_per_user), 2), ' with a standard deviation of ', np.std(n_events_per_user))\n",
    "print('Median number of events per user: ', round(np.median(n_events_per_user), 2))\n",
    "n_events_per_user.describe()"
   ]
  },
  {
   "cell_type": "code",
   "execution_count": 252,
   "id": "e26fee39-3f59-4653-a362-a66423c3b53d",
   "metadata": {},
   "outputs": [
    {
     "data": {
      "text/plain": [
       "<Axes: ylabel='Proportion'>"
      ]
     },
     "execution_count": 252,
     "metadata": {},
     "output_type": "execute_result"
    },
    {
     "data": {
      "image/png": "[encoded data removed]",
      "text/plain": [
       "<Figure size 640x480 with 1 Axes>"
      ]
     },
     "metadata": {},
     "output_type": "display_data"
    }
   ],
   "source": [
    "sns.ecdfplot(n_events_per_user)"
   ]
  },
  {
   "cell_type": "code",
   "execution_count": 253,
   "id": "2a692588-fad7-42da-b8b4-7bd202d4a4e4",
   "metadata": {},
   "outputs": [
    {
     "data": {
      "text/plain": [
       "<Axes: ylabel='Count'>"
      ]
     },
     "execution_count": 253,
     "metadata": {},
     "output_type": "execute_result"
    },
    {
     "data": {
      "image/png": "[encoded data removed]",
      "text/plain": [
       "<Figure size 640x480 with 1 Axes>"
      ]
     },
     "metadata": {},
     "output_type": "display_data"
    }
   ],
   "source": [
    "h1 = sns.histplot(n_events_per_user, bins=30)\n",
    "h1.set_yscale(\"log\")\n",
    "h1"
   ]
  },
  {
   "cell_type": "code",
   "execution_count": 254,
   "id": "2e1d0d1c-afeb-4110-9978-4b8f69038492",
   "metadata": {},
   "outputs": [
    {
     "data": {
      "text/plain": [
       "{'whiskers': [<matplotlib.lines.Line2D at 0x1cad2812ed0>,\n",
       "  <matplotlib.lines.Line2D at 0x1cad1c3c390>],\n",
       " 'caps': [<matplotlib.lines.Line2D at 0x1cad282c450>,\n",
       "  <matplotlib.lines.Line2D at 0x1cad282d050>],\n",
       " 'boxes': [<matplotlib.lines.Line2D at 0x1cae73e0b10>],\n",
       " 'medians': [<matplotlib.lines.Line2D at 0x1cad282db90>],\n",
       " 'fliers': [<matplotlib.lines.Line2D at 0x1cad282e610>],\n",
       " 'means': []}"
      ]
     },
     "execution_count": 254,
     "metadata": {},
     "output_type": "execute_result"
    },
    {
     "data": {
      "image/png": "[encoded data removed]",
      "text/plain": [
       "<Figure size 640x480 with 1 Axes>"
      ]
     },
     "metadata": {},
     "output_type": "display_data"
    }
   ],
   "source": [
    "plt.boxplot(n_events_per_user)"
   ]
  },
  {
   "cell_type": "code",
   "execution_count": 257,
   "id": "94fc63ab-519f-4a53-bd63-4a42bbd2d4b7",
   "metadata": {},
   "outputs": [
    {
     "ename": "AttributeError",
     "evalue": "'dict' object has no attribute 'set_yscale'",
     "output_type": "error",
     "traceback": [
      "\u001b[1;31m---------------------------------------------------------------------------\u001b[0m",
      "\u001b[1;31mAttributeError\u001b[0m                            Traceback (most recent call last)",
      "Cell \u001b[1;32mIn[257], line 2\u001b[0m\n\u001b[0;32m      1\u001b[0m h \u001b[38;5;241m=\u001b[39m plt\u001b[38;5;241m.\u001b[39mboxplot(n_events_per_user)\n\u001b[1;32m----> 2\u001b[0m h\u001b[38;5;241m.\u001b[39mset_yscale(\u001b[38;5;124m'\u001b[39m\u001b[38;5;124mlog\u001b[39m\u001b[38;5;124m'\u001b[39m)\n\u001b[0;32m      3\u001b[0m h\n",
      "\u001b[1;31mAttributeError\u001b[0m: 'dict' object has no attribute 'set_yscale'"
     ]
    },
    {
     "data": {
      "image/png": "[encoded data removed]",
      "text/plain": [
       "<Figure size 640x480 with 1 Axes>"
      ]
     },
     "metadata": {},
     "output_type": "display_data"
    }
   ],
   "source": [
    "h = plt.boxplot(n_events_per_user)\n",
    "h.set_yscale('log')\n",
    "h"
   ]
  },
  {
   "cell_type": "code",
   "execution_count": 258,
   "id": "cfadf0f1-e33c-4eb4-a5e0-60ddc48b0ef5",
   "metadata": {},
   "outputs": [
    {
     "name": "stdout",
     "output_type": "stream",
     "text": [
      "item\n",
      "44153     7276\n",
      "52054     7080\n",
      "179685    6961\n",
      "66717     6957\n",
      "16819     6909\n",
      "Name: count, dtype: int64\n"
     ]
    }
   ],
   "source": [
    "items_interaction_counts = df['item'].value_counts()\n",
    "\n",
    "# Sortowanie użytkowników według liczby interakcji od największej do najmniejszej\n",
    "sorted_items = items_interaction_counts.sort_values(ascending=False)\n",
    "\n",
    "# Wyświetlenie posortowanych użytkowników\n",
    "print(sorted_items.head())"
   ]
  },
  {
   "cell_type": "markdown",
   "id": "576ca802",
   "metadata": {},
   "source": [
    "Pozbywamy się przedmiotów o mniejszej liczbie interakcji niż 1000. Mamy nadzieje, by w ten sposób, zachować przedmioty, które cieszą się przynajmniej umiarkowanym sukcesem."
   ]
  },
  {
   "cell_type": "code",
   "execution_count": 259,
   "id": "6596b3fa",
   "metadata": {},
   "outputs": [],
   "source": [
    "popular_items = items_interaction_counts[items_interaction_counts >= 1000]"
   ]
  },
  {
   "cell_type": "markdown",
   "id": "a3ce1d49",
   "metadata": {},
   "source": [
    "Pozbywamy się outlierów korzystając z metody 9 sigm."
   ]
  },
  {
   "cell_type": "code",
   "execution_count": 260,
   "id": "8cdd28ab",
   "metadata": {},
   "outputs": [],
   "source": [
    "items_to_keep = popular_items[popular_items <= popular_items.mean() + 9*popular_items.std()].index\n",
    "df = df[df['item'].isin(items_to_keep)]"
   ]
  },
  {
   "cell_type": "code",
   "execution_count": 261,
   "id": "8268d556-d8d6-49fa-a7b7-5a7beec8f6c6",
   "metadata": {},
   "outputs": [
    {
     "name": "stdout",
     "output_type": "stream",
     "text": [
      "Average number of events per item:  1579.65  with a standard deviation of  700.3250684599021\n",
      "Median number of events per item:  1355.0\n"
     ]
    },
    {
     "data": {
      "text/plain": [
       "count    3291.000000\n",
       "mean     1579.654512\n",
       "std       700.431493\n",
       "min      1000.000000\n",
       "25%      1139.000000\n",
       "50%      1355.000000\n",
       "75%      1754.500000\n",
       "max      7276.000000\n",
       "dtype: float64"
      ]
     },
     "execution_count": 261,
     "metadata": {},
     "output_type": "execute_result"
    }
   ],
   "source": [
    "n_events_per_item = df.groupby('item').size()\n",
    "# n_events_per_item = n_events_per_item.to_frame()\n",
    "print('Average number of events per item: ', round(np.mean(n_events_per_item), 2), ' with a standard deviation of ', np.std(n_events_per_item))\n",
    "print('Median number of events per item: ', round(np.median(n_events_per_item), 2))\n",
    "n_events_per_item.describe()"
   ]
  },
  {
   "cell_type": "code",
   "execution_count": 262,
   "id": "4604e481-5752-4bf8-87a5-5063b0bd941b",
   "metadata": {},
   "outputs": [
    {
     "data": {
      "text/plain": [
       "<Axes: ylabel='Proportion'>"
      ]
     },
     "execution_count": 262,
     "metadata": {},
     "output_type": "execute_result"
    },
    {
     "data": {
      "image/png": "[encoded data removed]",
      "text/plain": [
       "<Figure size 640x480 with 1 Axes>"
      ]
     },
     "metadata": {},
     "output_type": "display_data"
    }
   ],
   "source": [
    "sns.ecdfplot(n_events_per_item)"
   ]
  },
  {
   "cell_type": "code",
   "execution_count": 263,
   "id": "d11a8c3a-6fbd-4352-8562-e2af7666748f",
   "metadata": {},
   "outputs": [
    {
     "data": {
      "text/plain": [
       "<Axes: ylabel='Count'>"
      ]
     },
     "execution_count": 263,
     "metadata": {},
     "output_type": "execute_result"
    },
    {
     "data": {
      "image/png": "[encoded data removed]",
      "text/plain": [
       "<Figure size 640x480 with 1 Axes>"
      ]
     },
     "metadata": {},
     "output_type": "display_data"
    }
   ],
   "source": [
    "h2 = sns.histplot(n_events_per_item, bins=30)\n",
    "h2.set_yscale(\"log\")\n",
    "h2"
   ]
  },
  {
   "cell_type": "code",
   "execution_count": 264,
   "id": "d7e9a42e-2675-4a75-9c8b-1094203eeef3",
   "metadata": {},
   "outputs": [
    {
     "data": {
      "text/plain": [
       "{'whiskers': [<matplotlib.lines.Line2D at 0x1cad28c7e90>,\n",
       "  <matplotlib.lines.Line2D at 0x1cad2a6e310>],\n",
       " 'caps': [<matplotlib.lines.Line2D at 0x1cad27f3d90>,\n",
       "  <matplotlib.lines.Line2D at 0x1cad2a535d0>],\n",
       " 'boxes': [<matplotlib.lines.Line2D at 0x1cad286a810>],\n",
       " 'medians': [<matplotlib.lines.Line2D at 0x1cad2a336d0>],\n",
       " 'fliers': [<matplotlib.lines.Line2D at 0x1cad2a30c10>],\n",
       " 'means': []}"
      ]
     },
     "execution_count": 264,
     "metadata": {},
     "output_type": "execute_result"
    },
    {
     "data": {
      "image/png": "[encoded data removed]",
      "text/plain": [
       "<Figure size 640x480 with 1 Axes>"
      ]
     },
     "metadata": {},
     "output_type": "display_data"
    }
   ],
   "source": [
    "plt.boxplot(n_events_per_item)"
   ]
  },
  {
   "cell_type": "code",
   "execution_count": 265,
   "id": "edc9707a-10f2-4932-adc6-de555438b508",
   "metadata": {},
   "outputs": [
    {
     "ename": "AttributeError",
     "evalue": "'dict' object has no attribute 'set_yscale'",
     "output_type": "error",
     "traceback": [
      "\u001b[1;31m---------------------------------------------------------------------------\u001b[0m",
      "\u001b[1;31mAttributeError\u001b[0m                            Traceback (most recent call last)",
      "Cell \u001b[1;32mIn[265], line 2\u001b[0m\n\u001b[0;32m      1\u001b[0m h4 \u001b[38;5;241m=\u001b[39m plt\u001b[38;5;241m.\u001b[39mboxplot(n_events_per_item)\n\u001b[1;32m----> 2\u001b[0m h4\u001b[38;5;241m.\u001b[39mset_yscale(\u001b[38;5;124m'\u001b[39m\u001b[38;5;124mlog\u001b[39m\u001b[38;5;124m'\u001b[39m)\n\u001b[0;32m      3\u001b[0m h4\n",
      "\u001b[1;31mAttributeError\u001b[0m: 'dict' object has no attribute 'set_yscale'"
     ]
    },
    {
     "data": {
      "image/png": "[encoded data removed]",
      "text/plain": [
       "<Figure size 640x480 with 1 Axes>"
      ]
     },
     "metadata": {},
     "output_type": "display_data"
    }
   ],
   "source": [
    "h4 = plt.boxplot(n_events_per_item)\n",
    "h4.set_yscale('log')\n",
    "h4"
   ]
  },
  {
   "cell_type": "code",
   "execution_count": 266,
   "id": "8d431590-863a-4e5d-a3f1-1021f069e253",
   "metadata": {},
   "outputs": [
    {
     "data": {
      "text/plain": [
       "item\n",
       "2886    1004\n",
       "1153    1010\n",
       "4818    1012\n",
       "5372    1022\n",
       "4655    1029\n",
       "        ... \n",
       "5572    2782\n",
       "5479    2784\n",
       "872     3156\n",
       "1897    3289\n",
       "2696    4028\n",
       "Length: 100, dtype: int64"
      ]
     },
     "execution_count": 266,
     "metadata": {},
     "output_type": "execute_result"
    }
   ],
   "source": [
    "# prop = int(np.floor(n_items*0.1))\n",
    "prop=100\n",
    "top_items = n_events_per_item.head(prop)\n",
    "top_items.sort_values()"
   ]
  },
  {
   "cell_type": "code",
   "execution_count": 267,
   "id": "f91e84a9-7eba-4962-b6cb-232cbec4ae0e",
   "metadata": {},
   "outputs": [
    {
     "data": {
      "image/png": "[encoded data removed]",
      "text/plain": [
       "<Figure size 1200x600 with 1 Axes>"
      ]
     },
     "metadata": {},
     "output_type": "display_data"
    }
   ],
   "source": [
    "# Create a DataFrame with the selected top items and their counts\n",
    "top_items_df = pd.DataFrame({'item': top_items.index, 'count': top_items.values})\n",
    "\n",
    "# Create a Seaborn barplot\n",
    "plt.figure(figsize=(12, 6))\n",
    "sns.barplot(x='item', y='count', data=top_items_df, palette='viridis')\n",
    "plt.xticks(rotation=90)\n",
    "plt.title(f'Top {prop} Most Popular Items')\n",
    "plt.xlabel('Item')\n",
    "plt.ylabel('Count')\n",
    "plt.show()"
   ]
  },
  {
   "cell_type": "markdown",
   "id": "7a3ba1c5",
   "metadata": {},
   "source": [
    "Dla tej kombinacji sigm zaobserwowałem najwyższe gęstość danych."
   ]
  },
  {
   "cell_type": "markdown",
   "id": "1e2cc6ca-ec5e-4cfe-98f7-202e9e27bd8a",
   "metadata": {},
   "source": [
    "Pierwsza filtracja ramki danych. Wybieramy 20% przedmiotów o największej liczbie interakcji."
   ]
  },
  {
   "cell_type": "code",
   "execution_count": 268,
   "id": "f5cf43fe-563d-405f-a878-6837c85ea3db",
   "metadata": {},
   "outputs": [],
   "source": [
    "# Obliczenie liczby interakcji dla każdego przedmiotu\n",
    "item_interaction_counts = df['item'].value_counts()\n",
    "\n",
    "# Obliczenie kwantyla dla top 20% przedmiotów\n",
    "top_20_threshold = item_interaction_counts.quantile(0.8)\n",
    "\n",
    "# Wybór przedmiotów, które są w top 20% o największej liczbie interakcji\n",
    "top_20_items = item_interaction_counts[item_interaction_counts >= top_20_threshold].index\n",
    "\n",
    "# Przefiltrowanie ramki danych, aby pozostawić tylko wybrane przedmioty\n",
    "filtered_df = df[df['item'].isin(top_20_items)]"
   ]
  },
  {
   "cell_type": "code",
   "execution_count": 269,
   "id": "dc788ebe-35d1-425a-9b0e-b36071e8cd47",
   "metadata": {},
   "outputs": [
    {
     "name": "stdout",
     "output_type": "stream",
     "text": [
      "item\n",
      "44153     7276\n",
      "52054     7080\n",
      "179685    6961\n",
      "66717     6957\n",
      "16819     6909\n",
      "Name: count, dtype: int64\n"
     ]
    }
   ],
   "source": [
    "item_interaction_counts = filtered_df['item'].value_counts()\n",
    "\n",
    "# Sortowanie przedmiotow według liczby interakcji od największej do najmniejszej\n",
    "sorted_items = item_interaction_counts.sort_values(ascending=False)\n",
    "\n",
    "# Wyświetlenie posortowanych przedmiotów\n",
    "print(sorted_items.head())"
   ]
  },
  {
   "cell_type": "markdown",
   "id": "4bc2e025-10f2-4005-88cd-86ffe5b6627f",
   "metadata": {},
   "source": [
    "To samo robimy dla 20% użytkowników o największej liczbie interakcji."
   ]
  },
  {
   "cell_type": "code",
   "execution_count": 270,
   "id": "176fc413-2ed6-4153-9bb6-48f57d24f09e",
   "metadata": {},
   "outputs": [
    {
     "name": "stdout",
     "output_type": "stream",
     "text": [
      "user\n",
      "1288580    1054\n",
      "1948352     537\n",
      "2090363     484\n",
      "3049290     468\n",
      "239584      396\n",
      "Name: count, dtype: int64\n"
     ]
    }
   ],
   "source": [
    "user_interaction_counts = filtered_df['user'].value_counts()\n",
    "\n",
    "# Sortowanie użytkowników według liczby interakcji od największej do najmniejszej\n",
    "sorted_users = user_interaction_counts.sort_values(ascending=False)\n",
    "\n",
    "# Wyświetlenie posortowanych użytkowników\n",
    "print(sorted_users.head())"
   ]
  },
  {
   "cell_type": "code",
   "execution_count": 271,
   "id": "dcba46ab-c3a3-4dd9-bd84-3141049c7bc4",
   "metadata": {},
   "outputs": [],
   "source": [
    "# Obliczenie liczby interakcji dla każdego użytkownika\n",
    "user_interaction_counts = df['user'].value_counts()\n",
    "\n",
    "# Obliczenie kwantyla dla top 20% użytkowników\n",
    "top_20_threshold = user_interaction_counts.quantile(0.8)\n",
    "\n",
    "# Wybór użytkowników, którzy są w top 20% o największej liczbie interakcji\n",
    "top_20_users = user_interaction_counts[user_interaction_counts >= top_20_threshold].index\n",
    "\n",
    "# Przefiltrowanie ramki danych, aby pozostawić tylko wybranych użytkowników\n",
    "filtered_df = filtered_df[filtered_df['user'].isin(top_20_users)]"
   ]
  },
  {
   "cell_type": "code",
   "execution_count": 272,
   "id": "1150aec4-8336-481e-bf18-d93d33482eef",
   "metadata": {},
   "outputs": [
    {
     "name": "stdout",
     "output_type": "stream",
     "text": [
      "item\n",
      "66717     5250\n",
      "44153     5098\n",
      "16819     5049\n",
      "171495    4957\n",
      "179685    4912\n",
      "Name: count, dtype: int64\n",
      "user\n",
      "1288580    1054\n",
      "1948352     537\n",
      "2090363     484\n",
      "3049290     468\n",
      "239584      396\n",
      "Name: count, dtype: int64\n"
     ]
    }
   ],
   "source": [
    "item_interaction_counts = filtered_df['item'].value_counts()\n",
    "\n",
    "# Sortowanie przedmiotów według liczby interakcji od największej do najmniejszej\n",
    "sorted_items = item_interaction_counts.sort_values(ascending=False)\n",
    "\n",
    "# Wyświetlenie posortowanych przedmiotów\n",
    "print(sorted_items.head())\n",
    "\n",
    "user_interaction_counts = filtered_df['user'].value_counts()\n",
    "\n",
    "# Sortowanie użytkowników według liczby interakcji od największej do najmniejszej\n",
    "sorted_userss = user_interaction_counts.sort_values(ascending=False)\n",
    "\n",
    "# Wyświetlenie posortowanych użytkowników\n",
    "print(sorted_users.head())"
   ]
  },
  {
   "cell_type": "markdown",
   "id": "0bfcec25-62cf-49a8-96a5-d77036c88035",
   "metadata": {},
   "source": [
    "Porównujemy proporcję przedmioty / użytkownicy w wejściowej ramce danych oraz przefiltrowanej. Jak widzimy, proporcja ta jest prawie identyczna."
   ]
  },
  {
   "cell_type": "code",
   "execution_count": 273,
   "id": "d3a14eb6-4625-46b9-ba54-7fc6eb31c011",
   "metadata": {},
   "outputs": [
    {
     "name": "stdout",
     "output_type": "stream",
     "text": [
      "25060\n",
      "659\n",
      "2.6296887470071826\n"
     ]
    },
    {
     "data": {
      "text/plain": [
       "2.6695544253279144"
      ]
     },
     "execution_count": 273,
     "metadata": {},
     "output_type": "execute_result"
    }
   ],
   "source": [
    "count_users_before = df['user'].nunique()\n",
    "count_items_before = df['item'].nunique()\n",
    "count_users = filtered_df['user'].nunique()\n",
    "print(count_users)\n",
    "count_items = filtered_df['item'].nunique()\n",
    "print(count_items)\n",
    "print(count_items/count_users * 100)\n",
    "count_items_before/count_users_before * 100"
   ]
  },
  {
   "cell_type": "markdown",
   "id": "d8cc2883-696a-4905-adc4-9f4eeafafb26",
   "metadata": {},
   "source": [
    "Kolejna filtracja ramki danych. Teraz losowo wybieramy 20% unikatowych przedmiotów i użytkowników tak, aby maszyny, na których pracujemy nie miały problemów z pamięcią."
   ]
  },
  {
   "cell_type": "code",
   "execution_count": 274,
   "id": "2f497bc9-b221-46f2-8ae0-3ba7b0449301",
   "metadata": {},
   "outputs": [],
   "source": [
    "# Procent użytkowników i przedmiotów do wyboru\n",
    "sample_percent = 1\n",
    "\n",
    "# Wybór x% unikatowych użytkowników\n",
    "sampled_users = filtered_df.drop_duplicates('user').sample(frac=sample_percent, random_state=2024)\n",
    "\n",
    "# Wybór x% unikatowych przedmiotów\n",
    "sampled_items = filtered_df.drop_duplicates('item').sample(frac=sample_percent, random_state=2024)\n",
    "\n",
    "# Przefiltrowanie przefiltrowanej ramki danych, aby pozostawić tylko wybrane użytkowniki\n",
    "filtered_df_users = filtered_df[filtered_df['user'].isin(sampled_users['user'])]\n",
    "\n",
    "# Przefiltrowanie wynikowej ramki danych, aby pozostawić tylko wybrane przedmioty\n",
    "filtered_df = filtered_df_users[filtered_df_users['item'].isin(sampled_items['item'])]"
   ]
  },
  {
   "cell_type": "markdown",
   "id": "c6879e08-1f3e-47e0-a7e2-9fb4206d159f",
   "metadata": {},
   "source": [
    "Znów sprawdzmy proporcję przedmioty / użytkownicy. "
   ]
  },
  {
   "cell_type": "code",
   "execution_count": 275,
   "id": "51820449-aa69-4bab-9f8e-99cf0a4d343b",
   "metadata": {},
   "outputs": [
    {
     "name": "stdout",
     "output_type": "stream",
     "text": [
      "25060\n",
      "659\n",
      "2.6296887470071826\n"
     ]
    },
    {
     "data": {
      "text/plain": [
       "2.6695544253279144"
      ]
     },
     "execution_count": 275,
     "metadata": {},
     "output_type": "execute_result"
    }
   ],
   "source": [
    "count_users = filtered_df['user'].nunique()\n",
    "print(count_users)\n",
    "count_items = filtered_df['item'].nunique()\n",
    "print(count_items)\n",
    "print(count_items/count_users * 100)\n",
    "count_items_before/count_users_before * 100"
   ]
  },
  {
   "cell_type": "code",
   "execution_count": 276,
   "id": "aa8ef12e-a2d5-4ac2-986f-ea39f0413622",
   "metadata": {},
   "outputs": [
    {
     "name": "stdout",
     "output_type": "stream",
     "text": [
      "user\n",
      "1288580    1054\n",
      "1948352     537\n",
      "2090363     484\n",
      "3049290     468\n",
      "239584      396\n",
      "Name: count, dtype: int64\n"
     ]
    }
   ],
   "source": [
    "user_interaction_counts = filtered_df['user'].value_counts()\n",
    "\n",
    "# Sortowanie użytkowników według liczby interakcji od największej do najmniejszej\n",
    "sorted_users = user_interaction_counts.sort_values(ascending=False)\n",
    "\n",
    "# Wyświetlenie posortowanych użytkowników\n",
    "print(sorted_users.head())"
   ]
  },
  {
   "cell_type": "code",
   "execution_count": 277,
   "id": "d79dee77-32a0-4a67-94c3-8925e6d43878",
   "metadata": {},
   "outputs": [],
   "source": [
    "# # user_interaction_counts = df['user'].value_counts()\n",
    "# # item_interaction_counts = df['item'].value_counts()\n",
    "\n",
    "# # # Wybór 20% użytkowników o największej liczbie interakcji\n",
    "# # top_users = user_interaction_counts.head(int(len(user_interaction_counts) * 0.2))\n",
    "\n",
    "# # # Wybór 20% przedmiotów o największej liczbie interakcji\n",
    "# # top_items = item_interaction_counts.head(int(len(item_interaction_counts) * 0.2))\n",
    "\n",
    "# # Wybór x% użytkowników i przedmiotów do próbkowania\n",
    "# sample_percent = 0.2  # Możesz zmieniać ten procent w zakresie od 0.01 do 0.5\n",
    "\n",
    "# # Konwertowanie indeksu na ramkę danych dla użytkowników i przedmiotów\n",
    "# top_users_df = top_users.reset_index()\n",
    "# top_users_df.columns = ['user', 'interactions']\n",
    "# top_items_df = top_items.reset_index()\n",
    "# top_items_df.columns = ['item', 'interactions']\n",
    "\n",
    "# # Wybór x% użytkowników\n",
    "# sampled_users = filtered_df.sample(frac=sample_percent, random_state=42)\n",
    "\n",
    "# # Wybór x% przedmiotów\n",
    "# sampled_items = filtered_df.sample(frac=sample_percent, random_state=42)\n",
    "\n",
    "# # Wyświetlenie wybranych użytkowników i przedmiotów\n",
    "# print(\"Wybrane użytkownicy:\")\n",
    "# print(sampled_users.head())\n",
    "# print(\"\\nWybrane przedmioty:\")\n",
    "# print(sampled_items.head())"
   ]
  },
  {
   "cell_type": "code",
   "execution_count": 278,
   "id": "1070c967-faef-47b4-89f8-201da5c37988",
   "metadata": {},
   "outputs": [],
   "source": [
    "# filtered_df = df[df['user'].isin(sampled_users['user']) & df['item'].isin(sampled_items['item'])]\n",
    "\n",
    "# # Wyświetlenie przefiltrowanej ramki danych\n",
    "# print(filtered_df.head())"
   ]
  },
  {
   "cell_type": "code",
   "execution_count": 279,
   "id": "354740cb-16f9-44c2-9bb2-de0820359e9d",
   "metadata": {},
   "outputs": [],
   "source": [
    "# user_interaction_counts = df.groupby('user')['label'].count()\n",
    "# item_interaction_counts = df.groupby('item')['label'].count()\n",
    "# user_mean = user_interaction_counts.mean()\n",
    "# user_std = user_interaction_counts.std()\n",
    "# item_mean = item_interaction_counts.mean()\n",
    "# item_std = item_interaction_counts.std()\n",
    "\n",
    "# # Ustalenie granicy dla wartości odstających (trzy odchylenia standardowe od średniej)\n",
    "# user_outlier_threshold = user_mean + 3 * user_std\n",
    "# item_outlier_threshold = item_mean + 3 * item_std\n",
    "\n",
    "# # Odrzucenie outlierów dla użytkowników\n",
    "# users_no_outliers = df.groupby('user').filter(lambda x: x['label'].count() < user_outlier_threshold)\n",
    "\n",
    "# # Odrzucenie outlierów dla przedmiotów\n",
    "# items_no_outliers = df.groupby('item').filter(lambda x: x['label'].count() < item_outlier_threshold)\n",
    "\n",
    "# # Ograniczenie ramki danych do użytkowników i przedmiotów bez outlierów\n",
    "# df_no_outliers = df[df['user'].isin(users_no_outliers['user'].unique()) & df['item'].isin(items_no_outliers['item'].unique())]"
   ]
  },
  {
   "cell_type": "code",
   "execution_count": 280,
   "id": "520ecfa1-87e9-4b6f-ae4b-c1f22c91db83",
   "metadata": {},
   "outputs": [],
   "source": [
    "# count_users_before = df['user'].nunique()\n",
    "# count_items_before = df['item'].nunique()\n",
    "# count_users = df_no_outliers['user'].nunique()\n",
    "# print(count_users)\n",
    "# count_items = df_no_outliers['item'].nunique()\n",
    "# print(count_items)\n",
    "# print(count_items/count_users * 100)\n",
    "# count_items_before/count_users_before * 100"
   ]
  },
  {
   "cell_type": "code",
   "execution_count": 281,
   "id": "9181c498-e1e3-4924-a1d5-5209655cbca9",
   "metadata": {},
   "outputs": [],
   "source": [
    "# user_interaction_counts = df_no_outliers.groupby('user')['label'].count()\n",
    "# item_interaction_counts = df_no_outliers.groupby('item')['label'].count()\n",
    "\n",
    "# # Obliczenie liczby unikalnych wartości, które chcemy zachować\n",
    "# n_unique_values_to_keep = int(len(item_interaction_counts) * 0.2)\n",
    "\n",
    "# # Wybieranie 20% najczęściej występujących unikalnych wartości 'item'\n",
    "# most_common_values = item_interaction_counts.head(n_unique_values_to_keep).index.tolist()\n",
    "\n",
    "# # Ograniczenie ramki danych do wierszy zawierających te wartości\n",
    "# filtered_df = df_no_outliers[df_no_outliers['item'].isin(most_common_values)]\n",
    "\n",
    "# n_unique_values_to_keep_user = int(len(user_interaction_counts) * 0.2)\n",
    "\n",
    "# # Wybieranie 20% najczęściej występujących unikalnych wartości 'item'\n",
    "# most_common_values = user_interaction_counts.head(n_unique_values_to_keep_user).index.tolist()\n",
    "\n",
    "# # Ograniczenie ramki danych do wierszy zawierających te wartości\n",
    "# filtered_df = filtered_df[filtered_df['user'].isin(most_common_values)]"
   ]
  },
  {
   "cell_type": "code",
   "execution_count": 282,
   "id": "4c755541-e8e6-4e33-9d50-fa3d518a6e5a",
   "metadata": {},
   "outputs": [],
   "source": [
    "# count_users = filtered_df['user'].nunique()\n",
    "# print(count_users)\n",
    "# count_items = filtered_df['item'].nunique()\n",
    "# print(count_items)\n",
    "# print(count_items/count_users * 100)\n",
    "# count_items_before/count_users_before * 100"
   ]
  },
  {
   "cell_type": "code",
   "execution_count": 283,
   "id": "9357948d-8576-46fc-b80d-a59ed0014fbe",
   "metadata": {},
   "outputs": [],
   "source": [
    "# grouped = filtered_df.groupby(['user', 'item'])['label'].nunique()\n",
    "\n",
    "# # Znajdowanie indeksów wierszy, które spełniają warunek (tylko jedna unikalna wartość 'event')\n",
    "# rows_to_drop = grouped[grouped == 1].index\n",
    "\n",
    "# # Usuwanie wierszy, które spełniają warunek\n",
    "# filtered_df = filtered_df[~filtered_df.set_index(['user', 'item']).index.isin(rows_to_drop)]"
   ]
  },
  {
   "cell_type": "markdown",
   "id": "f16eb55c-d897-4b1b-9c05-7be67838b25e",
   "metadata": {},
   "source": [
    "## Podział przefiltrowanej ramki danych na zbiór treningowy i testowy"
   ]
  },
  {
   "cell_type": "code",
   "execution_count": 284,
   "id": "b63d2e1a-faee-4574-8939-422128042211",
   "metadata": {},
   "outputs": [],
   "source": [
    "# distinct_users = filtered_df['user'].unique()\n",
    "\n",
    "# num_users_group1 = int(0.7 * distinct_users.shape[0])  # 7%\n",
    "# num_users_group2 = int(0.3 * distinct_users.shape[0])  # 3%\n",
    "\n",
    "# group1_users = random.sample(list(distinct_users), num_users_group1)\n",
    "# remaining_users = list(set(distinct_users) - set(group1_users))\n",
    "# group2_users = random.sample(remaining_users, num_users_group2)\n",
    "# #group3_users = list(set(remaining_users) - set(group2_users))\n",
    "\n",
    "# group1_df = filtered_df[filtered_df['user'].isin(group1_users)]\n",
    "# group2_df = filtered_df[filtered_df['user'].isin(group2_users)]\n",
    "# #group3_df = filtered_df[filtered_df['user'].isin(group3_users)]"
   ]
  },
  {
   "cell_type": "code",
   "execution_count": 285,
   "id": "ce092cf1-9ff4-4db7-bc7b-b0a5295365b3",
   "metadata": {},
   "outputs": [],
   "source": [
    "# # Obliczenie liczby interakcji dla każdego przedmiotu\n",
    "# item_interaction_counts = group1_df['item'].value_counts()\n",
    "\n",
    "# # Obliczenie kwantyla dla top 20% przedmiotów\n",
    "# top_20_threshold = item_interaction_counts.quantile(0.8)\n",
    "\n",
    "# # Wybór przedmiotów, które są w top 20% o największej liczbie interakcji\n",
    "# top_20_items = item_interaction_counts[item_interaction_counts >= top_20_threshold].index\n",
    "\n",
    "# # Przefiltrowanie oryginalnej ramki danych, aby pozostawić tylko wybranych użytkowników\n",
    "# group1_df = group1_df[group1_df['item'].isin(top_20_items)]"
   ]
  },
  {
   "cell_type": "code",
   "execution_count": 286,
   "id": "cab053a1-8e98-4bd6-9d00-054d3d1a2c34",
   "metadata": {},
   "outputs": [],
   "source": [
    "# unique_users_count = group1_df['user'].nunique()\n",
    "# unique_items_count = group1_df['item'].nunique()\n",
    "\n",
    "# Wybór x% unikatowych użytkowników\n",
    "#sampled_users = filtered_df.drop_duplicates('user').sample(frac=sample_percent, random_state=2024)\n",
    "\n",
    "# # Wybór x% unikatowych przedmiotów\n",
    "# sampled_items = group1_df.drop_duplicates('item').sample(frac=0.2, random_state=2024)\n",
    "\n",
    "# Przefiltrowanie przefiltrowanej ramki danych, aby pozostawić tylko wybrane użytkowniki\n",
    "#filtered_df_users = filtered_df[filtered_df['user'].isin(sampled_users['user'])]\n",
    "\n",
    "# # Przefiltrowanie wynikowej ramki danych, aby pozostawić tylko wybrane przedmioty\n",
    "# group1_df = group1_df[group1_df['item'].isin(sampled_items['item'])]\n",
    "\n",
    "# user_interaction_counts = group1_df.groupby('user')['label'].count()\n",
    "# item_interaction_counts = group1_df.groupby('item')['label'].count()\n",
    "\n",
    "# # Obliczenie liczby unikalnych wartości, które chcemy zachować\n",
    "# n_unique_values_to_keep = int(len(item_interaction_counts) * 0.2)\n",
    "\n",
    "# # Wybieranie 20% najczęściej występujących unikalnych wartości 'item'\n",
    "# most_common_values = item_interaction_counts.head(n_unique_values_to_keep).index.tolist()\n",
    "\n",
    "# # Ograniczenie ramki danych do wierszy zawierających te wartości\n",
    "# filtered_g1 = group1_df[group1_df['item'].isin(most_common_values)]\n",
    "\n",
    "# n_unique_values_to_keep_user = int(len(user_interaction_counts) * 0.8)\n",
    "\n",
    "# # Wybieranie 20% najczęściej występujących unikalnych wartości 'item'\n",
    "# most_common_values = user_interaction_counts.head(n_unique_values_to_keep_user).index.tolist()\n",
    "\n",
    "# # Ograniczenie ramki danych do wierszy zawierających te wartości\n",
    "# filtered_g1 = filtered_g1[filtered_g1['user'].isin(most_common_values)]"
   ]
  },
  {
   "cell_type": "code",
   "execution_count": 287,
   "id": "080945db-eba0-4277-8b37-baa0ef3ee9d2",
   "metadata": {},
   "outputs": [],
   "source": [
    "# count_users = group1_df['user'].nunique()\n",
    "# print(count_users)\n",
    "# count_items = group1_df['item'].nunique()\n",
    "# print(count_items)\n",
    "# print(count_items/count_users * 100)\n",
    "# count_items_before/count_users_before * 100"
   ]
  },
  {
   "cell_type": "code",
   "execution_count": 288,
   "id": "f6c1b560-23d5-4109-9dbf-bb7382c33139",
   "metadata": {},
   "outputs": [],
   "source": [
    "# user_interaction_counts = group1_df['user'].value_counts()\n",
    "\n",
    "# # Sortowanie użytkowników według liczby interakcji od największej do najmniejszej\n",
    "# sorted_users = user_interaction_counts.sort_values(ascending=False)\n",
    "\n",
    "# # Wyświetlenie posortowanych użytkowników\n",
    "# print(sorted_users.head())"
   ]
  },
  {
   "cell_type": "code",
   "execution_count": 289,
   "id": "7c5c808d-a056-41eb-a6a0-688c3ddea14b",
   "metadata": {},
   "outputs": [],
   "source": [
    "# def split_data_by_user_quantile(df, quant):\n",
    "# #     # Group the data by user\n",
    "#      grouped = df.groupby('user')\n",
    "\n",
    "# #     # Initialize empty lists to store data below and above quantile threshold for each user\n",
    "#      below_quantile_list = []\n",
    "#      above_quantile_list = []\n",
    "\n",
    "# #     # Iterate over each user group\n",
    "#      for user, group_data in grouped:\n",
    "#          # Calculate the 70th quantile of the timestamp column for the current user\n",
    "#          quantile_user = group_data['time'].quantile(quant)\n",
    "\n",
    "# #         # Split the data for the current user into two sets based on the quantile threshold\n",
    "#          below_quantile = group_data[group_data['time'] <= quantile_user]\n",
    "#          above_quantile = group_data[group_data['time'] > quantile_user]\n",
    "\n",
    "# #         # Append the sets to the respective lists\n",
    "#          below_quantile_list.append(below_quantile)\n",
    "#          above_quantile_list.append(above_quantile)\n",
    "\n",
    "# #     # Concatenate the sets for all users into DataFrames\n",
    "#      below_quantile_df = pd.concat(below_quantile_list)\n",
    "#      above_quantile_df = pd.concat(above_quantile_list)\n",
    "\n",
    "#      return below_quantile_df, above_quantile_df\n",
    "\n",
    "# # # Split data for each group based on user-specific quantile threshold\n",
    "# group1_below_user_quantile, group1_above_user_quantile = split_data_by_user_quantile(filtered_g1, 0.7)\n",
    "# # group2_below_user_quantile, group2_above_user_quantile = split_data_by_user_quantile(group2_df, 0.7)\n",
    "\n",
    "# # # Display the shapes of the resulting sets\n",
    "# print(\"Group 1 - Below or equal  70th user-specific quantile:\", group1_below_user_quantile.shape)\n",
    "# print(\"Group 1 - Above to 70th user-specific quantile:\", group1_above_user_quantile.shape)\n",
    "# #print(\"Group 2 - Below or equal 70th user-specific quantile:\", group2_below_user_quantile.shape)\n",
    "# #print(\"Group 2 - Above to 70th user-specific quantile:\", group2_above_user_quantile.shape)"
   ]
  },
  {
   "cell_type": "code",
   "execution_count": 290,
   "id": "e377dac9-4990-4f02-a481-42d8a0a6713e",
   "metadata": {},
   "outputs": [],
   "source": [
    "# print(group1_below_user_quantile['item'].nunique())\n",
    "# group1_above_user_quantile['item'].nunique()"
   ]
  },
  {
   "cell_type": "code",
   "execution_count": 291,
   "id": "36b4d7c0-cee0-486a-9689-64686a6e171e",
   "metadata": {},
   "outputs": [],
   "source": [
    "# unique_items_b = set(group1_below_user_quantile['item'].unique())\n",
    "# unique_items_a = set(group1_above_user_quantile['item'].unique())\n",
    "\n",
    "# unique_items_only_in_a = unique_items_a.difference(unique_items_b)\n",
    "# unique_items_only_in_b = unique_items_b.difference(unique_items_a)\n",
    "\n",
    "# print(len(unique_items_only_in_a))\n",
    "# print(len(unique_items_only_in_b))"
   ]
  },
  {
   "cell_type": "markdown",
   "id": "ba43667b-bb92-4c2a-b3a2-08e67c5ac997",
   "metadata": {},
   "source": [
    "Implementujemy kod z biblioteki LibRecommender dzielący dane na zbiór treningowy i ewaluacyjny."
   ]
  },
  {
   "cell_type": "code",
   "execution_count": 292,
   "id": "63784e71-5702-44de-8663-39ecfffce5bc",
   "metadata": {},
   "outputs": [
    {
     "name": "stdout",
     "output_type": "stream",
     "text": [
      "n_users: 25060, n_items: 659, data density: 3.1284 %\n"
     ]
    }
   ],
   "source": [
    "# train_data = group1_below_user_quantile\n",
    "# eval_data = group1_above_user_quantile\n",
    "train_data, eval_data = split_by_ratio_chrono(filtered_df,test_size=0.5)\n",
    "# train_data, eval_data = split_by_ratio_chrono(group1_df,test_size=0.2)\n",
    "train_data, data_info = DatasetPure.build_trainset(train_data)\n",
    "eval_data = DatasetPure.build_evalset(eval_data)\n",
    "#test_data = DatasetPure.build_testset(test_data)\n",
    "print(data_info)"
   ]
  },
  {
   "cell_type": "code",
   "execution_count": 293,
   "id": "03fb946f-6c09-41b9-94d5-a60fe3b7b097",
   "metadata": {},
   "outputs": [],
   "source": [
    "lightgcn = LightGCN(\n",
    "    task=\"ranking\",\n",
    "    data_info=data_info,\n",
    "    loss_type=\"bpr\",\n",
    "    embed_size=64,\n",
    "    n_epochs=5,\n",
    "    lr=1e-2,\n",
    "    batch_size=2048,\n",
    "    num_neg=1,\n",
    "    device=\"cuda\"\n",
    ")"
   ]
  },
  {
   "cell_type": "code",
   "execution_count": 294,
   "id": "1a25f3cc-c79e-46e1-9cd0-8fd617adeedc",
   "metadata": {},
   "outputs": [
    {
     "name": "stdout",
     "output_type": "stream",
     "text": [
      "Training start time: \u001b[35m2024-03-06 12:30:17\u001b[0m\n"
     ]
    },
    {
     "name": "stderr",
     "output_type": "stream",
     "text": [
      "train: 100%|█████████████████████████████████████████████████████████████████████████| 253/253 [01:08<00:00,  3.69it/s]\n"
     ]
    },
    {
     "name": "stdout",
     "output_type": "stream",
     "text": [
      "Epoch 1 elapsed: 68.487s\n",
      "\t \u001b[32mtrain_loss: 0.1882\u001b[0m\n"
     ]
    },
    {
     "name": "stderr",
     "output_type": "stream",
     "text": [
      "eval_pointwise: 100%|███████████████████████████████████████████████████████████████| 127/127 [00:00<00:00, 379.31it/s]\n",
      "C:\\Users\\marci\\anaconda3\\Lib\\site-packages\\sklearn\\metrics\\_classification.py:2910: FutureWarning: Setting the eps parameter is deprecated and will be removed in 1.5. Instead eps will always havea default value of `np.finfo(y_pred.dtype).eps`.\n",
      "  warnings.warn(\n",
      "eval_listwise: 100%|█████████████████████████████████████████████████████████████| 2077/2077 [00:01<00:00, 1519.87it/s]\n"
     ]
    },
    {
     "name": "stdout",
     "output_type": "stream",
     "text": [
      "\t eval log_loss: 0.5561\n",
      "\t eval precision@10: 0.1597\n",
      "\t eval recall@10: 0.1572\n",
      "\t eval ndcg@10: 0.4568\n",
      "\t eval map@10: 0.3408\n",
      "==============================\n"
     ]
    },
    {
     "name": "stderr",
     "output_type": "stream",
     "text": [
      "train: 100%|█████████████████████████████████████████████████████████████████████████| 253/253 [01:08<00:00,  3.70it/s]\n"
     ]
    },
    {
     "name": "stdout",
     "output_type": "stream",
     "text": [
      "Epoch 2 elapsed: 68.349s\n",
      "\t \u001b[32mtrain_loss: 0.1073\u001b[0m\n"
     ]
    },
    {
     "name": "stderr",
     "output_type": "stream",
     "text": [
      "eval_pointwise: 100%|███████████████████████████████████████████████████████████████| 127/127 [00:00<00:00, 373.52it/s]\n",
      "C:\\Users\\marci\\anaconda3\\Lib\\site-packages\\sklearn\\metrics\\_classification.py:2910: FutureWarning: Setting the eps parameter is deprecated and will be removed in 1.5. Instead eps will always havea default value of `np.finfo(y_pred.dtype).eps`.\n",
      "  warnings.warn(\n",
      "eval_listwise: 100%|█████████████████████████████████████████████████████████████| 2077/2077 [00:01<00:00, 1639.40it/s]\n"
     ]
    },
    {
     "name": "stdout",
     "output_type": "stream",
     "text": [
      "\t eval log_loss: 0.6056\n",
      "\t eval precision@10: 0.1715\n",
      "\t eval recall@10: 0.1703\n",
      "\t eval ndcg@10: 0.4803\n",
      "\t eval map@10: 0.3610\n",
      "==============================\n"
     ]
    },
    {
     "name": "stderr",
     "output_type": "stream",
     "text": [
      "train: 100%|█████████████████████████████████████████████████████████████████████████| 253/253 [01:06<00:00,  3.79it/s]\n"
     ]
    },
    {
     "name": "stdout",
     "output_type": "stream",
     "text": [
      "Epoch 3 elapsed: 66.809s\n",
      "\t \u001b[32mtrain_loss: 0.0892\u001b[0m\n"
     ]
    },
    {
     "name": "stderr",
     "output_type": "stream",
     "text": [
      "eval_pointwise: 100%|███████████████████████████████████████████████████████████████| 127/127 [00:00<00:00, 375.37it/s]\n",
      "C:\\Users\\marci\\anaconda3\\Lib\\site-packages\\sklearn\\metrics\\_classification.py:2910: FutureWarning: Setting the eps parameter is deprecated and will be removed in 1.5. Instead eps will always havea default value of `np.finfo(y_pred.dtype).eps`.\n",
      "  warnings.warn(\n",
      "eval_listwise: 100%|█████████████████████████████████████████████████████████████| 2077/2077 [00:01<00:00, 1646.83it/s]\n"
     ]
    },
    {
     "name": "stdout",
     "output_type": "stream",
     "text": [
      "\t eval log_loss: 0.6419\n",
      "\t eval precision@10: 0.1777\n",
      "\t eval recall@10: 0.1768\n",
      "\t eval ndcg@10: 0.4921\n",
      "\t eval map@10: 0.3712\n",
      "==============================\n"
     ]
    },
    {
     "name": "stderr",
     "output_type": "stream",
     "text": [
      "train: 100%|█████████████████████████████████████████████████████████████████████████| 253/253 [01:06<00:00,  3.83it/s]\n"
     ]
    },
    {
     "name": "stdout",
     "output_type": "stream",
     "text": [
      "Epoch 4 elapsed: 66.049s\n",
      "\t \u001b[32mtrain_loss: 0.0787\u001b[0m\n"
     ]
    },
    {
     "name": "stderr",
     "output_type": "stream",
     "text": [
      "eval_pointwise: 100%|███████████████████████████████████████████████████████████████| 127/127 [00:00<00:00, 368.09it/s]\n",
      "C:\\Users\\marci\\anaconda3\\Lib\\site-packages\\sklearn\\metrics\\_classification.py:2910: FutureWarning: Setting the eps parameter is deprecated and will be removed in 1.5. Instead eps will always havea default value of `np.finfo(y_pred.dtype).eps`.\n",
      "  warnings.warn(\n",
      "eval_listwise: 100%|█████████████████████████████████████████████████████████████| 2077/2077 [00:01<00:00, 1569.85it/s]\n"
     ]
    },
    {
     "name": "stdout",
     "output_type": "stream",
     "text": [
      "\t eval log_loss: 0.6743\n",
      "\t eval precision@10: 0.1796\n",
      "\t eval recall@10: 0.1791\n",
      "\t eval ndcg@10: 0.4958\n",
      "\t eval map@10: 0.3743\n",
      "==============================\n"
     ]
    },
    {
     "name": "stderr",
     "output_type": "stream",
     "text": [
      "train: 100%|█████████████████████████████████████████████████████████████████████████| 253/253 [01:07<00:00,  3.77it/s]\n"
     ]
    },
    {
     "name": "stdout",
     "output_type": "stream",
     "text": [
      "Epoch 5 elapsed: 67.085s\n",
      "\t \u001b[32mtrain_loss: 0.071\u001b[0m\n"
     ]
    },
    {
     "name": "stderr",
     "output_type": "stream",
     "text": [
      "eval_pointwise: 100%|███████████████████████████████████████████████████████████████| 127/127 [00:00<00:00, 359.98it/s]\n",
      "C:\\Users\\marci\\anaconda3\\Lib\\site-packages\\sklearn\\metrics\\_classification.py:2910: FutureWarning: Setting the eps parameter is deprecated and will be removed in 1.5. Instead eps will always havea default value of `np.finfo(y_pred.dtype).eps`.\n",
      "  warnings.warn(\n",
      "eval_listwise: 100%|█████████████████████████████████████████████████████████████| 2077/2077 [00:01<00:00, 1560.58it/s]\n"
     ]
    },
    {
     "name": "stdout",
     "output_type": "stream",
     "text": [
      "\t eval log_loss: 0.7066\n",
      "\t eval precision@10: 0.1818\n",
      "\t eval recall@10: 0.1812\n",
      "\t eval ndcg@10: 0.5017\n",
      "\t eval map@10: 0.3794\n",
      "==============================\n",
      "CPU times: total: 19min 26s\n",
      "Wall time: 5min 56s\n"
     ]
    }
   ],
   "source": [
    "%%time\n",
    "# można też spróbować %%timeit jeśli kod się będzie w miarę krótko wykonywał (liczy średnii czas wykonywania komórki) \n",
    "lightgcn.fit(\n",
    "    train_data,\n",
    "    neg_sampling=True,\n",
    "    verbose=2,\n",
    "    eval_data=eval_data,\n",
    "    metrics=[\"loss\", \"precision\", \"recall\", \"ndcg\", \"map\"]\n",
    ")"
   ]
  },
  {
   "cell_type": "code",
   "execution_count": 295,
   "id": "884bd8fb-e999-4ff9-a5b6-3d802a7d01a9",
   "metadata": {},
   "outputs": [
    {
     "name": "stdout",
     "output_type": "stream",
     "text": [
      "Training start time: \u001b[35m2024-03-06 12:36:14\u001b[0m\n"
     ]
    },
    {
     "name": "stderr",
     "output_type": "stream",
     "text": [
      "train: 100%|█████████████████████████████████████████████████████████████████████████| 253/253 [01:08<00:00,  3.70it/s]\n"
     ]
    },
    {
     "name": "stdout",
     "output_type": "stream",
     "text": [
      "Epoch 1 elapsed: 68.472s\n",
      "\t \u001b[32mtrain_loss: 0.0589\u001b[0m\n"
     ]
    },
    {
     "name": "stderr",
     "output_type": "stream",
     "text": [
      "eval_pointwise: 100%|███████████████████████████████████████████████████████████████| 127/127 [00:00<00:00, 378.58it/s]\n",
      "C:\\Users\\marci\\anaconda3\\Lib\\site-packages\\sklearn\\metrics\\_classification.py:2910: FutureWarning: Setting the eps parameter is deprecated and will be removed in 1.5. Instead eps will always havea default value of `np.finfo(y_pred.dtype).eps`.\n",
      "  warnings.warn(\n",
      "eval_listwise: 100%|█████████████████████████████████████████████████████████████| 2077/2077 [00:01<00:00, 1544.98it/s]\n"
     ]
    },
    {
     "name": "stdout",
     "output_type": "stream",
     "text": [
      "\t eval log_loss: 0.7261\n",
      "\t eval precision@10: 0.1814\n",
      "\t eval recall@10: 0.1811\n",
      "\t eval ndcg@10: 0.5023\n",
      "\t eval map@10: 0.3804\n",
      "==============================\n"
     ]
    },
    {
     "name": "stderr",
     "output_type": "stream",
     "text": [
      "train: 100%|█████████████████████████████████████████████████████████████████████████| 253/253 [01:05<00:00,  3.86it/s]\n"
     ]
    },
    {
     "name": "stdout",
     "output_type": "stream",
     "text": [
      "Epoch 2 elapsed: 65.590s\n",
      "\t \u001b[32mtrain_loss: 0.0506\u001b[0m\n"
     ]
    },
    {
     "name": "stderr",
     "output_type": "stream",
     "text": [
      "eval_pointwise: 100%|███████████████████████████████████████████████████████████████| 127/127 [00:00<00:00, 374.24it/s]\n",
      "C:\\Users\\marci\\anaconda3\\Lib\\site-packages\\sklearn\\metrics\\_classification.py:2910: FutureWarning: Setting the eps parameter is deprecated and will be removed in 1.5. Instead eps will always havea default value of `np.finfo(y_pred.dtype).eps`.\n",
      "  warnings.warn(\n",
      "eval_listwise: 100%|█████████████████████████████████████████████████████████████| 2077/2077 [00:01<00:00, 1693.22it/s]\n"
     ]
    },
    {
     "name": "stdout",
     "output_type": "stream",
     "text": [
      "\t eval log_loss: 0.7427\n",
      "\t eval precision@10: 0.1802\n",
      "\t eval recall@10: 0.1802\n",
      "\t eval ndcg@10: 0.5010\n",
      "\t eval map@10: 0.3792\n",
      "==============================\n"
     ]
    },
    {
     "name": "stderr",
     "output_type": "stream",
     "text": [
      "train: 100%|█████████████████████████████████████████████████████████████████████████| 253/253 [01:05<00:00,  3.89it/s]\n"
     ]
    },
    {
     "name": "stdout",
     "output_type": "stream",
     "text": [
      "Epoch 3 elapsed: 65.111s\n",
      "\t \u001b[32mtrain_loss: 0.0449\u001b[0m\n"
     ]
    },
    {
     "name": "stderr",
     "output_type": "stream",
     "text": [
      "eval_pointwise: 100%|███████████████████████████████████████████████████████████████| 127/127 [00:00<00:00, 363.77it/s]\n",
      "C:\\Users\\marci\\anaconda3\\Lib\\site-packages\\sklearn\\metrics\\_classification.py:2910: FutureWarning: Setting the eps parameter is deprecated and will be removed in 1.5. Instead eps will always havea default value of `np.finfo(y_pred.dtype).eps`.\n",
      "  warnings.warn(\n",
      "eval_listwise: 100%|█████████████████████████████████████████████████████████████| 2077/2077 [00:01<00:00, 1665.94it/s]\n"
     ]
    },
    {
     "name": "stdout",
     "output_type": "stream",
     "text": [
      "\t eval log_loss: 0.7649\n",
      "\t eval precision@10: 0.1795\n",
      "\t eval recall@10: 0.1793\n",
      "\t eval ndcg@10: 0.5003\n",
      "\t eval map@10: 0.3790\n",
      "==============================\n"
     ]
    },
    {
     "name": "stderr",
     "output_type": "stream",
     "text": [
      "train: 100%|█████████████████████████████████████████████████████████████████████████| 253/253 [01:05<00:00,  3.87it/s]\n"
     ]
    },
    {
     "name": "stdout",
     "output_type": "stream",
     "text": [
      "Epoch 4 elapsed: 65.320s\n",
      "\t \u001b[32mtrain_loss: 0.041\u001b[0m\n"
     ]
    },
    {
     "name": "stderr",
     "output_type": "stream",
     "text": [
      "eval_pointwise: 100%|███████████████████████████████████████████████████████████████| 127/127 [00:00<00:00, 376.79it/s]\n",
      "C:\\Users\\marci\\anaconda3\\Lib\\site-packages\\sklearn\\metrics\\_classification.py:2910: FutureWarning: Setting the eps parameter is deprecated and will be removed in 1.5. Instead eps will always havea default value of `np.finfo(y_pred.dtype).eps`.\n",
      "  warnings.warn(\n",
      "eval_listwise: 100%|█████████████████████████████████████████████████████████████| 2077/2077 [00:01<00:00, 1659.66it/s]\n"
     ]
    },
    {
     "name": "stdout",
     "output_type": "stream",
     "text": [
      "\t eval log_loss: 0.7870\n",
      "\t eval precision@10: 0.1775\n",
      "\t eval recall@10: 0.1774\n",
      "\t eval ndcg@10: 0.4980\n",
      "\t eval map@10: 0.3769\n",
      "==============================\n"
     ]
    },
    {
     "name": "stderr",
     "output_type": "stream",
     "text": [
      "train: 100%|█████████████████████████████████████████████████████████████████████████| 253/253 [01:04<00:00,  3.90it/s]\n"
     ]
    },
    {
     "name": "stdout",
     "output_type": "stream",
     "text": [
      "Epoch 5 elapsed: 64.812s\n",
      "\t \u001b[32mtrain_loss: 0.0372\u001b[0m\n"
     ]
    },
    {
     "name": "stderr",
     "output_type": "stream",
     "text": [
      "eval_pointwise: 100%|███████████████████████████████████████████████████████████████| 127/127 [00:00<00:00, 380.70it/s]\n",
      "C:\\Users\\marci\\anaconda3\\Lib\\site-packages\\sklearn\\metrics\\_classification.py:2910: FutureWarning: Setting the eps parameter is deprecated and will be removed in 1.5. Instead eps will always havea default value of `np.finfo(y_pred.dtype).eps`.\n",
      "  warnings.warn(\n",
      "eval_listwise: 100%|█████████████████████████████████████████████████████████████| 2077/2077 [00:01<00:00, 1624.34it/s]\n"
     ]
    },
    {
     "name": "stdout",
     "output_type": "stream",
     "text": [
      "\t eval log_loss: 0.8097\n",
      "\t eval precision@10: 0.1767\n",
      "\t eval recall@10: 0.1768\n",
      "\t eval ndcg@10: 0.4984\n",
      "\t eval map@10: 0.3779\n",
      "==============================\n",
      "CPU times: total: 19min 40s\n",
      "Wall time: 5min 46s\n"
     ]
    }
   ],
   "source": [
    "%%time\n",
    "lightgcn.fit(\n",
    "    train_data,\n",
    "    neg_sampling=True,\n",
    "    verbose=2,\n",
    "    eval_data=eval_data,\n",
    "    metrics=[\"loss\", \"precision\", \"recall\", \"ndcg\", \"map\"]\n",
    ")"
   ]
  },
  {
   "cell_type": "code",
   "execution_count": 299,
   "id": "886464e9-e94f-458e-8c72-c093a51889d1",
   "metadata": {},
   "outputs": [
    {
     "name": "stderr",
     "output_type": "stream",
     "text": [
      "eval_pointwise: 100%|███████████████████████████████████████████████████████████████| 127/127 [00:00<00:00, 365.20it/s]\n",
      "C:\\Users\\marci\\anaconda3\\Lib\\site-packages\\sklearn\\metrics\\_classification.py:2910: FutureWarning: Setting the eps parameter is deprecated and will be removed in 1.5. Instead eps will always havea default value of `np.finfo(y_pred.dtype).eps`.\n",
      "  warnings.warn(\n",
      "eval_listwise: 100%|█████████████████████████████████████████████████████████████| 2077/2077 [00:01<00:00, 1635.26it/s]\n"
     ]
    },
    {
     "data": {
      "text/plain": [
       "{'loss': 0.9084488632047548,\n",
       " 'precision': 0.1710937186433875,\n",
       " 'recall': 0.1718696947937149,\n",
       " 'ndcg': 0.4906803537645628,\n",
       " 'map': 0.3713657159308174}"
      ]
     },
     "execution_count": 299,
     "metadata": {},
     "output_type": "execute_result"
    }
   ],
   "source": [
    "evaluate(\n",
    "    model=lightgcn,\n",
    "    data=eval_data,\n",
    "    neg_sampling=True,\n",
    "    metrics=[\"loss\", \"precision\", \"recall\", \"ndcg\", \"map\"]\n",
    ")"
   ]
  },
  {
   "cell_type": "code",
   "execution_count": 300,
   "id": "eaca7185-673a-4e8f-b6c3-9cf8d9118da9",
   "metadata": {},
   "outputs": [
    {
     "name": "stderr",
     "output_type": "stream",
     "text": [
      "eval_pointwise: 100%|███████████████████████████████████████████████████████████████| 127/127 [00:00<00:00, 392.71it/s]\n",
      "C:\\Users\\marci\\anaconda3\\Lib\\site-packages\\sklearn\\metrics\\_classification.py:2910: FutureWarning: Setting the eps parameter is deprecated and will be removed in 1.5. Instead eps will always havea default value of `np.finfo(y_pred.dtype).eps`.\n",
      "  warnings.warn(\n",
      "eval_listwise: 100%|█████████████████████████████████████████████████████████████| 2077/2077 [00:01<00:00, 1581.31it/s]\n"
     ]
    },
    {
     "data": {
      "text/plain": [
       "{'loss': 0.9084488632047548,\n",
       " 'precision': 0.2061489062813566,\n",
       " 'recall': 0.10925610344535248,\n",
       " 'ndcg': 0.4509464638852109,\n",
       " 'map': 0.3805502632900866}"
      ]
     },
     "execution_count": 300,
     "metadata": {},
     "output_type": "execute_result"
    }
   ],
   "source": [
    "evaluate(\n",
    "    model=lightgcn,\n",
    "    data=eval_data,\n",
    "    neg_sampling=True,\n",
    "    metrics=[\"loss\", \"precision\", \"recall\", \"ndcg\", \"map\"],\n",
    "    k=5\n",
    ")"
   ]
  },
  {
   "cell_type": "code",
   "execution_count": 302,
   "id": "8d8d1abf-72ca-43c2-99b3-3a32acb07619",
   "metadata": {},
   "outputs": [
    {
     "name": "stderr",
     "output_type": "stream",
     "text": [
      "eval_pointwise: 100%|███████████████████████████████████████████████████████████████| 127/127 [00:00<00:00, 398.68it/s]\n",
      "C:\\Users\\marci\\anaconda3\\Lib\\site-packages\\sklearn\\metrics\\_classification.py:2910: FutureWarning: Setting the eps parameter is deprecated and will be removed in 1.5. Instead eps will always havea default value of `np.finfo(y_pred.dtype).eps`.\n",
      "  warnings.warn(\n",
      "eval_listwise: 100%|█████████████████████████████████████████████████████████████| 2077/2077 [00:01<00:00, 1662.81it/s]\n"
     ]
    },
    {
     "data": {
      "text/plain": [
       "{'loss': 0.9084488632047548,\n",
       " 'precision': 0.24224362833634358,\n",
       " 'recall': 0.054460815801833706,\n",
       " 'ndcg': 0.35600566991184746,\n",
       " 'map': 0.33672486453943407}"
      ]
     },
     "execution_count": 302,
     "metadata": {},
     "output_type": "execute_result"
    }
   ],
   "source": [
    "evaluate(\n",
    "    model=lightgcn,\n",
    "    data=eval_data,\n",
    "    neg_sampling=True,\n",
    "    metrics=[\"loss\", \"precision\", \"recall\", \"ndcg\", \"map\"],\n",
    "    k=2\n",
    ")"
   ]
  },
  {
   "cell_type": "code",
   "execution_count": 301,
   "id": "035aeaa0-5d25-431c-9dd3-615ae0c8089a",
   "metadata": {},
   "outputs": [
    {
     "name": "stderr",
     "output_type": "stream",
     "text": [
      "eval_pointwise: 100%|███████████████████████████████████████████████████████████████| 127/127 [00:00<00:00, 388.15it/s]\n",
      "C:\\Users\\marci\\anaconda3\\Lib\\site-packages\\sklearn\\metrics\\_classification.py:2910: FutureWarning: Setting the eps parameter is deprecated and will be removed in 1.5. Instead eps will always havea default value of `np.finfo(y_pred.dtype).eps`.\n",
      "  warnings.warn(\n",
      "eval_listwise: 100%|█████████████████████████████████████████████████████████████| 2077/2077 [00:01<00:00, 1789.20it/s]\n"
     ]
    },
    {
     "data": {
      "text/plain": [
       "{'loss': 0.9084488632047548,\n",
       " 'precision': 0.2630945213726671,\n",
       " 'recall': 0.03018544044546011,\n",
       " 'ndcg': 0.2630945213726671,\n",
       " 'map': 0.2630945213726671}"
      ]
     },
     "execution_count": 301,
     "metadata": {},
     "output_type": "execute_result"
    }
   ],
   "source": [
    "evaluate(\n",
    "    model=lightgcn,\n",
    "    data=eval_data,\n",
    "    neg_sampling=True,\n",
    "    metrics=[\"loss\", \"precision\", \"recall\", \"ndcg\", \"map\"],\n",
    "    k=1\n",
    ")"
   ]
  },
  {
   "cell_type": "markdown",
   "id": "da996bb6-7934-4b1a-9bc7-b638add7a34d",
   "metadata": {},
   "source": [
    "Wszystko poniżej tego kawałka kodu to zabawy w zmianę funkcji straty, zmiana parametrów itd itp."
   ]
  },
  {
   "cell_type": "code",
   "execution_count": 567,
   "id": "ae356a3d-fa35-4c48-893b-e492497f9a41",
   "metadata": {},
   "outputs": [
    {
     "ename": "SyntaxError",
     "evalue": "invalid syntax (233987486.py, line 1)",
     "output_type": "error",
     "traceback": [
      "\u001b[1;36m  Cell \u001b[1;32mIn[567], line 1\u001b[1;36m\u001b[0m\n\u001b[1;33m    HAMUJ SIĘ\u001b[0m\n\u001b[1;37m          ^\u001b[0m\n\u001b[1;31mSyntaxError\u001b[0m\u001b[1;31m:\u001b[0m invalid syntax\n"
     ]
    }
   ],
   "source": [
    "HAMUJ SIĘ"
   ]
  },
  {
   "cell_type": "code",
   "execution_count": null,
   "id": "481f477e-0ecf-49fd-8d34-5420c8f1e519",
   "metadata": {},
   "outputs": [],
   "source": [
    "# evaluate(\n",
    "#     model=lightgcn,\n",
    "#     data=group2_df,\n",
    "#     neg_sampling=True,\n",
    "#     metrics=[\"loss\", \"precision\", \"recall\", \"ndcg\", \"map\"],\n",
    "#     k=10\n",
    "# )"
   ]
  },
  {
   "cell_type": "code",
   "execution_count": null,
   "id": "14e11014-ccf0-4073-8130-4c1d9b88d4eb",
   "metadata": {},
   "outputs": [],
   "source": [
    "lightgcn = LightGCN(\n",
    "    task=\"ranking\",\n",
    "    data_info=data_info,\n",
    "    loss_type=\"cross_entropy\",\n",
    "    embed_size=32,\n",
    "    n_epochs=5,\n",
    "    lr=0.001,\n",
    "    batch_size=512,\n",
    "    num_neg=1,\n",
    "    device=\"cuda\"\n",
    ")\n",
    "\n",
    "lightgcn.fit(\n",
    "    train_data,\n",
    "    neg_sampling=True,\n",
    "    verbose=2,\n",
    "    eval_data=eval_data,\n",
    "    metrics=[\"loss\", \"precision\", \"recall\", \"ndcg\", \"map\"]\n",
    ")"
   ]
  },
  {
   "cell_type": "code",
   "execution_count": null,
   "id": "1d3b4d5f-0f55-4ef4-b7f5-b9b0ca05a30f",
   "metadata": {},
   "outputs": [],
   "source": [
    "lightgcn = LightGCN(\n",
    "    task=\"ranking\",\n",
    "    data_info=data_info,\n",
    "    loss_type=\"cross_entropy\",\n",
    "    embed_size=64,\n",
    "    n_epochs=5,\n",
    "    lr=1e-2,\n",
    "    batch_size=2048,\n",
    "    num_neg=1,\n",
    "    device=\"cuda\"\n",
    ")\n",
    "\n",
    "lightgcn.fit(\n",
    "    train_data,\n",
    "    neg_sampling=True,\n",
    "    verbose=2,\n",
    "    eval_data=eval_data,\n",
    "    metrics=[\"loss\", \"precision\", \"recall\", \"ndcg\", \"map\"]\n",
    ")"
   ]
  },
  {
   "cell_type": "code",
   "execution_count": null,
   "id": "31bbc4b2-3cee-472a-ac60-a6b35137727d",
   "metadata": {},
   "outputs": [],
   "source": [
    "lightgcn = LightGCN(\n",
    "    task=\"ranking\",\n",
    "    data_info=data_info,\n",
    "    loss_type=\"focal\",\n",
    "    embed_size=64,\n",
    "    n_epochs=5,\n",
    "    lr=1e-2,\n",
    "    batch_size=2048,\n",
    "    num_neg=1,\n",
    "    device=\"cuda\"\n",
    ")\n",
    "\n",
    "lightgcn.fit(\n",
    "    train_data,\n",
    "    neg_sampling=True,\n",
    "    verbose=2,\n",
    "    eval_data=eval_data,\n",
    "    metrics=[\"loss\", \"precision\", \"recall\", \"ndcg\", \"map\"]\n",
    ")"
   ]
  },
  {
   "cell_type": "code",
   "execution_count": null,
   "id": "c9dd4f47-e8cd-4446-aadf-3fcdf51aee02",
   "metadata": {},
   "outputs": [],
   "source": [
    "lightgcn = LightGCN(\n",
    "    task=\"ranking\",\n",
    "    data_info=data_info,\n",
    "    loss_type=\"max_margin\",\n",
    "    embed_size=64,\n",
    "    n_epochs=5,\n",
    "    lr=1e-2,\n",
    "    batch_size=2048,\n",
    "    num_neg=1,\n",
    "    device=\"cuda\"\n",
    ")\n",
    "\n",
    "lightgcn.fit(\n",
    "    train_data,\n",
    "    neg_sampling=True,\n",
    "    verbose=2,\n",
    "    eval_data=eval_data,\n",
    "    metrics=[\"loss\", \"precision\", \"recall\", \"ndcg\", \"map\"]\n",
    ")"
   ]
  }
 ],
 "metadata": {
  "kernelspec": {
   "display_name": "Python 3 (ipykernel)",
   "language": "python",
   "name": "python3"
  },
  "language_info": {
   "codemirror_mode": {
    "name": "ipython",
    "version": 3
   },
   "file_extension": ".py",
   "mimetype": "text/x-python",
   "name": "python",
   "nbconvert_exporter": "python",
   "pygments_lexer": "ipython3",
   "version": "3.11.5"
  }
 },
 "nbformat": 4,
 "nbformat_minor": 5
}
