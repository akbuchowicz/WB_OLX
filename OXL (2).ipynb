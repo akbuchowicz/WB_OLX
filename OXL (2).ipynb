{
 "cells": [
  {
   "cell_type": "markdown",
   "id": "2d1b2df2-62e6-4c95-beb9-d4be25d1de32",
   "metadata": {},
   "source": [
    "# Import bibliotek oraz wczytanie danych"
   ]
  },
  {
   "cell_type": "code",
   "execution_count": 1,
   "id": "deaa23ff-52fb-4ae6-a092-8e953458092f",
   "metadata": {},
   "outputs": [
    {
     "name": "stdout",
     "output_type": "stream",
     "text": [
      "WARNING:tensorflow:From C:\\Users\\marci\\anaconda3\\Lib\\site-packages\\keras\\src\\losses.py:2976: The name tf.losses.sparse_softmax_cross_entropy is deprecated. Please use tf.compat.v1.losses.sparse_softmax_cross_entropy instead.\n",
      "\n",
      "WARNING:tensorflow:From C:\\Users\\marci\\anaconda3\\Lib\\site-packages\\libreco\\tfops\\version.py:4: The name tf.disable_v2_behavior is deprecated. Please use tf.compat.v1.disable_v2_behavior instead.\n",
      "\n",
      "WARNING:tensorflow:From C:\\Users\\marci\\anaconda3\\Lib\\site-packages\\tensorflow\\python\\compat\\v2_compat.py:108: disable_resource_variables (from tensorflow.python.ops.variable_scope) is deprecated and will be removed in a future version.\n",
      "Instructions for updating:\n",
      "non-resource variables are not supported in the long term\n"
     ]
    }
   ],
   "source": [
    "import numpy as np\n",
    "import pandas as pd\n",
    "import matplotlib\n",
    "import matplotlib.pyplot as plt\n",
    "import seaborn as sns\n",
    "from datetime import datetime\n",
    "from sklearn.model_selection import train_test_split\n",
    "import random\n",
    "import scipy.sparse as sp\n",
    "from libreco.data import random_split, DatasetPure, split_by_ratio_chrono\n",
    "from libreco.algorithms import LightGCN\n",
    "from libreco.evaluation import evaluate"
   ]
  },
  {
   "cell_type": "code",
   "execution_count": 76,
   "id": "67fc10cc-2078-4eda-b150-ba0e03291162",
   "metadata": {},
   "outputs": [],
   "source": [
    "df = pd.read_csv(\"C:\\\\Users\\\\marci\\\\OneDrive\\\\Pulpit\\\\archive\\\\interactions.csv\",\n",
    "                 #\"C:\\\\Users\\\\fpazi\\\\Desktop\\\\projekty\\\\olx\\\\interactions.csv\",\n",
    "                 sep=',')"
   ]
  },
  {
   "cell_type": "markdown",
   "id": "a53b251b-372c-43f6-9223-e6eebf7bc745",
   "metadata": {},
   "source": [
    "## Basic statistics"
   ]
  },
  {
   "cell_type": "code",
   "execution_count": 239,
   "id": "2d69398d-287a-4ad7-b0b6-49e0d6bc6114",
   "metadata": {},
   "outputs": [
    {
     "data": {
      "text/plain": [
       "event\n",
       "click                    58817263\n",
       "contact_phone_click_1     1721338\n",
       "bookmark                  1644602\n",
       "chat_click                1399051\n",
       "contact_chat               948470\n",
       "contact_partner_click      459305\n",
       "contact_phone_click_2      444497\n",
       "contact_phone_click_3       67675\n",
       "Name: count, dtype: int64"
      ]
     },
     "execution_count": 239,
     "metadata": {},
     "output_type": "execute_result"
    }
   ],
   "source": [
    "df['event'].value_counts()"
   ]
  },
  {
   "cell_type": "code",
   "execution_count": 240,
   "id": "579ed43d-48f0-4047-b16a-f6e4c712d89e",
   "metadata": {},
   "outputs": [
    {
     "name": "stdout",
     "output_type": "stream",
     "text": [
      "<class 'pandas.core.frame.DataFrame'>\n",
      "RangeIndex: 65502201 entries, 0 to 65502200\n",
      "Data columns (total 4 columns):\n",
      " #   Column     Dtype \n",
      "---  ------     ----- \n",
      " 0   user       int64 \n",
      " 1   item       int64 \n",
      " 2   event      object\n",
      " 3   timestamp  int64 \n",
      "dtypes: int64(3), object(1)\n",
      "memory usage: 2.0+ GB\n"
     ]
    }
   ],
   "source": [
    "df.info()"
   ]
  },
  {
   "cell_type": "code",
   "execution_count": 241,
   "id": "53e74fc1-c6f8-463a-b82a-df59d701f5c6",
   "metadata": {},
   "outputs": [
    {
     "name": "stdout",
     "output_type": "stream",
     "text": [
      "Number of users:  3295942\n",
      "Number of items:  185395\n"
     ]
    }
   ],
   "source": [
    "n_users = df['user'].nunique()\n",
    "n_items = df['item'].nunique()\n",
    "\n",
    "print('Number of users: ', n_users)\n",
    "print('Number of items: ', n_items)"
   ]
  },
  {
   "cell_type": "code",
   "execution_count": 242,
   "id": "65f078bf-7768-43ef-83d3-b2d74625c254",
   "metadata": {},
   "outputs": [
    {
     "name": "stdout",
     "output_type": "stream",
     "text": [
      "Average number of events per user:  19.87  with a standard deviation of  47.762363188402105\n",
      "Average number of events per item:  353.31  with a standard deviation of  624.7732106025969\n"
     ]
    }
   ],
   "source": [
    "n_events_per_user = df.groupby('user').size()\n",
    "n_events_per_item = df.groupby('item').size()\n",
    "\n",
    "print('Average number of events per user: ', round(np.mean(n_events_per_user), 2), ' with a standard deviation of ', np.std(n_events_per_user))\n",
    "print('Average number of events per item: ', round(np.mean(n_events_per_item), 2), ' with a standard deviation of ', np.std(n_events_per_item))"
   ]
  },
  {
   "cell_type": "code",
   "execution_count": 243,
   "id": "8056ad6c-56b0-4ea9-9310-123e19fd1293",
   "metadata": {},
   "outputs": [
    {
     "name": "stdout",
     "output_type": "stream",
     "text": [
      "Median number of events per user:  6.0\n",
      "Median number of events per item:  137.0\n"
     ]
    }
   ],
   "source": [
    "print('Median number of events per user: ', round(np.median(n_events_per_user), 2))\n",
    "print('Median number of events per item: ', round(np.median(n_events_per_item), 2))"
   ]
  },
  {
   "cell_type": "markdown",
   "id": "bbdc488c-dbf4-44ab-a73a-627701c732d7",
   "metadata": {},
   "source": [
    "## Number of interactions per user"
   ]
  },
  {
   "cell_type": "code",
   "execution_count": 244,
   "id": "1cdeeb15-09cc-48d3-9c11-a5cfa8b785fd",
   "metadata": {},
   "outputs": [
    {
     "data": {
      "text/plain": [
       "count    3.295942e+06\n",
       "mean     1.987359e+01\n",
       "std      4.776237e+01\n",
       "min      1.000000e+00\n",
       "25%      2.000000e+00\n",
       "50%      6.000000e+00\n",
       "75%      1.800000e+01\n",
       "max      1.310000e+03\n",
       "dtype: float64"
      ]
     },
     "execution_count": 244,
     "metadata": {},
     "output_type": "execute_result"
    }
   ],
   "source": [
    "n_events_per_user.describe()"
   ]
  },
  {
   "cell_type": "code",
   "execution_count": 245,
   "id": "3b276307-028c-4dc7-8961-ea00d154759a",
   "metadata": {},
   "outputs": [
    {
     "data": {
      "text/plain": [
       "<Axes: ylabel='Proportion'>"
      ]
     },
     "execution_count": 245,
     "metadata": {},
     "output_type": "execute_result"
    },
    {
     "data": {
      "image/png": "[encoded data removed]",
      "text/plain": [
       "<Figure size 640x480 with 1 Axes>"
      ]
     },
     "metadata": {},
     "output_type": "display_data"
    }
   ],
   "source": [
    "sns.ecdfplot(n_events_per_user)"
   ]
  },
  {
   "cell_type": "code",
   "execution_count": 246,
   "id": "37e3d224-9ec5-4309-bebe-95f6d171a20b",
   "metadata": {},
   "outputs": [
    {
     "data": {
      "text/plain": [
       "<Axes: ylabel='Count'>"
      ]
     },
     "execution_count": 246,
     "metadata": {},
     "output_type": "execute_result"
    },
    {
     "data": {
      "image/png": "[encoded data removed]",
      "text/plain": [
       "<Figure size 640x480 with 1 Axes>"
      ]
     },
     "metadata": {},
     "output_type": "display_data"
    }
   ],
   "source": [
    "h1 = sns.histplot(n_events_per_user, bins=30)\n",
    "h1.set_yscale(\"log\")\n",
    "h1"
   ]
  },
  {
   "cell_type": "markdown",
   "id": "8bfdd881-fd0e-4334-8da1-cac6f55ecbe2",
   "metadata": {},
   "source": [
    "Skala logarytmiczna :D events vs users/items"
   ]
  },
  {
   "cell_type": "code",
   "execution_count": 247,
   "id": "f5351918-3a4e-431a-9a51-bbd50bbca980",
   "metadata": {},
   "outputs": [
    {
     "data": {
      "text/plain": [
       "<Axes: >"
      ]
     },
     "execution_count": 247,
     "metadata": {},
     "output_type": "execute_result"
    },
    {
     "data": {
      "image/png": "[encoded data removed]",
      "text/plain": [
       "<Figure size 640x480 with 1 Axes>"
      ]
     },
     "metadata": {},
     "output_type": "display_data"
    }
   ],
   "source": [
    "sns.boxplot(n_events_per_user)"
   ]
  },
  {
   "cell_type": "code",
   "execution_count": 248,
   "id": "6f8f1cb7-7b35-4d70-935c-74fd376921b4",
   "metadata": {},
   "outputs": [
    {
     "data": {
      "text/plain": [
       "<Axes: >"
      ]
     },
     "execution_count": 248,
     "metadata": {},
     "output_type": "execute_result"
    },
    {
     "data": {
      "image/png": "[encoded data removed]",
      "text/plain": [
       "<Figure size 640x480 with 1 Axes>"
      ]
     },
     "metadata": {},
     "output_type": "display_data"
    }
   ],
   "source": [
    "h = sns.boxplot(n_events_per_user)\n",
    "h.set_yscale('log')\n",
    "h"
   ]
  },
  {
   "cell_type": "markdown",
   "id": "b0a64da1-9c13-405c-8e5d-435c6bc8a0a8",
   "metadata": {},
   "source": [
    "## Number of interactions per item"
   ]
  },
  {
   "cell_type": "code",
   "execution_count": 249,
   "id": "f655eb71-702c-4e2e-aa4d-7b75468e8f9c",
   "metadata": {},
   "outputs": [
    {
     "data": {
      "text/plain": [
       "count    185395.000000\n",
       "mean        353.311583\n",
       "std         624.774896\n",
       "min           1.000000\n",
       "25%           3.000000\n",
       "50%         137.000000\n",
       "75%         428.000000\n",
       "max       15480.000000\n",
       "dtype: float64"
      ]
     },
     "execution_count": 249,
     "metadata": {},
     "output_type": "execute_result"
    }
   ],
   "source": [
    "n_events_per_item.describe()"
   ]
  },
  {
   "cell_type": "code",
   "execution_count": 250,
   "id": "8247cd42-ba42-4f1d-9731-24988d11bc35",
   "metadata": {},
   "outputs": [
    {
     "data": {
      "text/plain": [
       "<Axes: ylabel='Proportion'>"
      ]
     },
     "execution_count": 250,
     "metadata": {},
     "output_type": "execute_result"
    },
    {
     "data": {
      "image/png": "[encoded data removed]",
      "text/plain": [
       "<Figure size 640x480 with 1 Axes>"
      ]
     },
     "metadata": {},
     "output_type": "display_data"
    }
   ],
   "source": [
    "sns.ecdfplot(n_events_per_item)"
   ]
  },
  {
   "cell_type": "code",
   "execution_count": 251,
   "id": "70c34cc9-e7df-4e89-bb01-4b08df0e903d",
   "metadata": {},
   "outputs": [
    {
     "data": {
      "text/plain": [
       "<Axes: ylabel='Count'>"
      ]
     },
     "execution_count": 251,
     "metadata": {},
     "output_type": "execute_result"
    },
    {
     "data": {
      "image/png": "[encoded data removed]",
      "text/plain": [
       "<Figure size 640x480 with 1 Axes>"
      ]
     },
     "metadata": {},
     "output_type": "display_data"
    }
   ],
   "source": [
    "h2 = sns.histplot(n_events_per_item, bins=30)\n",
    "h2.set_yscale(\"log\")\n",
    "h2"
   ]
  },
  {
   "cell_type": "code",
   "execution_count": 252,
   "id": "cbb1fde3-50df-4351-82e0-1fd80e210839",
   "metadata": {},
   "outputs": [
    {
     "data": {
      "text/plain": [
       "<Axes: >"
      ]
     },
     "execution_count": 252,
     "metadata": {},
     "output_type": "execute_result"
    },
    {
     "data": {
      "image/png": "[encoded data removed]",
      "text/plain": [
       "<Figure size 640x480 with 1 Axes>"
      ]
     },
     "metadata": {},
     "output_type": "display_data"
    }
   ],
   "source": [
    "sns.boxplot(n_events_per_item)"
   ]
  },
  {
   "cell_type": "code",
   "execution_count": 253,
   "id": "74b3ade9-b40b-4429-b84e-4c374bbaf455",
   "metadata": {},
   "outputs": [
    {
     "data": {
      "text/plain": [
       "<Axes: >"
      ]
     },
     "execution_count": 253,
     "metadata": {},
     "output_type": "execute_result"
    },
    {
     "data": {
      "image/png": "[encoded data removed]",
      "text/plain": [
       "<Figure size 640x480 with 1 Axes>"
      ]
     },
     "metadata": {},
     "output_type": "display_data"
    }
   ],
   "source": [
    "h4 = sns.boxplot(n_events_per_item)\n",
    "h4.set_yscale('log')\n",
    "h4"
   ]
  },
  {
   "cell_type": "code",
   "execution_count": 254,
   "id": "588b6944-2ffa-4d22-b526-a25ba2775c51",
   "metadata": {},
   "outputs": [
    {
     "data": {
      "text/plain": [
       "item\n",
       "145769    15480\n",
       "171495    15092\n",
       "44153     14581\n",
       "41518     14544\n",
       "179685    13985\n",
       "          ...  \n",
       "118231        1\n",
       "48346         1\n",
       "85236         1\n",
       "138689        1\n",
       "81245         1\n",
       "Name: count, Length: 185395, dtype: int64"
      ]
     },
     "execution_count": 254,
     "metadata": {},
     "output_type": "execute_result"
    }
   ],
   "source": [
    "n_events_per_item = df['item'].value_counts()\n",
    "n_events_per_item"
   ]
  },
  {
   "cell_type": "code",
   "execution_count": 255,
   "id": "f6d40086-906c-4c98-be43-0b2d28708bae",
   "metadata": {},
   "outputs": [
    {
     "data": {
      "text/plain": [
       "item\n",
       "44689      6979\n",
       "47799      6990\n",
       "52647      7004\n",
       "97375      7015\n",
       "21203      7034\n",
       "          ...  \n",
       "179685    13985\n",
       "41518     14544\n",
       "44153     14581\n",
       "171495    15092\n",
       "145769    15480\n",
       "Name: count, Length: 100, dtype: int64"
      ]
     },
     "execution_count": 255,
     "metadata": {},
     "output_type": "execute_result"
    }
   ],
   "source": [
    "top_items.sort_values()"
   ]
  },
  {
   "cell_type": "markdown",
   "id": "618b056d-e2b5-4c5f-bbb9-ed44a570666f",
   "metadata": {},
   "source": [
    "## Wstępna obróbka danych"
   ]
  },
  {
   "cell_type": "markdown",
   "id": "7bf99742-2a15-409c-9f08-c8e41fb0e646",
   "metadata": {},
   "source": [
    "Podział wartości z kolumny `event` tak aby móc dostosować naszą ramkę danych do zadania. "
   ]
  },
  {
   "cell_type": "code",
   "execution_count": 77,
   "id": "1ffd56f4-eb0b-4404-a8f2-378c688644e7",
   "metadata": {},
   "outputs": [],
   "source": [
    "rating = {\n",
    "    'click': 1,\n",
    "    'bookmark': 2,\n",
    "    'chat_click': 3,\n",
    "    'contact_phone_click_1': 3,\n",
    "    'contact_partner_click': 3,\n",
    "    'contact_phone_click_2': 3,\n",
    "    'contact_phone_click_3': 3,\n",
    "    'contact_chat': 3\n",
    "}\n",
    "df['event'] = df['event'].map(rating)\n",
    "df = df.rename(columns={'event': 'label'})\n",
    "df = df.rename(columns={'timestamp': 'time'})"
   ]
  },
  {
   "cell_type": "markdown",
   "id": "433220ab-79d0-4c62-9bcd-159e69dd61be",
   "metadata": {},
   "source": [
    "Ustawiamy liczbę interakcji użytkowników od największej do najmniejszej i sprawdzamy jak wyglądają te liczby."
   ]
  },
  {
   "cell_type": "code",
   "execution_count": 78,
   "id": "40dc3a73-c06e-4bab-b071-1599ed6436b6",
   "metadata": {},
   "outputs": [],
   "source": [
    "user_interaction_counts = df['user'].value_counts()"
   ]
  },
  {
   "cell_type": "code",
   "execution_count": 10,
   "id": "afa36d28-e66b-4202-af15-687b08bd43bd",
   "metadata": {},
   "outputs": [
    {
     "data": {
      "text/plain": [
       "user\n",
       "750207     1310\n",
       "3057718    1308\n",
       "2358298    1308\n",
       "88606      1307\n",
       "2016978    1303\n",
       "           ... \n",
       "1349450       1\n",
       "1508574       1\n",
       "630705        1\n",
       "153841        1\n",
       "2598557       1\n",
       "Name: count, Length: 3295942, dtype: int64"
      ]
     },
     "execution_count": 10,
     "metadata": {},
     "output_type": "execute_result"
    }
   ],
   "source": [
    "user_interaction_counts"
   ]
  },
  {
   "cell_type": "markdown",
   "id": "93819256",
   "metadata": {},
   "source": [
    "Pozbywamy się użytkowników z liczbą interakcji mniejszą niż 100. Mamy nadzieje odsiać w ten sposób użytkowników, którzy nie są regularnymi użytkownikami. Pozbywamy się outlierów korzystając z metody 8 sigm."
   ]
  },
  {
   "cell_type": "code",
   "execution_count": 79,
   "id": "1e5c3fc0",
   "metadata": {},
   "outputs": [],
   "source": [
    "reg_users = user_interaction_counts[user_interaction_counts >= 100]\n",
    "users_to_keep = reg_users[reg_users <= reg_users.mean() + 8*reg_users.std()].index\n",
    "df = df[df['user'].isin(users_to_keep)]"
   ]
  },
  {
   "cell_type": "code",
   "execution_count": 12,
   "id": "ddfc7d54-04c3-4bac-a129-a350e28f8442",
   "metadata": {},
   "outputs": [
    {
     "data": {
      "text/plain": [
       "user\n",
       "64         281\n",
       "87         210\n",
       "107        117\n",
       "187        232\n",
       "207        106\n",
       "          ... \n",
       "3295867    301\n",
       "3295881    156\n",
       "3295889    122\n",
       "3295902    192\n",
       "3295918    102\n",
       "Length: 123531, dtype: int64"
      ]
     },
     "execution_count": 12,
     "metadata": {},
     "output_type": "execute_result"
    }
   ],
   "source": [
    "n_events_per_user = df.groupby('user').size()\n",
    "n_events_per_user"
   ]
  },
  {
   "cell_type": "code",
   "execution_count": 66,
   "id": "ec5c9e67-8354-48b2-be6b-96ada5c0fbb8",
   "metadata": {},
   "outputs": [
    {
     "data": {
      "text/plain": [
       "user\n",
       "605913     1283\n",
       "2094403    1279\n",
       "2533767    1276\n",
       "1596332    1274\n",
       "1584826    1273\n",
       "           ... \n",
       "2122355     100\n",
       "161331      100\n",
       "924630      100\n",
       "420309      100\n",
       "2609154     100\n",
       "Name: count, Length: 123531, dtype: int64"
      ]
     },
     "execution_count": 66,
     "metadata": {},
     "output_type": "execute_result"
    }
   ],
   "source": [
    "df['user'].value_counts()"
   ]
  },
  {
   "cell_type": "code",
   "execution_count": 5,
   "id": "f77a9cb2-c9f2-41b9-aacd-4b13fec62ec2",
   "metadata": {},
   "outputs": [
    {
     "data": {
      "text/plain": [
       "item\n",
       "145769    15480\n",
       "171495    15092\n",
       "44153     14581\n",
       "41518     14544\n",
       "179685    13985\n",
       "          ...  \n",
       "118231        1\n",
       "48346         1\n",
       "85236         1\n",
       "138689        1\n",
       "81245         1\n",
       "Name: count, Length: 185395, dtype: int64"
      ]
     },
     "execution_count": 5,
     "metadata": {},
     "output_type": "execute_result"
    }
   ],
   "source": [
    "df['item'].value_counts()"
   ]
  },
  {
   "cell_type": "code",
   "execution_count": 261,
   "id": "2a692588-fad7-42da-b8b4-7bd202d4a4e4",
   "metadata": {},
   "outputs": [
    {
     "data": {
      "text/plain": [
       "<Axes: ylabel='Count'>"
      ]
     },
     "execution_count": 261,
     "metadata": {},
     "output_type": "execute_result"
    },
    {
     "data": {
      "image/png": "[encoded data removed]",
      "text/plain": [
       "<Figure size 640x480 with 1 Axes>"
      ]
     },
     "metadata": {},
     "output_type": "display_data"
    }
   ],
   "source": [
    "h1 = sns.histplot(n_events_per_user, bins=30)\n",
    "h1.set_yscale(\"log\")\n",
    "h1"
   ]
  },
  {
   "cell_type": "code",
   "execution_count": 262,
   "id": "2e1d0d1c-afeb-4110-9978-4b8f69038492",
   "metadata": {},
   "outputs": [
    {
     "data": {
      "text/plain": [
       "<Axes: >"
      ]
     },
     "execution_count": 262,
     "metadata": {},
     "output_type": "execute_result"
    },
    {
     "data": {
      "image/png": "[encoded data removed]",
      "text/plain": [
       "<Figure size 640x480 with 1 Axes>"
      ]
     },
     "metadata": {},
     "output_type": "display_data"
    }
   ],
   "source": [
    "sns.boxplot(n_events_per_user.values)"
   ]
  },
  {
   "cell_type": "code",
   "execution_count": 263,
   "id": "94fc63ab-519f-4a53-bd63-4a42bbd2d4b7",
   "metadata": {},
   "outputs": [
    {
     "data": {
      "text/plain": [
       "<Axes: >"
      ]
     },
     "execution_count": 263,
     "metadata": {},
     "output_type": "execute_result"
    },
    {
     "data": {
      "image/png": "[encoded data removed]",
      "text/plain": [
       "<Figure size 640x480 with 1 Axes>"
      ]
     },
     "metadata": {},
     "output_type": "display_data"
    }
   ],
   "source": [
    "h = sns.boxplot(n_events_per_user.values)\n",
    "h.set_yscale('log')\n",
    "h"
   ]
  },
  {
   "cell_type": "markdown",
   "id": "576ca802",
   "metadata": {},
   "source": [
    "Pozbywamy się przedmiotów o mniejszej liczbie interakcji niż 1000. Mamy nadzieje, by w ten sposób, zachować przedmioty, które cieszą się przynajmniej umiarkowanym sukcesem. Pozbywamy się outlierów korzystając z metody 9 sigm."
   ]
  },
  {
   "cell_type": "code",
   "execution_count": 80,
   "id": "8cdd28ab",
   "metadata": {},
   "outputs": [],
   "source": [
    "item_interaction_counts = df['item'].value_counts()\n",
    "popular_item = item_interaction_counts[item_interaction_counts >= 1000]\n",
    "items_to_keep = popular_item[popular_item <= popular_item.mean() + 9*popular_item.std()].index\n",
    "df = df[df['item'].isin(items_to_keep)].reset_index(drop=True)"
   ]
  },
  {
   "cell_type": "code",
   "execution_count": 81,
   "id": "8268d556-d8d6-49fa-a7b7-5a7beec8f6c6",
   "metadata": {},
   "outputs": [
    {
     "data": {
      "text/plain": [
       "count    3291.000000\n",
       "mean     1579.654512\n",
       "std       700.431493\n",
       "min      1000.000000\n",
       "25%      1139.000000\n",
       "50%      1355.000000\n",
       "75%      1754.500000\n",
       "max      7276.000000\n",
       "dtype: float64"
      ]
     },
     "execution_count": 81,
     "metadata": {},
     "output_type": "execute_result"
    }
   ],
   "source": [
    "n_events_per_item = df.groupby('item').size()\n",
    "n_events_per_item.describe()"
   ]
  },
  {
   "cell_type": "code",
   "execution_count": 20,
   "id": "d11a8c3a-6fbd-4352-8562-e2af7666748f",
   "metadata": {},
   "outputs": [
    {
     "data": {
      "text/plain": [
       "<Axes: ylabel='Count'>"
      ]
     },
     "execution_count": 20,
     "metadata": {},
     "output_type": "execute_result"
    },
    {
     "data": {
      "image/png": "[encoded data removed]",
      "text/plain": [
       "<Figure size 640x480 with 1 Axes>"
      ]
     },
     "metadata": {},
     "output_type": "display_data"
    }
   ],
   "source": [
    "h2 = sns.histplot(n_events_per_item, bins=30)\n",
    "h2.set_yscale(\"log\")\n",
    "h2"
   ]
  },
  {
   "cell_type": "code",
   "execution_count": 21,
   "id": "d7e9a42e-2675-4a75-9c8b-1094203eeef3",
   "metadata": {},
   "outputs": [
    {
     "data": {
      "text/plain": [
       "<Axes: >"
      ]
     },
     "execution_count": 21,
     "metadata": {},
     "output_type": "execute_result"
    },
    {
     "data": {
      "image/png": "[encoded data removed]",
      "text/plain": [
       "<Figure size 640x480 with 1 Axes>"
      ]
     },
     "metadata": {},
     "output_type": "display_data"
    }
   ],
   "source": [
    "sns.boxplot(n_events_per_item.values)"
   ]
  },
  {
   "cell_type": "code",
   "execution_count": 22,
   "id": "edc9707a-10f2-4932-adc6-de555438b508",
   "metadata": {},
   "outputs": [
    {
     "data": {
      "text/plain": [
       "<Axes: >"
      ]
     },
     "execution_count": 22,
     "metadata": {},
     "output_type": "execute_result"
    },
    {
     "data": {
      "image/png": "[encoded data removed]",
      "text/plain": [
       "<Figure size 640x480 with 1 Axes>"
      ]
     },
     "metadata": {},
     "output_type": "display_data"
    }
   ],
   "source": [
    "h4 = sns.boxplot(n_events_per_item.values)\n",
    "h4.set_yscale('log')\n",
    "h4"
   ]
  },
  {
   "cell_type": "markdown",
   "id": "7a3ba1c5",
   "metadata": {},
   "source": [
    "Dla tej kombinacji sigm zaobserwowałem najwyższe gęstość danych."
   ]
  },
  {
   "cell_type": "markdown",
   "id": "1e2cc6ca-ec5e-4cfe-98f7-202e9e27bd8a",
   "metadata": {},
   "source": [
    "Pierwsza filtracja ramki danych. Wybieramy 20% przedmiotów o największej liczbie interakcji."
   ]
  },
  {
   "cell_type": "code",
   "execution_count": 82,
   "id": "dcba46ab-c3a3-4dd9-bd84-3141049c7bc4",
   "metadata": {},
   "outputs": [],
   "source": [
    "# Obliczenie liczby interakcji dla każdego użytkownika\n",
    "user_interaction_counts = df['user'].value_counts()\n",
    "\n",
    "# Obliczenie kwantyla dla top 20% użytkowników\n",
    "top_20_threshold = user_interaction_counts.quantile(0.8)\n",
    "\n",
    "# Wybór użytkowników, którzy są w top 20% o największej liczbie interakcji\n",
    "top_20_users = user_interaction_counts[user_interaction_counts >= top_20_threshold].index\n",
    "\n",
    "# Przefiltrowanie ramki danych, aby pozostawić tylko wybranych użytkowników\n",
    "filtered_df = df[df['user'].isin(top_20_users)]"
   ]
  },
  {
   "cell_type": "code",
   "execution_count": 83,
   "id": "0f26266f-8396-43f2-912f-52bbe6ecd032",
   "metadata": {},
   "outputs": [
    {
     "data": {
      "text/plain": [
       "count    25073.000000\n",
       "mean       110.118055\n",
       "std         60.734549\n",
       "min         61.000000\n",
       "25%         72.000000\n",
       "50%         89.000000\n",
       "75%        124.000000\n",
       "max       1074.000000\n",
       "Name: count, dtype: float64"
      ]
     },
     "execution_count": 83,
     "metadata": {},
     "output_type": "execute_result"
    }
   ],
   "source": [
    "user_interaction_counts = filtered_df['user'].value_counts()\n",
    "\n",
    "# Sortowanie przedmiotow według liczby interakcji od największej do najmniejszej\n",
    "sorted_users = user_interaction_counts.sort_values(ascending=False)\n",
    "\n",
    "# Wyświetlenie statystyk posortowanych przedmiotów\n",
    "sorted_users.describe()"
   ]
  },
  {
   "cell_type": "code",
   "execution_count": 84,
   "id": "86115e1d-ec1e-4490-b2b5-2e853bc55e29",
   "metadata": {},
   "outputs": [
    {
     "data": {
      "text/plain": [
       "count    3291.000000\n",
       "mean      838.951686\n",
       "std       545.276474\n",
       "min        82.000000\n",
       "25%       508.000000\n",
       "50%       723.000000\n",
       "75%       998.500000\n",
       "max      5250.000000\n",
       "Name: count, dtype: float64"
      ]
     },
     "execution_count": 84,
     "metadata": {},
     "output_type": "execute_result"
    }
   ],
   "source": [
    "item_interaction_counts = filtered_df['item'].value_counts()\n",
    "\n",
    "# Sortowanie przedmiotow według liczby interakcji od największej do najmniejszej\n",
    "sorted_items = item_interaction_counts.sort_values(ascending=False)\n",
    "\n",
    "# Wyświetlenie statystyk posortowanych przedmiotów\n",
    "sorted_items.describe()"
   ]
  },
  {
   "cell_type": "code",
   "execution_count": 85,
   "id": "f5cf43fe-563d-405f-a878-6837c85ea3db",
   "metadata": {},
   "outputs": [],
   "source": [
    "# Obliczenie liczby interakcji dla każdego przedmiotu\n",
    "item_interaction_counts = df['item'].value_counts()\n",
    "\n",
    "# Obliczenie kwantyla dla top 20% przedmiotów\n",
    "top_20_threshold = item_interaction_counts.quantile(0.8)\n",
    "\n",
    "# Wybór przedmiotów, które są w top 20% o największej liczbie interakcji\n",
    "top_20_items = item_interaction_counts[item_interaction_counts >= top_20_threshold].index\n",
    "\n",
    "# Przefiltrowanie ramki danych, aby pozostawić tylko wybrane przedmioty\n",
    "filtered_df = filtered_df[filtered_df['item'].isin(top_20_items)]"
   ]
  },
  {
   "cell_type": "code",
   "execution_count": 86,
   "id": "dc788ebe-35d1-425a-9b0e-b36071e8cd47",
   "metadata": {},
   "outputs": [
    {
     "data": {
      "text/plain": [
       "count     659.000000\n",
       "mean     1567.449165\n",
       "std       735.653636\n",
       "min       191.000000\n",
       "25%      1114.000000\n",
       "50%      1429.000000\n",
       "75%      1811.000000\n",
       "max      5250.000000\n",
       "Name: count, dtype: float64"
      ]
     },
     "execution_count": 86,
     "metadata": {},
     "output_type": "execute_result"
    }
   ],
   "source": [
    "item_interaction_counts = filtered_df['item'].value_counts()\n",
    "\n",
    "# Sortowanie przedmiotow według liczby interakcji od największej do najmniejszej\n",
    "sorted_items = item_interaction_counts.sort_values(ascending=False)\n",
    "\n",
    "# Wyświetlenie statystyk posortowanych przedmiotów\n",
    "sorted_items.describe()"
   ]
  },
  {
   "cell_type": "markdown",
   "id": "4bc2e025-10f2-4005-88cd-86ffe5b6627f",
   "metadata": {},
   "source": [
    "To samo robimy dla 20% użytkowników o największej liczbie interakcji."
   ]
  },
  {
   "cell_type": "code",
   "execution_count": 87,
   "id": "1150aec4-8336-481e-bf18-d93d33482eef",
   "metadata": {},
   "outputs": [
    {
     "name": "stdout",
     "output_type": "stream",
     "text": [
      "item\n",
      "66717     5250\n",
      "44153     5098\n",
      "16819     5049\n",
      "171495    4957\n",
      "179685    4912\n",
      "Name: count, dtype: int64\n",
      "user\n",
      "1288580    1054\n",
      "1948352     537\n",
      "2090363     484\n",
      "3049290     468\n",
      "239584      396\n",
      "Name: count, dtype: int64\n"
     ]
    }
   ],
   "source": [
    "item_interaction_counts = filtered_df['item'].value_counts()\n",
    "\n",
    "# Sortowanie przedmiotów według liczby interakcji od największej do najmniejszej\n",
    "sorted_items = item_interaction_counts.sort_values(ascending=False)\n",
    "\n",
    "# Wyświetlenie posortowanych przedmiotów\n",
    "print(sorted_items.head())\n",
    "\n",
    "user_interaction_counts = filtered_df['user'].value_counts()\n",
    "\n",
    "# Sortowanie użytkowników według liczby interakcji od największej do najmniejszej\n",
    "sorted_users = user_interaction_counts.sort_values(ascending=False)\n",
    "\n",
    "# Wyświetlenie posortowanych użytkowników\n",
    "print(sorted_users.head())"
   ]
  },
  {
   "cell_type": "markdown",
   "id": "0bfcec25-62cf-49a8-96a5-d77036c88035",
   "metadata": {},
   "source": [
    "Porównujemy proporcję przedmioty / użytkownicy w wejściowej ramce danych oraz przefiltrowanej. Jak widzimy, proporcja ta jest prawie identyczna."
   ]
  },
  {
   "cell_type": "code",
   "execution_count": 88,
   "id": "d3a14eb6-4625-46b9-ba54-7fc6eb31c011",
   "metadata": {},
   "outputs": [
    {
     "name": "stdout",
     "output_type": "stream",
     "text": [
      "25060\n",
      "659\n",
      "2.6296887470071826\n"
     ]
    },
    {
     "data": {
      "text/plain": [
       "2.6695544253279144"
      ]
     },
     "execution_count": 88,
     "metadata": {},
     "output_type": "execute_result"
    }
   ],
   "source": [
    "count_users_before = df['user'].nunique()\n",
    "count_items_before = df['item'].nunique()\n",
    "count_users = filtered_df['user'].nunique()\n",
    "print(count_users)\n",
    "count_items = filtered_df['item'].nunique()\n",
    "print(count_items)\n",
    "print(count_items/count_users * 100)\n",
    "count_items_before/count_users_before * 100"
   ]
  },
  {
   "cell_type": "markdown",
   "id": "d8cc2883-696a-4905-adc4-9f4eeafafb26",
   "metadata": {},
   "source": [
    "Kolejna filtracja ramki danych. Teraz losowo wybieramy x% unikatowych przedmiotów i użytkowników tak, aby maszyny, na których pracujemy nie miały problemów z pamięcią."
   ]
  },
  {
   "cell_type": "code",
   "execution_count": 89,
   "id": "2f497bc9-b221-46f2-8ae0-3ba7b0449301",
   "metadata": {},
   "outputs": [],
   "source": [
    "# Procent użytkowników i przedmiotów do wyboru\n",
    "sample_percent = 1\n",
    "\n",
    "# Wybór x% unikatowych użytkowników\n",
    "sampled_users = filtered_df.drop_duplicates('user').sample(frac=sample_percent, random_state=2024)\n",
    "\n",
    "# Wybór x% unikatowych przedmiotów\n",
    "sampled_items = filtered_df.drop_duplicates('item').sample(frac=sample_percent, random_state=2024)\n",
    "\n",
    "# Przefiltrowanie przefiltrowanej ramki danych, aby pozostawić tylko wybrane użytkowniki\n",
    "filtered_df_users = filtered_df[filtered_df['user'].isin(sampled_users['user'])]\n",
    "\n",
    "# Przefiltrowanie wynikowej ramki danych, aby pozostawić tylko wybrane przedmioty\n",
    "filtered_df = filtered_df_users[filtered_df_users['item'].isin(sampled_items['item'])]"
   ]
  },
  {
   "cell_type": "markdown",
   "id": "c6879e08-1f3e-47e0-a7e2-9fb4206d159f",
   "metadata": {},
   "source": [
    "Znów sprawdzmy proporcję przedmioty / użytkownicy. "
   ]
  },
  {
   "cell_type": "code",
   "execution_count": 90,
   "id": "51820449-aa69-4bab-9f8e-99cf0a4d343b",
   "metadata": {},
   "outputs": [
    {
     "name": "stdout",
     "output_type": "stream",
     "text": [
      "25060\n",
      "659\n",
      "2.6296887470071826\n"
     ]
    },
    {
     "data": {
      "text/plain": [
       "2.6695544253279144"
      ]
     },
     "execution_count": 90,
     "metadata": {},
     "output_type": "execute_result"
    }
   ],
   "source": [
    "count_users = filtered_df['user'].nunique()\n",
    "print(count_users)\n",
    "count_items = filtered_df['item'].nunique()\n",
    "print(count_items)\n",
    "print(count_items/count_users * 100)\n",
    "count_items_before/count_users_before * 100"
   ]
  },
  {
   "cell_type": "markdown",
   "id": "ba43667b-bb92-4c2a-b3a2-08e67c5ac997",
   "metadata": {},
   "source": [
    "Implementujemy kod z biblioteki LibRecommender dzielący dane na zbiór treningowy i ewaluacyjny."
   ]
  },
  {
   "cell_type": "code",
   "execution_count": 91,
   "id": "63784e71-5702-44de-8663-39ecfffce5bc",
   "metadata": {},
   "outputs": [
    {
     "name": "stdout",
     "output_type": "stream",
     "text": [
      "n_users: 25041, n_items: 659, data density: 4.3817 %\n"
     ]
    }
   ],
   "source": [
    "train_data, eval_data, test_data = random_split(filtered_df, multi_ratios=[0.7, 0.1, 0.2])\n",
    "train_data, data_info = DatasetPure.build_trainset(train_data)\n",
    "eval_data = DatasetPure.build_evalset(eval_data)\n",
    "test_data = DatasetPure.build_testset(test_data)\n",
    "print(data_info)"
   ]
  },
  {
   "cell_type": "code",
   "execution_count": 92,
   "id": "03fb946f-6c09-41b9-94d5-a60fe3b7b097",
   "metadata": {},
   "outputs": [],
   "source": [
    "lightgcn = LightGCN(\n",
    "    task=\"ranking\",\n",
    "    data_info=data_info,\n",
    "    loss_type=\"bpr\",\n",
    "    embed_size=32,\n",
    "    n_epochs=3,\n",
    "    lr=1e-3,\n",
    "    batch_size=2048,\n",
    "    num_neg=1,\n",
    "    device=\"cuda\"\n",
    ")"
   ]
  },
  {
   "cell_type": "code",
   "execution_count": 93,
   "id": "04ad33bd-44a1-43fe-88fb-a8b09ab40ef2",
   "metadata": {},
   "outputs": [
    {
     "name": "stdout",
     "output_type": "stream",
     "text": [
      "Training start time: \u001b[35m2024-03-06 19:49:18\u001b[0m\n"
     ]
    },
    {
     "name": "stderr",
     "output_type": "stream",
     "text": [
      "train: 100%|█████████████████████████████████████████████████████████████████████████| 354/354 [01:19<00:00,  4.45it/s]\n"
     ]
    },
    {
     "name": "stdout",
     "output_type": "stream",
     "text": [
      "Epoch 1 elapsed: 79.539s\n",
      "\t \u001b[32mtrain_loss: 0.4866\u001b[0m\n"
     ]
    },
    {
     "name": "stderr",
     "output_type": "stream",
     "text": [
      "eval_pointwise: 100%|█████████████████████████████████████████████████████████████████| 26/26 [00:00<00:00, 508.87it/s]\n",
      "C:\\Users\\marci\\anaconda3\\Lib\\site-packages\\sklearn\\metrics\\_classification.py:2910: FutureWarning: Setting the eps parameter is deprecated and will be removed in 1.5. Instead eps will always havea default value of `np.finfo(y_pred.dtype).eps`.\n",
      "  warnings.warn(\n",
      "eval_listwise: 100%|█████████████████████████████████████████████████████████████| 1927/1927 [00:01<00:00, 1563.78it/s]\n"
     ]
    },
    {
     "name": "stdout",
     "output_type": "stream",
     "text": [
      "\t eval log_loss: 0.5156\n",
      "\t eval precision@10: 0.0278\n",
      "\t eval recall@10: 0.0756\n",
      "\t eval ndcg@10: 0.1220\n",
      "\t eval map@10: 0.0870\n",
      "==============================\n"
     ]
    },
    {
     "name": "stderr",
     "output_type": "stream",
     "text": [
      "train: 100%|█████████████████████████████████████████████████████████████████████████| 354/354 [01:20<00:00,  4.42it/s]\n"
     ]
    },
    {
     "name": "stdout",
     "output_type": "stream",
     "text": [
      "Epoch 2 elapsed: 80.090s\n",
      "\t \u001b[32mtrain_loss: 0.2473\u001b[0m\n"
     ]
    },
    {
     "name": "stderr",
     "output_type": "stream",
     "text": [
      "eval_pointwise: 100%|█████████████████████████████████████████████████████████████████| 26/26 [00:00<00:00, 410.12it/s]\n",
      "C:\\Users\\marci\\anaconda3\\Lib\\site-packages\\sklearn\\metrics\\_classification.py:2910: FutureWarning: Setting the eps parameter is deprecated and will be removed in 1.5. Instead eps will always havea default value of `np.finfo(y_pred.dtype).eps`.\n",
      "  warnings.warn(\n",
      "eval_listwise: 100%|█████████████████████████████████████████████████████████████| 1927/1927 [00:01<00:00, 1466.21it/s]\n"
     ]
    },
    {
     "name": "stdout",
     "output_type": "stream",
     "text": [
      "\t eval log_loss: 0.5132\n",
      "\t eval precision@10: 0.0299\n",
      "\t eval recall@10: 0.0830\n",
      "\t eval ndcg@10: 0.1319\n",
      "\t eval map@10: 0.0944\n",
      "==============================\n"
     ]
    },
    {
     "name": "stderr",
     "output_type": "stream",
     "text": [
      "train: 100%|█████████████████████████████████████████████████████████████████████████| 354/354 [01:19<00:00,  4.46it/s]\n"
     ]
    },
    {
     "name": "stdout",
     "output_type": "stream",
     "text": [
      "Epoch 3 elapsed: 79.372s\n",
      "\t \u001b[32mtrain_loss: 0.2059\u001b[0m\n"
     ]
    },
    {
     "name": "stderr",
     "output_type": "stream",
     "text": [
      "eval_pointwise: 100%|█████████████████████████████████████████████████████████████████| 26/26 [00:00<00:00, 460.61it/s]\n",
      "C:\\Users\\marci\\anaconda3\\Lib\\site-packages\\sklearn\\metrics\\_classification.py:2910: FutureWarning: Setting the eps parameter is deprecated and will be removed in 1.5. Instead eps will always havea default value of `np.finfo(y_pred.dtype).eps`.\n",
      "  warnings.warn(\n",
      "eval_listwise: 100%|█████████████████████████████████████████████████████████████| 1927/1927 [00:01<00:00, 1580.76it/s]\n"
     ]
    },
    {
     "name": "stdout",
     "output_type": "stream",
     "text": [
      "\t eval log_loss: 0.5192\n",
      "\t eval precision@10: 0.0314\n",
      "\t eval recall@10: 0.0880\n",
      "\t eval ndcg@10: 0.1384\n",
      "\t eval map@10: 0.0993\n",
      "==============================\n",
      "CPU times: total: 13min 30s\n",
      "Wall time: 4min 8s\n"
     ]
    }
   ],
   "source": [
    "%%time\n",
    "# można też spróbować %%timeit jeśli kod się będzie w miarę krótko wykonywał (liczy średnii czas wykonywania komórki) \n",
    "lightgcn.fit(\n",
    "    train_data,\n",
    "    neg_sampling=True,\n",
    "    verbose=2,\n",
    "    eval_data=eval_data,\n",
    "    metrics=[\"loss\", \"precision\", \"recall\", \"ndcg\", \"map\"]\n",
    ")"
   ]
  },
  {
   "cell_type": "markdown",
   "id": "21dc48a6-30db-4baf-908e-2e6fdcb82bb6",
   "metadata": {},
   "source": [
    "Czemu eval log loss wzrasta??"
   ]
  },
  {
   "cell_type": "code",
   "execution_count": 94,
   "id": "886464e9-e94f-458e-8c72-c093a51889d1",
   "metadata": {},
   "outputs": [
    {
     "name": "stderr",
     "output_type": "stream",
     "text": [
      "eval_pointwise: 100%|█████████████████████████████████████████████████████████████████| 51/51 [00:00<00:00, 520.55it/s]\n",
      "C:\\Users\\marci\\anaconda3\\Lib\\site-packages\\sklearn\\metrics\\_classification.py:2910: FutureWarning: Setting the eps parameter is deprecated and will be removed in 1.5. Instead eps will always havea default value of `np.finfo(y_pred.dtype).eps`.\n",
      "  warnings.warn(\n",
      "eval_listwise: 100%|█████████████████████████████████████████████████████████████| 2055/2055 [00:01<00:00, 1540.11it/s]\n"
     ]
    },
    {
     "name": "stdout",
     "output_type": "stream",
     "text": [
      "CPU times: total: 5.23 s\n",
      "Wall time: 2.91 s\n"
     ]
    },
    {
     "data": {
      "text/plain": [
       "{'loss': 0.5122572777390915,\n",
       " 'roc_auc': 0.9132106554920183,\n",
       " 'precision': 0.05590669371196754,\n",
       " 'recall': 0.09284837157274571,\n",
       " 'ndcg': 0.21887501964633027,\n",
       " 'map': 0.15722008456625272}"
      ]
     },
     "execution_count": 94,
     "metadata": {},
     "output_type": "execute_result"
    }
   ],
   "source": [
    "%%time\n",
    "evaluate(\n",
    "    model=lightgcn,\n",
    "    data=test_data,\n",
    "    neg_sampling=True,\n",
    "    metrics=[\"loss\", \"precision\", \"recall\", \"ndcg\", \"map\", \"roc_auc\"]\n",
    ")"
   ]
  },
  {
   "cell_type": "code",
   "execution_count": 95,
   "id": "eaca7185-673a-4e8f-b6c3-9cf8d9118da9",
   "metadata": {},
   "outputs": [
    {
     "name": "stderr",
     "output_type": "stream",
     "text": [
      "eval_pointwise: 100%|█████████████████████████████████████████████████████████████████| 51/51 [00:00<00:00, 530.81it/s]\n",
      "C:\\Users\\marci\\anaconda3\\Lib\\site-packages\\sklearn\\metrics\\_classification.py:2910: FutureWarning: Setting the eps parameter is deprecated and will be removed in 1.5. Instead eps will always havea default value of `np.finfo(y_pred.dtype).eps`.\n",
      "  warnings.warn(\n",
      "eval_listwise: 100%|█████████████████████████████████████████████████████████████| 2055/2055 [00:01<00:00, 1509.16it/s]\n"
     ]
    },
    {
     "data": {
      "text/plain": [
       "{'loss': 0.5122572777390915,\n",
       " 'precision': 0.06623123732251522,\n",
       " 'recall': 0.05572923901760092,\n",
       " 'ndcg': 0.1795673125181513,\n",
       " 'map': 0.14738381885128138}"
      ]
     },
     "execution_count": 95,
     "metadata": {},
     "output_type": "execute_result"
    }
   ],
   "source": [
    "evaluate(\n",
    "    model=lightgcn,\n",
    "    data=test_data,\n",
    "    neg_sampling=True,\n",
    "    metrics=[\"loss\", \"precision\", \"recall\", \"ndcg\", \"map\"],\n",
    "    k=5\n",
    ")"
   ]
  },
  {
   "cell_type": "code",
   "execution_count": 96,
   "id": "8d8d1abf-72ca-43c2-99b3-3a32acb07619",
   "metadata": {},
   "outputs": [
    {
     "name": "stderr",
     "output_type": "stream",
     "text": [
      "eval_pointwise: 100%|█████████████████████████████████████████████████████████████████| 51/51 [00:00<00:00, 541.44it/s]\n",
      "C:\\Users\\marci\\anaconda3\\Lib\\site-packages\\sklearn\\metrics\\_classification.py:2910: FutureWarning: Setting the eps parameter is deprecated and will be removed in 1.5. Instead eps will always havea default value of `np.finfo(y_pred.dtype).eps`.\n",
      "  warnings.warn(\n",
      "eval_listwise: 100%|█████████████████████████████████████████████████████████████| 2055/2055 [00:01<00:00, 1588.11it/s]\n"
     ]
    },
    {
     "data": {
      "text/plain": [
       "{'loss': 0.5122572777390915,\n",
       " 'precision': 0.07920892494929006,\n",
       " 'recall': 0.02716131169324072,\n",
       " 'ndcg': 0.1251642902352959,\n",
       " 'map': 0.11728194726166329}"
      ]
     },
     "execution_count": 96,
     "metadata": {},
     "output_type": "execute_result"
    }
   ],
   "source": [
    "evaluate(\n",
    "    model=lightgcn,\n",
    "    data=test_data,\n",
    "    neg_sampling=True,\n",
    "    metrics=[\"loss\", \"precision\", \"recall\", \"ndcg\", \"map\"],\n",
    "    k=2\n",
    ")"
   ]
  },
  {
   "cell_type": "code",
   "execution_count": 97,
   "id": "035aeaa0-5d25-431c-9dd3-615ae0c8089a",
   "metadata": {},
   "outputs": [
    {
     "name": "stderr",
     "output_type": "stream",
     "text": [
      "eval_pointwise: 100%|█████████████████████████████████████████████████████████████████| 51/51 [00:00<00:00, 532.53it/s]\n",
      "C:\\Users\\marci\\anaconda3\\Lib\\site-packages\\sklearn\\metrics\\_classification.py:2910: FutureWarning: Setting the eps parameter is deprecated and will be removed in 1.5. Instead eps will always havea default value of `np.finfo(y_pred.dtype).eps`.\n",
      "  warnings.warn(\n",
      "eval_listwise: 100%|█████████████████████████████████████████████████████████████| 2055/2055 [00:01<00:00, 1831.83it/s]\n"
     ]
    },
    {
     "data": {
      "text/plain": [
       "{'loss': 0.5122572777390915,\n",
       " 'precision': 0.08718052738336714,\n",
       " 'recall': 0.015040754044757227,\n",
       " 'ndcg': 0.08718052738336714,\n",
       " 'map': 0.08718052738336714}"
      ]
     },
     "execution_count": 97,
     "metadata": {},
     "output_type": "execute_result"
    }
   ],
   "source": [
    "evaluate(\n",
    "    model=lightgcn,\n",
    "    data=test_data,\n",
    "    neg_sampling=True,\n",
    "    metrics=[\"loss\", \"precision\", \"recall\", \"ndcg\", \"map\"],\n",
    "    k=1\n",
    ")"
   ]
  },
  {
   "cell_type": "markdown",
   "id": "da996bb6-7934-4b1a-9bc7-b638add7a34d",
   "metadata": {},
   "source": [
    "Wszystko poniżej tego kawałka kodu to zabawy w zmianę funkcji straty, zmiana parametrów itd itp."
   ]
  },
  {
   "cell_type": "code",
   "execution_count": null,
   "id": "14e11014-ccf0-4073-8130-4c1d9b88d4eb",
   "metadata": {},
   "outputs": [
    {
     "name": "stdout",
     "output_type": "stream",
     "text": [
      "Training start time: \u001b[35m2024-03-06 19:54:48\u001b[0m\n"
     ]
    },
    {
     "name": "stderr",
     "output_type": "stream",
     "text": [
      "train: 100%|███████████████████████████████████████████████████████████████████████| 2825/2825 [10:22<00:00,  4.54it/s]\n"
     ]
    },
    {
     "name": "stdout",
     "output_type": "stream",
     "text": [
      "Epoch 1 elapsed: 622.265s\n",
      "\t \u001b[32mtrain_loss: 0.5123\u001b[0m\n"
     ]
    },
    {
     "name": "stderr",
     "output_type": "stream",
     "text": [
      "eval_pointwise: 100%|█████████████████████████████████████████████████████████████████| 26/26 [00:00<00:00, 484.75it/s]\n",
      "C:\\Users\\marci\\anaconda3\\Lib\\site-packages\\sklearn\\metrics\\_classification.py:2910: FutureWarning: Setting the eps parameter is deprecated and will be removed in 1.5. Instead eps will always havea default value of `np.finfo(y_pred.dtype).eps`.\n",
      "  warnings.warn(\n",
      "eval_listwise: 100%|█████████████████████████████████████████████████████████████| 1927/1927 [00:01<00:00, 1580.79it/s]\n"
     ]
    },
    {
     "name": "stdout",
     "output_type": "stream",
     "text": [
      "\t eval log_loss: 0.4802\n",
      "\t eval precision@10: 0.0303\n",
      "\t eval recall@10: 0.0847\n",
      "\t eval ndcg@10: 0.1340\n",
      "\t eval map@10: 0.0960\n",
      "==============================\n"
     ]
    },
    {
     "name": "stderr",
     "output_type": "stream",
     "text": [
      "train: 100%|███████████████████████████████████████████████████████████████████████| 2825/2825 [10:24<00:00,  4.52it/s]\n"
     ]
    },
    {
     "name": "stdout",
     "output_type": "stream",
     "text": [
      "Epoch 2 elapsed: 624.808s\n",
      "\t \u001b[32mtrain_loss: 0.4737\u001b[0m\n"
     ]
    },
    {
     "name": "stderr",
     "output_type": "stream",
     "text": [
      "eval_pointwise: 100%|█████████████████████████████████████████████████████████████████| 26/26 [00:00<00:00, 446.27it/s]\n",
      "C:\\Users\\marci\\anaconda3\\Lib\\site-packages\\sklearn\\metrics\\_classification.py:2910: FutureWarning: Setting the eps parameter is deprecated and will be removed in 1.5. Instead eps will always havea default value of `np.finfo(y_pred.dtype).eps`.\n",
      "  warnings.warn(\n",
      "eval_listwise: 100%|█████████████████████████████████████████████████████████████| 1927/1927 [00:01<00:00, 1601.83it/s]\n"
     ]
    },
    {
     "name": "stdout",
     "output_type": "stream",
     "text": [
      "\t eval log_loss: 0.4710\n",
      "\t eval precision@10: 0.0317\n",
      "\t eval recall@10: 0.0901\n",
      "\t eval ndcg@10: 0.1396\n",
      "\t eval map@10: 0.0997\n",
      "==============================\n"
     ]
    },
    {
     "name": "stderr",
     "output_type": "stream",
     "text": [
      "train:  83%|███████████████████████████████████████████████████████████▏           | 2357/2825 [08:49<01:43,  4.51it/s]"
     ]
    }
   ],
   "source": [
    "lightgcn = LightGCN(\n",
    "    task=\"ranking\",\n",
    "    data_info=data_info,\n",
    "    loss_type=\"cross_entropy\",\n",
    "    embed_size=32,\n",
    "    n_epochs=5,\n",
    "    lr=0.001,\n",
    "    batch_size=512,\n",
    "    num_neg=1,\n",
    "    device=\"cuda\"\n",
    ")\n",
    "\n",
    "lightgcn.fit(\n",
    "    train_data,\n",
    "    neg_sampling=True,\n",
    "    verbose=2,\n",
    "    eval_data=eval_data,\n",
    "    metrics=[\"loss\", \"precision\", \"recall\", \"ndcg\", \"map\"]\n",
    ")\n",
    "\n",
    "evaluate(\n",
    "    model=lightgcn,\n",
    "    data=test_data,\n",
    "    neg_sampling=True,\n",
    "    metrics=[\"loss\", \"precision\", \"recall\", \"ndcg\", \"map\", \"roc_auc\"]\n",
    ")"
   ]
  },
  {
   "cell_type": "code",
   "execution_count": null,
   "id": "1d3b4d5f-0f55-4ef4-b7f5-b9b0ca05a30f",
   "metadata": {},
   "outputs": [],
   "source": [
    "lightgcn = LightGCN(\n",
    "    task=\"ranking\",\n",
    "    data_info=data_info,\n",
    "    loss_type=\"cross_entropy\",\n",
    "    embed_size=64,\n",
    "    n_epochs=5,\n",
    "    lr=1e-2,\n",
    "    batch_size=2048,\n",
    "    num_neg=1,\n",
    "    device=\"cuda\"\n",
    ")\n",
    "\n",
    "lightgcn.fit(\n",
    "    train_data,\n",
    "    neg_sampling=True,\n",
    "    verbose=2,\n",
    "    eval_data=eval_data,\n",
    "    metrics=[\"loss\", \"precision\", \"recall\", \"ndcg\", \"map\"]\n",
    ")\n",
    "\n",
    "evaluate(\n",
    "    model=lightgcn,\n",
    "    data=test_data,\n",
    "    neg_sampling=True,\n",
    "    metrics=[\"loss\", \"precision\", \"recall\", \"ndcg\", \"map\", \"roc_auc\"]\n",
    ")"
   ]
  },
  {
   "cell_type": "code",
   "execution_count": null,
   "id": "31bbc4b2-3cee-472a-ac60-a6b35137727d",
   "metadata": {},
   "outputs": [],
   "source": [
    "lightgcn = LightGCN(\n",
    "    task=\"ranking\",\n",
    "    data_info=data_info,\n",
    "    loss_type=\"focal\",\n",
    "    embed_size=64,\n",
    "    n_epochs=5,\n",
    "    lr=1e-2,\n",
    "    batch_size=2048,\n",
    "    num_neg=1,\n",
    "    device=\"cuda\"\n",
    ")\n",
    "\n",
    "lightgcn.fit(\n",
    "    train_data,\n",
    "    neg_sampling=True,\n",
    "    verbose=2,\n",
    "    eval_data=eval_data,\n",
    "    metrics=[\"loss\", \"precision\", \"recall\", \"ndcg\", \"map\"]\n",
    ")\n",
    "\n",
    "evaluate(\n",
    "    model=lightgcn,\n",
    "    data=test_data,\n",
    "    neg_sampling=True,\n",
    "    metrics=[\"loss\", \"precision\", \"recall\", \"ndcg\", \"map\", \"roc_auc\"]\n",
    ")"
   ]
  },
  {
   "cell_type": "code",
   "execution_count": null,
   "id": "c9dd4f47-e8cd-4446-aadf-3fcdf51aee02",
   "metadata": {},
   "outputs": [],
   "source": [
    "lightgcn = LightGCN(\n",
    "    task=\"ranking\",\n",
    "    data_info=data_info,\n",
    "    loss_type=\"max_margin\",\n",
    "    embed_size=64,\n",
    "    n_epochs=5,\n",
    "    lr=1e-2,\n",
    "    batch_size=2048,\n",
    "    num_neg=1,\n",
    "    device=\"cuda\"\n",
    ")\n",
    "\n",
    "lightgcn.fit(\n",
    "    train_data,\n",
    "    neg_sampling=True,\n",
    "    verbose=2,\n",
    "    eval_data=eval_data,\n",
    "    metrics=[\"loss\", \"precision\", \"recall\", \"ndcg\", \"map\"]\n",
    ")\n",
    "\n",
    "evaluate(\n",
    "    model=lightgcn,\n",
    "    data=test_data,\n",
    "    neg_sampling=True,\n",
    "    metrics=[\"loss\", \"precision\", \"recall\", \"ndcg\", \"map\", \"roc_auc\"]\n",
    ")"
   ]
  }
 ],
 "metadata": {
  "kernelspec": {
   "display_name": "Python 3 (ipykernel)",
   "language": "python",
   "name": "python3"
  },
  "language_info": {
   "codemirror_mode": {
    "name": "ipython",
    "version": 3
   },
   "file_extension": ".py",
   "mimetype": "text/x-python",
   "name": "python",
   "nbconvert_exporter": "python",
   "pygments_lexer": "ipython3",
   "version": "3.11.5"
  }
 },
 "nbformat": 4,
 "nbformat_minor": 5
}
